{
 "cells": [
  {
   "cell_type": "code",
   "execution_count": null,
   "id": "f92eca0e",
   "metadata": {},
   "outputs": [],
   "source": [
    "# Machine Learning\n",
    "# Supervised Learning(지도학습) - 예측하는 모델, 예측대상(y, target, Label)\n",
    "    #1. Linear Algorithm(회귀분석) - 예측대상이 연속값(continuous)\n",
    "    #2. Classification Model(분류분석) - 예측대상이 불연속값(discrete)\n",
    "# Unsupervised Learning(비지도학습) - 예측하지 않음"
   ]
  },
  {
   "cell_type": "code",
   "execution_count": 50,
   "id": "9e5ee6ec",
   "metadata": {},
   "outputs": [],
   "source": [
    "import pandas as pd\n",
    "import numpy as np\n",
    "import matplotlib.pyplot as plt\n",
    "import seaborn as sns\n",
    "from sklearn.linear_model import LinearRegression\n",
    "from sklearn.model_selection import train_test_split\n",
    "from sklearn.metrics import r2_score"
   ]
  },
  {
   "cell_type": "code",
   "execution_count": 36,
   "id": "49b3f3ad",
   "metadata": {},
   "outputs": [
    {
     "data": {
      "text/html": [
       "<div>\n",
       "<style scoped>\n",
       "    .dataframe tbody tr th:only-of-type {\n",
       "        vertical-align: middle;\n",
       "    }\n",
       "\n",
       "    .dataframe tbody tr th {\n",
       "        vertical-align: top;\n",
       "    }\n",
       "\n",
       "    .dataframe thead th {\n",
       "        text-align: right;\n",
       "    }\n",
       "</style>\n",
       "<table border=\"1\" class=\"dataframe\">\n",
       "  <thead>\n",
       "    <tr style=\"text-align: right;\">\n",
       "      <th></th>\n",
       "      <th>Email</th>\n",
       "      <th>Address</th>\n",
       "      <th>Avatar</th>\n",
       "      <th>Avg. Session Length</th>\n",
       "      <th>Time on App</th>\n",
       "      <th>Time on Website</th>\n",
       "      <th>Length of Membership</th>\n",
       "      <th>Yearly Amount Spent</th>\n",
       "    </tr>\n",
       "  </thead>\n",
       "  <tbody>\n",
       "    <tr>\n",
       "      <th>0</th>\n",
       "      <td>mstephenson@fernandez.com</td>\n",
       "      <td>835 Frank Tunnel\\nWrightmouth, MI 82180-9605</td>\n",
       "      <td>Violet</td>\n",
       "      <td>34.497268</td>\n",
       "      <td>12.655651</td>\n",
       "      <td>39.577668</td>\n",
       "      <td>4.082621</td>\n",
       "      <td>587.951054</td>\n",
       "    </tr>\n",
       "    <tr>\n",
       "      <th>1</th>\n",
       "      <td>hduke@hotmail.com</td>\n",
       "      <td>4547 Archer Common\\nDiazchester, CA 06566-8576</td>\n",
       "      <td>DarkGreen</td>\n",
       "      <td>31.926272</td>\n",
       "      <td>11.109461</td>\n",
       "      <td>37.268959</td>\n",
       "      <td>2.664034</td>\n",
       "      <td>392.204933</td>\n",
       "    </tr>\n",
       "    <tr>\n",
       "      <th>2</th>\n",
       "      <td>pallen@yahoo.com</td>\n",
       "      <td>24645 Valerie Unions Suite 582\\nCobbborough, D...</td>\n",
       "      <td>Bisque</td>\n",
       "      <td>33.000915</td>\n",
       "      <td>11.330278</td>\n",
       "      <td>37.110597</td>\n",
       "      <td>4.104543</td>\n",
       "      <td>487.547505</td>\n",
       "    </tr>\n",
       "    <tr>\n",
       "      <th>3</th>\n",
       "      <td>riverarebecca@gmail.com</td>\n",
       "      <td>1414 David Throughway\\nPort Jason, OH 22070-1220</td>\n",
       "      <td>SaddleBrown</td>\n",
       "      <td>34.305557</td>\n",
       "      <td>13.717514</td>\n",
       "      <td>36.721283</td>\n",
       "      <td>3.120179</td>\n",
       "      <td>581.852344</td>\n",
       "    </tr>\n",
       "    <tr>\n",
       "      <th>4</th>\n",
       "      <td>mstephens@davidson-herman.com</td>\n",
       "      <td>14023 Rodriguez Passage\\nPort Jacobville, PR 3...</td>\n",
       "      <td>MediumAquaMarine</td>\n",
       "      <td>33.330673</td>\n",
       "      <td>12.795189</td>\n",
       "      <td>37.536653</td>\n",
       "      <td>4.446308</td>\n",
       "      <td>599.406092</td>\n",
       "    </tr>\n",
       "  </tbody>\n",
       "</table>\n",
       "</div>"
      ],
      "text/plain": [
       "                           Email  \\\n",
       "0      mstephenson@fernandez.com   \n",
       "1              hduke@hotmail.com   \n",
       "2               pallen@yahoo.com   \n",
       "3        riverarebecca@gmail.com   \n",
       "4  mstephens@davidson-herman.com   \n",
       "\n",
       "                                             Address            Avatar  \\\n",
       "0       835 Frank Tunnel\\nWrightmouth, MI 82180-9605            Violet   \n",
       "1     4547 Archer Common\\nDiazchester, CA 06566-8576         DarkGreen   \n",
       "2  24645 Valerie Unions Suite 582\\nCobbborough, D...            Bisque   \n",
       "3   1414 David Throughway\\nPort Jason, OH 22070-1220       SaddleBrown   \n",
       "4  14023 Rodriguez Passage\\nPort Jacobville, PR 3...  MediumAquaMarine   \n",
       "\n",
       "   Avg. Session Length  Time on App  Time on Website  Length of Membership  \\\n",
       "0            34.497268    12.655651        39.577668              4.082621   \n",
       "1            31.926272    11.109461        37.268959              2.664034   \n",
       "2            33.000915    11.330278        37.110597              4.104543   \n",
       "3            34.305557    13.717514        36.721283              3.120179   \n",
       "4            33.330673    12.795189        37.536653              4.446308   \n",
       "\n",
       "   Yearly Amount Spent  \n",
       "0           587.951054  \n",
       "1           392.204933  \n",
       "2           487.547505  \n",
       "3           581.852344  \n",
       "4           599.406092  "
      ]
     },
     "execution_count": 36,
     "metadata": {},
     "output_type": "execute_result"
    }
   ],
   "source": [
    "df = pd.read_csv('./data/ml_source_files/Ecommerce Customers.txt')\n",
    "df.head()"
   ]
  },
  {
   "cell_type": "code",
   "execution_count": 37,
   "id": "8aafea2b",
   "metadata": {},
   "outputs": [
    {
     "name": "stdout",
     "output_type": "stream",
     "text": [
      "<class 'pandas.core.frame.DataFrame'>\n",
      "RangeIndex: 500 entries, 0 to 499\n",
      "Data columns (total 8 columns):\n",
      " #   Column                Non-Null Count  Dtype  \n",
      "---  ------                --------------  -----  \n",
      " 0   Email                 500 non-null    object \n",
      " 1   Address               500 non-null    object \n",
      " 2   Avatar                500 non-null    object \n",
      " 3   Avg. Session Length   500 non-null    float64\n",
      " 4   Time on App           500 non-null    float64\n",
      " 5   Time on Website       500 non-null    float64\n",
      " 6   Length of Membership  500 non-null    float64\n",
      " 7   Yearly Amount Spent   500 non-null    float64\n",
      "dtypes: float64(5), object(3)\n",
      "memory usage: 31.4+ KB\n"
     ]
    }
   ],
   "source": [
    "df.info()"
   ]
  },
  {
   "cell_type": "code",
   "execution_count": 38,
   "id": "15ba3466",
   "metadata": {},
   "outputs": [],
   "source": [
    "# 연간 지출금액을 예측하는 회귀모델"
   ]
  },
  {
   "cell_type": "code",
   "execution_count": 39,
   "id": "d5908ce9",
   "metadata": {},
   "outputs": [],
   "source": [
    "y = df['Yearly Amount Spent'] \n",
    "x = df.drop(['Address','Email','Avatar','Yearly Amount Spent'], axis=1)# 예측대상은 인풋값으로 넣어주면안됨.\n",
    "#리니어 어그레션이 애초에 숫자형 데이터 분석하는기법임. "
   ]
  },
  {
   "cell_type": "code",
   "execution_count": 40,
   "id": "94d85575",
   "metadata": {},
   "outputs": [],
   "source": [
    "# train test로 분리하는 이유 \n",
    "# train - 학습용 데이터 (잘 예측함) \n",
    "# test - 모델을 평가 시 사용할 데이터 .. (모델을 테스트할 때는 모델을 훈련할 때 이용한 데이터가 포함되면 안됨)\n",
    "# 새로운데이터를 예측해야하니까 분류하는것임.."
   ]
  },
  {
   "cell_type": "code",
   "execution_count": 41,
   "id": "b001a982",
   "metadata": {},
   "outputs": [],
   "source": [
    "# 구조는 다 동일함 \n",
    "# x,y 데이터 가져와서\n",
    "# train_test_split으로 일정비율로 train이랑 test로 나누고\n",
    "# 변수에 만들고자 하는 모델 넣고 \n",
    "# 지정한 변수에 x_train, y_train으로 fit해서 모델 내부 파라미터 설정하고\n",
    "# 나온결과를 predict로 뽑아내고 \n",
    "# 그걸 수치화시켜서 비교하는거임\n",
    "# 오차를 계산해주는게 LinearRegression 즉 for문으로 코드를 짤 필요없음 (최적의 값을 찾아줌)\n",
    "# 코드를 짜는건 전처리고 모든 기능은 sklearn 이 다 처리해줌 "
   ]
  },
  {
   "cell_type": "code",
   "execution_count": 42,
   "id": "f73ccb0d",
   "metadata": {},
   "outputs": [],
   "source": [
    "# 트레인을 300개쓰고 테스트를 300개 테스트로 쓰곘다 하면 \n",
    "# x_train = x[:300]\n",
    "# x_test = x[300:]\n",
    "\n",
    "# y_train = y[:300]\n",
    "# y_test = yp[300:] 이짓을 할 필요가 없다 sklearn이 해주기때문 "
   ]
  },
  {
   "cell_type": "code",
   "execution_count": null,
   "id": "9c505240",
   "metadata": {},
   "outputs": [],
   "source": []
  },
  {
   "cell_type": "code",
   "execution_count": 43,
   "id": "3c715a05",
   "metadata": {},
   "outputs": [],
   "source": [
    "x_train,x_test,y_train,y_test = train_test_split(x,y,test_size=0.2, random_state=111) #80퍼를 트레인으로써라 \n",
    "#  shuffle 데이터를 트레인셋으로 나눌때 랜덤하게 뽑음 => 데이터를 입력할때 예를들어 어떤사람이 \n",
    "# 앞쪽에는 헤비사용자를 넣고 라이트사용자를 뒤에넣었으면 데이터가 한쪽에 쏠려서 트레인쪽에는 헤비가 들어가고 테스트에는 라이트가 들어가기때문에 \n",
    "# 근데 셔플을 사용하면 데이터가 쏠리지않음. 근데 시계형데이터는 테스트셋을쓰면안됨.. 셔플하면 시계열이 없어짐. 그래서 시계열데이터는 위에쓴것처럼 사용해야함\n",
    "# 셔플이 계속되면 전과 비교를 할 수 없는데 랜덤스테이트를 주게되면 동일하게 랜덤해진다."
   ]
  },
  {
   "cell_type": "code",
   "execution_count": 44,
   "id": "7228b265",
   "metadata": {},
   "outputs": [],
   "source": [
    "# 반복해서 에러가 가장적은 회귀선을 찾는것을 for문으로 만들수있지만 리니어리그레션을 인풋해줘도 된다. \n",
    "# LinearRegression Algoritm을 import "
   ]
  },
  {
   "cell_type": "code",
   "execution_count": 45,
   "id": "670b56bc",
   "metadata": {},
   "outputs": [],
   "source": [
    "lr = LinearRegression()"
   ]
  },
  {
   "cell_type": "code",
   "execution_count": 46,
   "id": "7a4045ff",
   "metadata": {},
   "outputs": [
    {
     "data": {
      "text/plain": [
       "LinearRegression()"
      ]
     },
     "execution_count": 46,
     "metadata": {},
     "output_type": "execute_result"
    }
   ],
   "source": [
    "lr.fit(x_train,y_train) \n",
    "#알고리즘을 임포트하고 학습시켜야함. \n",
    "# Algorithm (=machine learning model) train =>fit() => model\n",
    "# 알고리즘.fit(학습용데이터x,학습용데이터y)\n",
    "# 학습용데이터를 x,y에 넣어줌. "
   ]
  },
  {
   "cell_type": "code",
   "execution_count": null,
   "id": "d76beb25",
   "metadata": {},
   "outputs": [],
   "source": [
    "# predict"
   ]
  },
  {
   "cell_type": "code",
   "execution_count": 52,
   "id": "61505021",
   "metadata": {
    "collapsed": true
   },
   "outputs": [
    {
     "data": {
      "text/plain": [
       "array([589.52145964, 449.63900424, 547.82498363, 435.96358626,\n",
       "       516.68062594, 656.70862985, 482.12471604, 500.74397724,\n",
       "       523.55894444, 460.88673205, 543.10720417, 427.3607424 ,\n",
       "       545.48373245, 511.86650309, 390.56061453, 503.79034741,\n",
       "       437.70910695, 392.49543843, 609.39698152, 513.47592204,\n",
       "       412.4019026 , 458.92508507, 556.80185749, 552.85351837,\n",
       "       570.01492483, 609.82384561, 470.84728359, 599.09965226,\n",
       "       398.11837843, 288.43150881, 599.2221111 , 507.45604806,\n",
       "       256.32822976, 472.93402313, 418.66406807, 498.65572273,\n",
       "       433.48507663, 511.75979823, 425.25604665, 424.19475651,\n",
       "       451.01333725, 375.84659588, 394.53260862, 539.84290054,\n",
       "       684.02504064, 374.19424441, 535.4165198 , 593.37847918,\n",
       "       494.10231045, 519.09649673, 702.52737349, 415.15634836,\n",
       "       448.75026788, 563.0000242 , 637.961218  , 576.39082098,\n",
       "       599.20713475, 553.46752633, 481.62941888, 425.70113196,\n",
       "       572.24167229, 402.41029126, 516.5883543 , 569.52330824,\n",
       "       508.92129293, 315.8985367 , 474.25609341, 438.53240512,\n",
       "       481.37682402, 461.70535105, 587.64642958, 426.47052598,\n",
       "       589.27734169, 588.64822471, 572.14631489, 358.09416487,\n",
       "       478.40317139, 547.56214638, 479.58961145, 647.94421374,\n",
       "       503.62315134, 446.20490479, 548.14238198, 482.64810437,\n",
       "       515.38826472, 558.07731451, 542.75361453, 457.07069927,\n",
       "       531.8006526 , 552.19796834, 481.22403032, 764.88664549,\n",
       "       507.31555132, 577.0079752 , 491.08954266, 500.33584333,\n",
       "       511.4735498 , 478.88737304, 536.47421044, 471.48623544])"
      ]
     },
     "execution_count": 52,
     "metadata": {},
     "output_type": "execute_result"
    }
   ],
   "source": [
    "preds = lr.predict(x_test)\n",
    "preds"
   ]
  },
  {
   "cell_type": "code",
   "execution_count": null,
   "id": "b24518dd",
   "metadata": {},
   "outputs": [],
   "source": [
    "#모델이 얼마나 잘 예측 했는지 평가해야함 \n",
    "#model evaluation \n",
    "#회귀모델을평가할때 쓰는 가장 대표적인 지표는 r2_score임"
   ]
  },
  {
   "cell_type": "code",
   "execution_count": 51,
   "id": "21ffb449",
   "metadata": {},
   "outputs": [
    {
     "data": {
      "text/plain": [
       "0.9850895763407302"
      ]
     },
     "execution_count": 51,
     "metadata": {},
     "output_type": "execute_result"
    }
   ],
   "source": [
    "r2_score(preds,y_test) # 회귀모델의 설명력 : ssr/sst 높을수록 오차가줄어들었다."
   ]
  },
  {
   "cell_type": "code",
   "execution_count": 57,
   "id": "218e453d",
   "metadata": {},
   "outputs": [],
   "source": [
    "from sklearn.metrics import mean_squared_error, mean_absolute_error"
   ]
  },
  {
   "cell_type": "code",
   "execution_count": 61,
   "id": "dc58f9a7",
   "metadata": {},
   "outputs": [],
   "source": [
    "# MSE : sig(y - y_hat)**2\n",
    "# RUSE : np.sqrt(sig(y - y_hat)**2)\n",
    "# MAE : sig(abs(y - y_hat))\n",
    "# 회귀모델에서 사용하는 표값"
   ]
  },
  {
   "cell_type": "code",
   "execution_count": 62,
   "id": "e1cb9cfe",
   "metadata": {},
   "outputs": [
    {
     "name": "stdout",
     "output_type": "stream",
     "text": [
      "MSE : 105.36217783098955\n",
      "RUSE: 10.264608021302594\n",
      "MAE : 8.101929980887258\n"
     ]
    }
   ],
   "source": [
    "print('MSE :', mean_squared_error(y_test,preds))\n",
    "print('RUSE:',np.sqrt(mean_squared_error(y_test,preds)))\n",
    "print('MAE :',mean_absolute_error(y_test,preds))"
   ]
  },
  {
   "cell_type": "code",
   "execution_count": null,
   "id": "007ed0b1",
   "metadata": {},
   "outputs": [],
   "source": []
  },
  {
   "cell_type": "code",
   "execution_count": null,
   "id": "c39dca38",
   "metadata": {},
   "outputs": [],
   "source": []
  },
  {
   "cell_type": "code",
   "execution_count": null,
   "id": "fb8230b9",
   "metadata": {},
   "outputs": [],
   "source": []
  },
  {
   "cell_type": "code",
   "execution_count": null,
   "id": "c99a5ab4",
   "metadata": {},
   "outputs": [],
   "source": []
  },
  {
   "cell_type": "code",
   "execution_count": null,
   "id": "b0a4c37c",
   "metadata": {},
   "outputs": [],
   "source": []
  },
  {
   "cell_type": "code",
   "execution_count": null,
   "id": "92c5206d",
   "metadata": {},
   "outputs": [],
   "source": []
  },
  {
   "cell_type": "code",
   "execution_count": null,
   "id": "07e2fab7",
   "metadata": {},
   "outputs": [],
   "source": []
  },
  {
   "cell_type": "code",
   "execution_count": null,
   "id": "9d99f30f",
   "metadata": {},
   "outputs": [],
   "source": []
  },
  {
   "cell_type": "code",
   "execution_count": null,
   "id": "2ab0055f",
   "metadata": {},
   "outputs": [],
   "source": []
  },
  {
   "cell_type": "code",
   "execution_count": null,
   "id": "d8658dda",
   "metadata": {},
   "outputs": [],
   "source": []
  },
  {
   "cell_type": "code",
   "execution_count": null,
   "id": "f6d66faf",
   "metadata": {},
   "outputs": [],
   "source": []
  },
  {
   "cell_type": "code",
   "execution_count": null,
   "id": "49a197e3",
   "metadata": {},
   "outputs": [],
   "source": []
  },
  {
   "cell_type": "code",
   "execution_count": null,
   "id": "3926f42e",
   "metadata": {},
   "outputs": [],
   "source": []
  },
  {
   "cell_type": "code",
   "execution_count": null,
   "id": "a6386c28",
   "metadata": {},
   "outputs": [],
   "source": []
  },
  {
   "cell_type": "code",
   "execution_count": null,
   "id": "a3eb67ac",
   "metadata": {},
   "outputs": [],
   "source": []
  },
  {
   "cell_type": "code",
   "execution_count": null,
   "id": "0727c34c",
   "metadata": {},
   "outputs": [],
   "source": []
  },
  {
   "cell_type": "code",
   "execution_count": null,
   "id": "c9627673",
   "metadata": {},
   "outputs": [],
   "source": []
  },
  {
   "cell_type": "code",
   "execution_count": null,
   "id": "a3c10d69",
   "metadata": {},
   "outputs": [],
   "source": []
  }
 ],
 "metadata": {
  "kernelspec": {
   "display_name": "Python 3 (ipykernel)",
   "language": "python",
   "name": "python3"
  },
  "language_info": {
   "codemirror_mode": {
    "name": "ipython",
    "version": 3
   },
   "file_extension": ".py",
   "mimetype": "text/x-python",
   "name": "python",
   "nbconvert_exporter": "python",
   "pygments_lexer": "ipython3",
   "version": "3.9.7"
  }
 },
 "nbformat": 4,
 "nbformat_minor": 5
}

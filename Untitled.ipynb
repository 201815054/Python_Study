{
 "cells": [
  {
   "cell_type": "code",
   "execution_count": 48,
   "id": "18a990f2",
   "metadata": {},
   "outputs": [],
   "source": [
    "import pandas as pd\n",
    "import numpy as np\n",
    "import matplotlib.pyplot as plt \n",
    "import seaborn as sns"
   ]
  },
  {
   "cell_type": "code",
   "execution_count": 49,
   "id": "f64dc290",
   "metadata": {},
   "outputs": [],
   "source": [
    "# 리지나 라소를 사용해 과적합을 해결 할 수 있다\n",
    "# cost = sigma(y - y_hat)**2/len(y)\n",
    "# error = cost"
   ]
  },
  {
   "cell_type": "code",
   "execution_count": 50,
   "id": "00b2724d",
   "metadata": {
    "collapsed": true
   },
   "outputs": [
    {
     "name": "stdout",
     "output_type": "stream",
     "text": [
      "Requirement already satisfied: mglearn in c:\\users\\sim\\anaconda3\\lib\\site-packages (0.1.9)\n",
      "Requirement already satisfied: pillow in c:\\users\\sim\\anaconda3\\lib\\site-packages (from mglearn) (8.4.0)\n",
      "Requirement already satisfied: cycler in c:\\users\\sim\\anaconda3\\lib\\site-packages (from mglearn) (0.10.0)\n",
      "Requirement already satisfied: imageio in c:\\users\\sim\\anaconda3\\lib\\site-packages (from mglearn) (2.9.0)\n",
      "Requirement already satisfied: pandas in c:\\users\\sim\\anaconda3\\lib\\site-packages (from mglearn) (1.4.1)\n",
      "Requirement already satisfied: scikit-learn in c:\\users\\sim\\anaconda3\\lib\\site-packages (from mglearn) (0.24.2)\n",
      "Requirement already satisfied: numpy in c:\\users\\sim\\anaconda3\\lib\\site-packages (from mglearn) (1.20.3)\n",
      "Requirement already satisfied: joblib in c:\\users\\sim\\anaconda3\\lib\\site-packages (from mglearn) (1.0.1)\n",
      "Requirement already satisfied: matplotlib in c:\\users\\sim\\anaconda3\\lib\\site-packages (from mglearn) (3.4.3)\n",
      "Requirement already satisfied: six in c:\\users\\sim\\anaconda3\\lib\\site-packages (from cycler->mglearn) (1.16.0)\n",
      "Requirement already satisfied: pyparsing>=2.2.1 in c:\\users\\sim\\anaconda3\\lib\\site-packages (from matplotlib->mglearn) (3.0.4)\n",
      "Requirement already satisfied: python-dateutil>=2.7 in c:\\users\\sim\\anaconda3\\lib\\site-packages (from matplotlib->mglearn) (2.8.2)\n",
      "Requirement already satisfied: kiwisolver>=1.0.1 in c:\\users\\sim\\anaconda3\\lib\\site-packages (from matplotlib->mglearn) (1.3.1)\n",
      "Requirement already satisfied: pytz>=2020.1 in c:\\users\\sim\\anaconda3\\lib\\site-packages (from pandas->mglearn) (2021.3)\n",
      "Requirement already satisfied: threadpoolctl>=2.0.0 in c:\\users\\sim\\anaconda3\\lib\\site-packages (from scikit-learn->mglearn) (2.2.0)\n",
      "Requirement already satisfied: scipy>=0.19.1 in c:\\users\\sim\\anaconda3\\lib\\site-packages (from scikit-learn->mglearn) (1.7.1)\n"
     ]
    }
   ],
   "source": [
    "# !pip install mglearn"
   ]
  },
  {
   "cell_type": "code",
   "execution_count": 51,
   "id": "935e12de",
   "metadata": {},
   "outputs": [],
   "source": [
    "import mglearn"
   ]
  },
  {
   "cell_type": "code",
   "execution_count": 52,
   "id": "43e65d3f",
   "metadata": {},
   "outputs": [],
   "source": [
    "x,y = mglearn.datasets.make_wave(n_samples=60)"
   ]
  },
  {
   "cell_type": "code",
   "execution_count": 53,
   "id": "0eb08923",
   "metadata": {},
   "outputs": [
    {
     "data": {
      "text/plain": [
       "array([[-0.75275929],\n",
       "       [ 2.70428584],\n",
       "       [ 1.39196365],\n",
       "       [ 0.59195091],\n",
       "       [-2.06388816]])"
      ]
     },
     "execution_count": 53,
     "metadata": {},
     "output_type": "execute_result"
    }
   ],
   "source": [
    "x[:5]"
   ]
  },
  {
   "cell_type": "code",
   "execution_count": 54,
   "id": "5c221024",
   "metadata": {},
   "outputs": [
    {
     "data": {
      "text/plain": [
       "array([-1.18073311,  0.50015912,  0.13772889,  1.17396178, -1.32035898])"
      ]
     },
     "execution_count": 54,
     "metadata": {},
     "output_type": "execute_result"
    }
   ],
   "source": [
    "y[:5]"
   ]
  },
  {
   "cell_type": "code",
   "execution_count": 55,
   "id": "6eff7a48",
   "metadata": {},
   "outputs": [],
   "source": [
    "# y = wx +b"
   ]
  },
  {
   "cell_type": "code",
   "execution_count": 56,
   "id": "4237affa",
   "metadata": {},
   "outputs": [],
   "source": [
    "from sklearn.model_selection import train_test_split\n",
    "from sklearn.linear_model import LinearRegression"
   ]
  },
  {
   "cell_type": "code",
   "execution_count": 57,
   "id": "6ee9f529",
   "metadata": {},
   "outputs": [],
   "source": [
    "x_train,x_test,y_train,y_test= train_test_split(x,y,random_state=111)"
   ]
  },
  {
   "cell_type": "code",
   "execution_count": 58,
   "id": "517d3352",
   "metadata": {},
   "outputs": [
    {
     "name": "stdout",
     "output_type": "stream",
     "text": [
      "train acc :  0.6967417540853329\n",
      "test acc : 0.5626621101190354\n"
     ]
    }
   ],
   "source": [
    "lr = LinearRegression()\n",
    "lr.fit(x_train,y_train)\n",
    "\n",
    "\n",
    "print('train acc : ', lr.score(x_train, y_train))\n",
    "print('test acc :',lr.score(x_test,y_test))\n",
    "\n",
    "# 일반적으로 트레인데이터가 더 높게나오는건 맞지만\n",
    "# train data의 정확도와 test data의 정확도의 차이가 크다.. => 과적합의 가능성 높음 "
   ]
  },
  {
   "cell_type": "code",
   "execution_count": null,
   "id": "bff565c7",
   "metadata": {},
   "outputs": [],
   "source": []
  },
  {
   "cell_type": "code",
   "execution_count": 59,
   "id": "9cdc2c59",
   "metadata": {},
   "outputs": [],
   "source": [
    "# Ridge, Lasso, Elasticnet"
   ]
  },
  {
   "cell_type": "code",
   "execution_count": 72,
   "id": "19881cca",
   "metadata": {},
   "outputs": [],
   "source": [
    "from sklearn.linear_model import Ridge, Lasso, ElasticNet\n",
    "las =Lasso()"
   ]
  },
  {
   "cell_type": "code",
   "execution_count": 61,
   "id": "c40c27b7",
   "metadata": {},
   "outputs": [
    {
     "name": "stdout",
     "output_type": "stream",
     "text": [
      "train acc : 0.696741754085333\n",
      "test acc : 0.5626621101190353\n"
     ]
    }
   ],
   "source": [
    "rid = Ridge(alpha =0)\n",
    "rid.fit(x_train, y_train)\n",
    "print('train acc :', rid.score(x_train, y_train))\n",
    "print('test acc :', rid.score(x_test,y_test))"
   ]
  },
  {
   "cell_type": "code",
   "execution_count": 62,
   "id": "41159eff",
   "metadata": {},
   "outputs": [
    {
     "name": "stdout",
     "output_type": "stream",
     "text": [
      "train acc : 0.6967417025907849\n",
      "test acc : 0.5627556640332108\n"
     ]
    }
   ],
   "source": [
    "rid = Ridge(alpha =0.04)\n",
    "rid.fit(x_train, y_train)\n",
    "\n",
    "print('train acc :', rid.score(x_train, y_train))\n",
    "print('test acc :', rid.score(x_test,y_test))  #최적화"
   ]
  },
  {
   "cell_type": "code",
   "execution_count": 63,
   "id": "b0836876",
   "metadata": {},
   "outputs": [
    {
     "name": "stdout",
     "output_type": "stream",
     "text": [
      "train acc : 0.6939185099126349\n",
      "test acc : 0.5808929551070263\n"
     ]
    }
   ],
   "source": [
    "rid = Ridge(alpha =10)\n",
    "rid.fit(x_train, y_train)\n",
    "\n",
    "print('train acc :', rid.score(x_train, y_train))\n",
    "print('test acc :', rid.score(x_test,y_test))  #최적화"
   ]
  },
  {
   "cell_type": "code",
   "execution_count": null,
   "id": "8d8b5b3e",
   "metadata": {},
   "outputs": [],
   "source": []
  },
  {
   "cell_type": "code",
   "execution_count": 73,
   "id": "695ca71a",
   "metadata": {},
   "outputs": [
    {
     "data": {
      "text/plain": [
       "[<matplotlib.lines.Line2D at 0x12fa4f9f550>]"
      ]
     },
     "execution_count": 73,
     "metadata": {},
     "output_type": "execute_result"
    },
    {
     "data": {
      "image/png": "[encoded data removed]",
      "text/plain": [
       "<Figure size 432x288 with 1 Axes>"
      ]
     },
     "metadata": {
      "needs_background": "light"
     },
     "output_type": "display_data"
    }
   ],
   "source": [
    "ridge_scores = []\n",
    "for i in np.arange(0.01, 0.2, 0.01):\n",
    "    rid = Ridge(alpha=i)\n",
    "    rid.fit(x_train,y_train)\n",
    "    ridge_scores.append(rid.score(x_test,y_test))\n",
    "plt.plot(np.arange(0.01,0.2,0.01), ridge_scores)"
   ]
  },
  {
   "cell_type": "code",
   "execution_count": 74,
   "id": "28543eea",
   "metadata": {},
   "outputs": [
    {
     "data": {
      "image/png": "[encoded data removed]",
      "text/plain": [
       "<Figure size 432x288 with 1 Axes>"
      ]
     },
     "metadata": {
      "needs_background": "light"
     },
     "output_type": "display_data"
    }
   ],
   "source": [
    "lasso_scores = []\n",
    "for i in np.arange(0.0001, 0.01, 0.001):\n",
    "    las = Ridge(alpha=i)\n",
    "    las.fit(x_train,y_train)\n",
    "    lasso_scores.append(las.score(x_test,y_test))\n",
    "    \n",
    "plt.plot(np.arange(0.0001, 0.01, 0.001), lasso_scores)\n",
    "plt.show()"
   ]
  },
  {
   "cell_type": "code",
   "execution_count": 75,
   "id": "a851236d",
   "metadata": {},
   "outputs": [],
   "source": [
    "from sklearn.metrics import classification_report, confusion_matrix"
   ]
  },
  {
   "cell_type": "code",
   "execution_count": null,
   "id": "dae013ee",
   "metadata": {},
   "outputs": [],
   "source": [
    "confusion_matrix(tree_preds, y_test)"
   ]
  },
  {
   "cell_type": "code",
   "execution_count": null,
   "id": "e4849dc8",
   "metadata": {},
   "outputs": [],
   "source": []
  },
  {
   "cell_type": "code",
   "execution_count": null,
   "id": "41189e2c",
   "metadata": {},
   "outputs": [],
   "source": []
  },
  {
   "cell_type": "code",
   "execution_count": null,
   "id": "bba83195",
   "metadata": {},
   "outputs": [],
   "source": []
  },
  {
   "cell_type": "code",
   "execution_count": null,
   "id": "b5202059",
   "metadata": {},
   "outputs": [],
   "source": []
  },
  {
   "cell_type": "code",
   "execution_count": null,
   "id": "fdd46fa0",
   "metadata": {},
   "outputs": [],
   "source": []
  },
  {
   "cell_type": "code",
   "execution_count": null,
   "id": "a4a8cd95",
   "metadata": {},
   "outputs": [],
   "source": []
  },
  {
   "cell_type": "code",
   "execution_count": null,
   "id": "a0282e5d",
   "metadata": {},
   "outputs": [],
   "source": []
  }
 ],
 "metadata": {
  "kernelspec": {
   "display_name": "Python 3 (ipykernel)",
   "language": "python",
   "name": "python3"
  },
  "language_info": {
   "codemirror_mode": {
    "name": "ipython",
    "version": 3
   },
   "file_extension": ".py",
   "mimetype": "text/x-python",
   "name": "python",
   "nbconvert_exporter": "python",
   "pygments_lexer": "ipython3",
   "version": "3.9.7"
  }
 },
 "nbformat": 4,
 "nbformat_minor": 5
}

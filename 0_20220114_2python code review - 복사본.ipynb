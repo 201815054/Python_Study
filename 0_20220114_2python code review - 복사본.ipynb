{
 "cells": [
  {
   "cell_type": "markdown",
   "id": "facdd17c",
   "metadata": {},
   "source": [
    "### String"
   ]
  },
  {
   "cell_type": "code",
   "execution_count": 1,
   "id": "a6c1623c",
   "metadata": {},
   "outputs": [],
   "source": [
    "txt1 = '  A tale that was not right  '\n",
    "txt2 = '이 또한 지나가리라  '\n",
    "\n",
    "# ----------------------\n",
    "\n",
    "# tale을 출력하시오..\n",
    "# '지'를 출력하시오..\n",
    "# 'a'는 몇 개가 존재하는가?\n",
    "# txt1에서 모음의 갯수는 몇 개인가?\n",
    "# '또한'을 '것도'로 수정하시오\n",
    "# txt1을 대문자로 출력하시오..\n",
    "# txt1에서 right은 몇 번째 인덱스에 등장하는가?\n",
    "# txt1을 space를 기준으로 나누어서 리스트에 담으시오..\n",
    "# txt2의 길이는 얼마인가?\n",
    "# txt2를 character 단위로 나누어서 리스트에 담으시오..\n",
    "# txt1의 좌우 공백을 제거하시오..\n",
    "# txt2를 역순으로 출력하시오..\n",
    "# txt1에서 짝수 인덱스만 출력하시오..\n",
    "# txt2를 두 번 반복하시오..\n",
    "# txt1과 txt2를 연결하여 하나의 문자열로 만드시오..\n",
    "# txt1에서 'right'이 존재하는지 확인하시오..\n",
    "# txt1에서 뒤에서 5번째 문자를 출력하시오..\n",
    "# txt1의 문자를 index와 튜플로 묶어서 리스트에 담으시오..\n",
    "\n",
    "url = 'http://www.naver.com/news/today=20221230'\n",
    "# url중 도메인만 출력하시오\n",
    "\n",
    "log = 'name : 홍길동, age:17, sex: 남성, nation : 대한민국 '\n",
    "# 아래와 같이 출력하시오.\n",
    "# name => '홍길동'\n",
    "# age => 17\n",
    "# sex => 남성\n",
    "# ..."
   ]
  },
  {
   "cell_type": "code",
   "execution_count": null,
   "id": "df4f3747",
   "metadata": {},
   "outputs": [],
   "source": [
    "txt1 = '  A tale that was not right  '\n",
    "txt2 = '이 또한 지나가리라  '"
   ]
  },
  {
   "cell_type": "code",
   "execution_count": 3,
   "id": "32ed79f7",
   "metadata": {},
   "outputs": [
    {
     "data": {
      "text/plain": [
       "'tale'"
      ]
     },
     "execution_count": 3,
     "metadata": {},
     "output_type": "execute_result"
    }
   ],
   "source": [
    "# tale을 출력하시오..\n",
    "txt1[4:8]"
   ]
  },
  {
   "cell_type": "code",
   "execution_count": 4,
   "id": "21e462e0",
   "metadata": {},
   "outputs": [
    {
     "data": {
      "text/plain": [
       "'지'"
      ]
     },
     "execution_count": 4,
     "metadata": {},
     "output_type": "execute_result"
    }
   ],
   "source": [
    "# '지'를 출력하시오..\n",
    "txt2[5]"
   ]
  },
  {
   "cell_type": "code",
   "execution_count": 6,
   "id": "6799f43b",
   "metadata": {},
   "outputs": [
    {
     "data": {
      "text/plain": [
       "3"
      ]
     },
     "execution_count": 6,
     "metadata": {},
     "output_type": "execute_result"
    }
   ],
   "source": [
    "# 'a'는 몇 개가 존재하는가?\n",
    "txt1.count('a')"
   ]
  },
  {
   "cell_type": "code",
   "execution_count": 7,
   "id": "5dc50428",
   "metadata": {},
   "outputs": [
    {
     "data": {
      "text/plain": [
       "7"
      ]
     },
     "execution_count": 7,
     "metadata": {},
     "output_type": "execute_result"
    }
   ],
   "source": [
    "# txt1에서 모음의 갯수는 몇 개인가?\n",
    "suma = 0\n",
    "for c in txt1:\n",
    "    if c in 'aeiouAEIOU':\n",
    "        suma +=1\n",
    "suma"
   ]
  },
  {
   "cell_type": "code",
   "execution_count": 9,
   "id": "d0c9ef0b",
   "metadata": {},
   "outputs": [
    {
     "data": {
      "text/plain": [
       "'이 것도 지나가리라  '"
      ]
     },
     "execution_count": 9,
     "metadata": {},
     "output_type": "execute_result"
    }
   ],
   "source": [
    "# '또한'을 '것도'로 수정하시오\n",
    "txt2.replace('또한', '것도')"
   ]
  },
  {
   "cell_type": "code",
   "execution_count": 10,
   "id": "3ff1d2e5",
   "metadata": {},
   "outputs": [
    {
     "data": {
      "text/plain": [
       "'  A TALE THAT WAS NOT RIGHT  '"
      ]
     },
     "execution_count": 10,
     "metadata": {},
     "output_type": "execute_result"
    }
   ],
   "source": [
    "# txt1을 대문자로 출력하시오..\n",
    "txt1.upper()"
   ]
  },
  {
   "cell_type": "code",
   "execution_count": 11,
   "id": "504a905b",
   "metadata": {
    "collapsed": true
   },
   "outputs": [
    {
     "data": {
      "text/plain": [
       "22"
      ]
     },
     "execution_count": 11,
     "metadata": {},
     "output_type": "execute_result"
    }
   ],
   "source": [
    "# txt1에서 right은 몇 번째 인덱스에 등장하는가?\n",
    "txt1.find('right')"
   ]
  },
  {
   "cell_type": "code",
   "execution_count": 12,
   "id": "e0905e9f",
   "metadata": {
    "collapsed": true
   },
   "outputs": [
    {
     "data": {
      "text/plain": [
       "22"
      ]
     },
     "execution_count": 12,
     "metadata": {},
     "output_type": "execute_result"
    }
   ],
   "source": [
    "txt1.index('right')"
   ]
  },
  {
   "cell_type": "code",
   "execution_count": 13,
   "id": "d9e4606c",
   "metadata": {
    "collapsed": true
   },
   "outputs": [
    {
     "data": {
      "text/plain": [
       "-1"
      ]
     },
     "execution_count": 13,
     "metadata": {},
     "output_type": "execute_result"
    }
   ],
   "source": [
    "txt1.find('heaven')"
   ]
  },
  {
   "cell_type": "code",
   "execution_count": 14,
   "id": "c0bafa60",
   "metadata": {
    "collapsed": true
   },
   "outputs": [
    {
     "ename": "ValueError",
     "evalue": "substring not found",
     "output_type": "error",
     "traceback": [
      "\u001b[1;31m---------------------------------------------------------------------------\u001b[0m",
      "\u001b[1;31mValueError\u001b[0m                                Traceback (most recent call last)",
      "\u001b[1;32m~\\AppData\\Local\\Temp/ipykernel_3248/1731300971.py\u001b[0m in \u001b[0;36m<module>\u001b[1;34m\u001b[0m\n\u001b[1;32m----> 1\u001b[1;33m \u001b[0mtxt1\u001b[0m\u001b[1;33m.\u001b[0m\u001b[0mindex\u001b[0m\u001b[1;33m(\u001b[0m\u001b[1;34m'heaven'\u001b[0m\u001b[1;33m)\u001b[0m\u001b[1;33m\u001b[0m\u001b[1;33m\u001b[0m\u001b[0m\n\u001b[0m",
      "\u001b[1;31mValueError\u001b[0m: substring not found"
     ]
    }
   ],
   "source": [
    "txt1.index('heaven')"
   ]
  },
  {
   "cell_type": "code",
   "execution_count": 15,
   "id": "afea695c",
   "metadata": {},
   "outputs": [
    {
     "data": {
      "text/plain": [
       "['A', 'tale', 'that', 'was', 'not', 'right']"
      ]
     },
     "execution_count": 15,
     "metadata": {},
     "output_type": "execute_result"
    }
   ],
   "source": [
    "# txt1을 space를 기준으로 나누어서 리스트에 담으시오..\n",
    "txt1.split()"
   ]
  },
  {
   "cell_type": "code",
   "execution_count": 16,
   "id": "c82a0bab",
   "metadata": {},
   "outputs": [
    {
     "data": {
      "text/plain": [
       "29"
      ]
     },
     "execution_count": 16,
     "metadata": {},
     "output_type": "execute_result"
    }
   ],
   "source": [
    "# txt2의 길이는 얼마인가?\n",
    "len(txt1)"
   ]
  },
  {
   "cell_type": "code",
   "execution_count": 17,
   "id": "cb4e35e9",
   "metadata": {},
   "outputs": [
    {
     "data": {
      "text/plain": [
       "['이', ' ', '또', '한', ' ', '지', '나', '가', '리', '라', ' ', ' ']"
      ]
     },
     "execution_count": 17,
     "metadata": {},
     "output_type": "execute_result"
    }
   ],
   "source": [
    "# txt2를 character 단위로 나누어서 리스트에 담으시오..\n",
    "list(txt2)"
   ]
  },
  {
   "cell_type": "code",
   "execution_count": 20,
   "id": "d0bcd186",
   "metadata": {},
   "outputs": [
    {
     "data": {
      "text/plain": [
       "'A tale that was not right'"
      ]
     },
     "execution_count": 20,
     "metadata": {},
     "output_type": "execute_result"
    }
   ],
   "source": [
    "# txt1의 좌우 공백을 제거하시오..\n",
    "txt1.strip()"
   ]
  },
  {
   "cell_type": "code",
   "execution_count": 21,
   "id": "7d38e87e",
   "metadata": {},
   "outputs": [
    {
     "data": {
      "text/plain": [
       "'  라리가나지 한또 이'"
      ]
     },
     "execution_count": 21,
     "metadata": {},
     "output_type": "execute_result"
    }
   ],
   "source": [
    "# txt2를 역순으로 출력하시오..\n",
    "txt2[::-1]"
   ]
  },
  {
   "cell_type": "code",
   "execution_count": 23,
   "id": "4c5317fd",
   "metadata": {},
   "outputs": [
    {
     "data": {
      "text/plain": [
       "'이 또한 지나가리라  '"
      ]
     },
     "execution_count": 23,
     "metadata": {},
     "output_type": "execute_result"
    }
   ],
   "source": [
    "txt2"
   ]
  },
  {
   "cell_type": "code",
   "execution_count": null,
   "id": "b82fbe53",
   "metadata": {},
   "outputs": [],
   "source": [
    "# txt1에서 짝수 인덱스만 출력하시오..\n",
    "txt2[0:30:2]"
   ]
  },
  {
   "cell_type": "code",
   "execution_count": 28,
   "id": "09a10eec",
   "metadata": {},
   "outputs": [
    {
     "data": {
      "text/plain": [
       "'이 또한 지나가리라  이 또한 지나가리라  '"
      ]
     },
     "execution_count": 28,
     "metadata": {},
     "output_type": "execute_result"
    }
   ],
   "source": [
    "# txt2를 두 번 반복하시오..\n",
    "txt2*2"
   ]
  },
  {
   "cell_type": "code",
   "execution_count": 29,
   "id": "88dac3c9",
   "metadata": {},
   "outputs": [
    {
     "data": {
      "text/plain": [
       "'  A tale that was not right  이 또한 지나가리라  '"
      ]
     },
     "execution_count": 29,
     "metadata": {},
     "output_type": "execute_result"
    }
   ],
   "source": [
    "# txt1과 txt2를 연결하여 하나의 문자열로 만드시오..\n",
    "txt1 + txt2"
   ]
  },
  {
   "cell_type": "code",
   "execution_count": 30,
   "id": "d2b69410",
   "metadata": {},
   "outputs": [
    {
     "data": {
      "text/plain": [
       "True"
      ]
     },
     "execution_count": 30,
     "metadata": {},
     "output_type": "execute_result"
    }
   ],
   "source": [
    "# txt1에서 'right'이 존재하는지 확인하시오..\n",
    "'right' in txt1"
   ]
  },
  {
   "cell_type": "code",
   "execution_count": 31,
   "id": "4b4b3481",
   "metadata": {},
   "outputs": [
    {
     "data": {
      "text/plain": [
       "'g'"
      ]
     },
     "execution_count": 31,
     "metadata": {},
     "output_type": "execute_result"
    }
   ],
   "source": [
    "# txt1에서 뒤에서 5번째 문자를 출력하시오..\n",
    "txt1[-5]"
   ]
  },
  {
   "cell_type": "code",
   "execution_count": 32,
   "id": "ede9163d",
   "metadata": {
    "collapsed": true
   },
   "outputs": [
    {
     "data": {
      "text/plain": [
       "[(0, ' '),\n",
       " (1, ' '),\n",
       " (2, 'A'),\n",
       " (3, ' '),\n",
       " (4, 't'),\n",
       " (5, 'a'),\n",
       " (6, 'l'),\n",
       " (7, 'e'),\n",
       " (8, ' '),\n",
       " (9, 't'),\n",
       " (10, 'h'),\n",
       " (11, 'a'),\n",
       " (12, 't'),\n",
       " (13, ' '),\n",
       " (14, 'w'),\n",
       " (15, 'a'),\n",
       " (16, 's'),\n",
       " (17, ' '),\n",
       " (18, 'n'),\n",
       " (19, 'o'),\n",
       " (20, 't'),\n",
       " (21, ' '),\n",
       " (22, 'r'),\n",
       " (23, 'i'),\n",
       " (24, 'g'),\n",
       " (25, 'h'),\n",
       " (26, 't'),\n",
       " (27, ' '),\n",
       " (28, ' ')]"
      ]
     },
     "execution_count": 32,
     "metadata": {},
     "output_type": "execute_result"
    }
   ],
   "source": [
    "# txt1의 문자를 index와 튜플로 묶어서 리스트에 담으시오..\n",
    "[(i, c) for i, c in enumerate(txt1)]"
   ]
  },
  {
   "cell_type": "code",
   "execution_count": 35,
   "id": "1cf620f9",
   "metadata": {},
   "outputs": [
    {
     "data": {
      "text/plain": [
       "'www.naver.com'"
      ]
     },
     "execution_count": 35,
     "metadata": {},
     "output_type": "execute_result"
    }
   ],
   "source": [
    "url = 'http://www.naver.com/news/today=20221230'\n",
    "# url중 도메인만 출력하시오\n",
    "url.split('/')[2]"
   ]
  },
  {
   "cell_type": "code",
   "execution_count": 39,
   "id": "3c17fc73",
   "metadata": {},
   "outputs": [
    {
     "name": "stdout",
     "output_type": "stream",
     "text": [
      "name => 홍길동\n",
      "age => 17\n",
      "sex => 남성\n",
      "nation => 대한민국\n"
     ]
    }
   ],
   "source": [
    "log = 'name : 홍길동, age:17, sex: 남성, nation : 대한민국 '\n",
    "# 아래와 같이 출력하시오.\n",
    "# name => '홍길동'\n",
    "# age => 17\n",
    "# sex => 남성\n",
    "# ...\n",
    "\n",
    "for i in log.split(','):\n",
    "    name = i.split(':')[0].strip()\n",
    "    value = i.split(':')[1].strip()\n",
    "    print(name, '=>', value)"
   ]
  },
  {
   "cell_type": "code",
   "execution_count": 40,
   "id": "a8bf798b",
   "metadata": {},
   "outputs": [
    {
     "data": {
      "text/plain": [
       "'\\n서울·인천=연합뉴스) 고동욱 홍준석 기자 = 더불어민주당 이재명 대선후보는 14일 \\n\"기획재정부가 오늘 소상공인 지원 예산을 위한 추가경정예산안을 편성한다고 \\n발표했는데, 또 조금만 했더라\"고 말했다.\\n\\n이 후보는 이날 오전 매타버스(매주 타는 민생버스) 인천 일정을 시작하기에 앞서 \\n유튜브로 진행한 출발 인사에서 이같이 밝혔다.\\n'"
      ]
     },
     "execution_count": 40,
     "metadata": {},
     "output_type": "execute_result"
    }
   ],
   "source": [
    "text = \"\"\"\n",
    "서울·인천=연합뉴스) 고동욱 홍준석 기자 = 더불어민주당 이재명 대선후보는 14일 \n",
    "\"기획재정부가 오늘 소상공인 지원 예산을 위한 추가경정예산안을 편성한다고 \n",
    "발표했는데, 또 조금만 했더라\"고 말했다.\n",
    "\n",
    "이 후보는 이날 오전 매타버스(매주 타는 민생버스) 인천 일정을 시작하기에 앞서 \n",
    "유튜브로 진행한 출발 인사에서 이같이 밝혔다.\n",
    "\"\"\"\n",
    "\n",
    "text"
   ]
  },
  {
   "cell_type": "code",
   "execution_count": 41,
   "id": "10ff785a",
   "metadata": {},
   "outputs": [
    {
     "data": {
      "text/plain": [
       "\"기획재정부가 오늘 '소상공인' 지원 예산을 위한 추가경정예산안\""
      ]
     },
     "execution_count": 41,
     "metadata": {},
     "output_type": "execute_result"
    }
   ],
   "source": [
    "text =  \"기획재정부가 오늘 '소상공인' 지원 예산을 위한 추가경정예산안\"\n",
    "text"
   ]
  },
  {
   "cell_type": "code",
   "execution_count": 43,
   "id": "fcdc0c92",
   "metadata": {},
   "outputs": [
    {
     "data": {
      "text/plain": [
       "'기획재정부가 오늘 \"소상공인\" 지원 예산을 위한 추가경정예산안'"
      ]
     },
     "execution_count": 43,
     "metadata": {},
     "output_type": "execute_result"
    }
   ],
   "source": [
    "text =  '기획재정부가 오늘 \"소상공인\" 지원 예산을 위한 추가경정예산안'\n",
    "text"
   ]
  },
  {
   "cell_type": "code",
   "execution_count": 44,
   "id": "7e7f14b1",
   "metadata": {},
   "outputs": [
    {
     "data": {
      "text/plain": [
       "'기획재정부가 오늘 \"소상공인\" 지원 예산을 위한 추가경정예산안'"
      ]
     },
     "execution_count": 44,
     "metadata": {},
     "output_type": "execute_result"
    }
   ],
   "source": [
    "text =  '기획재정부가 오늘 \\\n",
    "\"소상공인\" 지원 예산을 \\\n",
    "위한 추가경정예산안'\n",
    "\n",
    "text"
   ]
  },
  {
   "cell_type": "code",
   "execution_count": null,
   "id": "16f5d8f9",
   "metadata": {},
   "outputs": [],
   "source": []
  },
  {
   "cell_type": "markdown",
   "id": "69494db3",
   "metadata": {},
   "source": [
    "### datatype\n",
    "\n",
    "1. 기본형\n",
    "- int :95\n",
    "- float : 95.8\n",
    "- bool : True, False\n",
    "    \n",
    "2. 군집형 (여러 요소가 모여서 하나의 데이터 형식)\n",
    "- string : '' , 요소의 수정,삭제,추가 안 됨.., 순서,인덱스 존재\n",
    "- list :  [], 요소의 수정,삭제,추가가 자유로움.. 순서,인덱스 존재\n",
    "- tuple : (), 요소의 수정,삭제,추가 안 됨.., 수정하지 않을 값, 보조용, 순서,인덱스 존재\n",
    "- set : {}, 집합. 요소의 삭제,추가 안 됨. 중복요소가 없다. 집합연산, 순서,인덱스 X\n",
    "- dictionary : {key:value}, 요소의 수정,삭제,추가가 자유로움. 데이터의 저장(json과 유사), 순서 없고, 인덱스는 key가 역할"
   ]
  },
  {
   "cell_type": "code",
   "execution_count": null,
   "id": "715fbde4",
   "metadata": {},
   "outputs": [],
   "source": []
  },
  {
   "cell_type": "markdown",
   "id": "aaf0c6e1",
   "metadata": {},
   "source": [
    "### List"
   ]
  },
  {
   "cell_type": "code",
   "execution_count": 45,
   "id": "a8b03713",
   "metadata": {},
   "outputs": [],
   "source": [
    "score = [81, 90, 78, 'python', 'hello', True, [78, 56, 32], (24,25,3)]"
   ]
  },
  {
   "cell_type": "code",
   "execution_count": 47,
   "id": "a1c5daa6",
   "metadata": {},
   "outputs": [
    {
     "data": {
      "text/plain": [
       "'t'"
      ]
     },
     "execution_count": 47,
     "metadata": {},
     "output_type": "execute_result"
    }
   ],
   "source": [
    "# 't'를 출력하시오..\n",
    "score[3][2]"
   ]
  },
  {
   "cell_type": "code",
   "execution_count": 49,
   "id": "968bfd44",
   "metadata": {},
   "outputs": [
    {
     "data": {
      "text/plain": [
       "56"
      ]
     },
     "execution_count": 49,
     "metadata": {},
     "output_type": "execute_result"
    }
   ],
   "source": [
    "# 56을 출력하시오..\n",
    "score[-2][1]"
   ]
  },
  {
   "cell_type": "code",
   "execution_count": 51,
   "id": "8a007ca7",
   "metadata": {},
   "outputs": [
    {
     "data": {
      "text/plain": [
       "25"
      ]
     },
     "execution_count": 51,
     "metadata": {},
     "output_type": "execute_result"
    }
   ],
   "source": [
    "# 마지막 요소의 최대값을 출력하시오\n",
    "max(score[-1])"
   ]
  },
  {
   "cell_type": "code",
   "execution_count": 52,
   "id": "cb857151",
   "metadata": {},
   "outputs": [
    {
     "data": {
      "text/plain": [
       "[81, 90, 78, 'world', 'hello', True, [78, 56, 32], (24, 25, 3)]"
      ]
     },
     "execution_count": 52,
     "metadata": {},
     "output_type": "execute_result"
    }
   ],
   "source": [
    "# 'python'을 'world'로 수정하시오.\n",
    "score[3] = 'world'\n",
    "score"
   ]
  },
  {
   "cell_type": "code",
   "execution_count": 53,
   "id": "8f512b99",
   "metadata": {},
   "outputs": [],
   "source": [
    "# 마지막에 'sun'을 추가하시오.\n",
    "score.append('sun')"
   ]
  },
  {
   "cell_type": "code",
   "execution_count": 54,
   "id": "a549e9c3",
   "metadata": {},
   "outputs": [
    {
     "data": {
      "text/plain": [
       "[81, 90, 78, 'world', 'hello', True, [78, 56, 32], (24, 25, 3), 'sun']"
      ]
     },
     "execution_count": 54,
     "metadata": {},
     "output_type": "execute_result"
    }
   ],
   "source": [
    "score"
   ]
  },
  {
   "cell_type": "code",
   "execution_count": 55,
   "id": "5cdc1a4d",
   "metadata": {},
   "outputs": [
    {
     "data": {
      "text/plain": [
       "True"
      ]
     },
     "execution_count": 55,
     "metadata": {},
     "output_type": "execute_result"
    }
   ],
   "source": [
    "# 'world'가 있는지 확인하시오..\n",
    "'world' in score"
   ]
  },
  {
   "cell_type": "code",
   "execution_count": 58,
   "id": "c3f67269",
   "metadata": {},
   "outputs": [
    {
     "data": {
      "text/plain": [
       "[25, 24, 3]"
      ]
     },
     "execution_count": 58,
     "metadata": {},
     "output_type": "execute_result"
    }
   ],
   "source": [
    "# 마지막에서 2 번쨰 요소를 내림차순으로 정렬하시오..\n",
    "sorted(score[-2], reverse=True)"
   ]
  },
  {
   "cell_type": "code",
   "execution_count": 60,
   "id": "c95eb9ec",
   "metadata": {},
   "outputs": [
    {
     "data": {
      "text/plain": [
       "1"
      ]
     },
     "execution_count": 60,
     "metadata": {},
     "output_type": "execute_result"
    }
   ],
   "source": [
    "# 90은 몇 번째 인덱스에 있는지 확인하시오..\n",
    "score.index(90)"
   ]
  },
  {
   "cell_type": "code",
   "execution_count": 70,
   "id": "13d0be65",
   "metadata": {},
   "outputs": [
    {
     "data": {
      "text/plain": [
       "[81, 90, 78, 'world', 'hello', True, [78, 56, 32], (24, 25, 3), 'sun']"
      ]
     },
     "execution_count": 70,
     "metadata": {},
     "output_type": "execute_result"
    }
   ],
   "source": [
    "# 리스트를 역순으로 정렬하시오..\n",
    "score.reverse()\n",
    "score"
   ]
  },
  {
   "cell_type": "code",
   "execution_count": 71,
   "id": "c5cf6672",
   "metadata": {},
   "outputs": [
    {
     "data": {
      "text/plain": [
       "['sea', 81, 90, 78, 'world', 'hello', True, [78, 56, 32], (24, 25, 3), 'sun']"
      ]
     },
     "execution_count": 71,
     "metadata": {},
     "output_type": "execute_result"
    }
   ],
   "source": [
    "# 0번째 인덱스에 'sea'를 추가하시오\n",
    "score.insert(0, 'sea')\n",
    "score"
   ]
  },
  {
   "cell_type": "code",
   "execution_count": 74,
   "id": "df3cb06c",
   "metadata": {},
   "outputs": [
    {
     "data": {
      "text/plain": [
       "['sea', 81, 90, 78, 'world', 'hello', False, [78, 56, 32], (24, 25, 3), 'sun']"
      ]
     },
     "execution_count": 74,
     "metadata": {},
     "output_type": "execute_result"
    }
   ],
   "source": [
    "# True를 False로 수정하시오..\n",
    "score[score.index(True)] = False\n",
    "score"
   ]
  },
  {
   "cell_type": "code",
   "execution_count": 75,
   "id": "c249f1ba",
   "metadata": {},
   "outputs": [
    {
     "data": {
      "text/plain": [
       "['sea', 81, 90, 78, 'hello', False, [78, 56, 32], (24, 25, 3), 'sun']"
      ]
     },
     "execution_count": 75,
     "metadata": {},
     "output_type": "execute_result"
    }
   ],
   "source": [
    "# 'world'를 제거하시오\n",
    "score.remove('world')\n",
    "score"
   ]
  },
  {
   "cell_type": "code",
   "execution_count": 76,
   "id": "1348db2c",
   "metadata": {},
   "outputs": [
    {
     "data": {
      "text/plain": [
       "['sea', 81, 90, 78, 'hello', False, [78, 56, 32], 'sun']"
      ]
     },
     "execution_count": 76,
     "metadata": {},
     "output_type": "execute_result"
    }
   ],
   "source": [
    "# 7번쨰 요소를 제거하시오..\n",
    "score.pop(7)\n",
    "score"
   ]
  },
  {
   "cell_type": "code",
   "execution_count": 77,
   "id": "311d5908",
   "metadata": {},
   "outputs": [
    {
     "data": {
      "text/plain": [
       "'sun'"
      ]
     },
     "execution_count": 77,
     "metadata": {},
     "output_type": "execute_result"
    }
   ],
   "source": [
    "# 마지막 요소를 제거하시오..\n",
    "score.pop()"
   ]
  },
  {
   "cell_type": "code",
   "execution_count": 78,
   "id": "abdd224c",
   "metadata": {},
   "outputs": [
    {
     "data": {
      "text/plain": [
       "['sea', 81, 90, 78, 'hello', False, [78, 56, 32]]"
      ]
     },
     "execution_count": 78,
     "metadata": {},
     "output_type": "execute_result"
    }
   ],
   "source": [
    "score"
   ]
  },
  {
   "cell_type": "code",
   "execution_count": 79,
   "id": "51cbfa5d",
   "metadata": {},
   "outputs": [
    {
     "data": {
      "text/plain": [
       "7"
      ]
     },
     "execution_count": 79,
     "metadata": {},
     "output_type": "execute_result"
    }
   ],
   "source": [
    "# 리스트의 길이를 출력하시오\n",
    "len(score)"
   ]
  },
  {
   "cell_type": "code",
   "execution_count": 81,
   "id": "d7c21dca",
   "metadata": {},
   "outputs": [
    {
     "data": {
      "text/plain": [
       "int"
      ]
     },
     "execution_count": 81,
     "metadata": {},
     "output_type": "execute_result"
    }
   ],
   "source": [
    "# 두 번째 요소의 데이터타입을 출력하시오..\n",
    "type(score[1])"
   ]
  },
  {
   "cell_type": "code",
   "execution_count": 96,
   "id": "118bdceb",
   "metadata": {},
   "outputs": [
    {
     "data": {
      "text/plain": [
       "'78:56:32'"
      ]
     },
     "execution_count": 96,
     "metadata": {},
     "output_type": "execute_result"
    }
   ],
   "source": [
    "\":\".join(['78', '56', '32'])"
   ]
  },
  {
   "cell_type": "code",
   "execution_count": 94,
   "id": "83273a97",
   "metadata": {},
   "outputs": [
    {
     "data": {
      "text/plain": [
       "'78:56:32'"
      ]
     },
     "execution_count": 94,
     "metadata": {},
     "output_type": "execute_result"
    }
   ],
   "source": [
    "\":\".join([str(s) for s in [78, 56, 32]])"
   ]
  },
  {
   "cell_type": "code",
   "execution_count": 93,
   "id": "5fa840a9",
   "metadata": {},
   "outputs": [
    {
     "data": {
      "text/plain": [
       "['sea', 81, 90, 78, 'hello', False, '78:56:32']"
      ]
     },
     "execution_count": 93,
     "metadata": {},
     "output_type": "execute_result"
    }
   ],
   "source": [
    "# [78, 56, 32]를 \"78:56:32\"로 수정하시오..\n",
    "score[score.index([78, 56, 32])] = \":\".join([str(s) for s in [78, 56, 32]])\n",
    "score"
   ]
  },
  {
   "cell_type": "code",
   "execution_count": 98,
   "id": "da49afb6",
   "metadata": {},
   "outputs": [
    {
     "data": {
      "text/plain": [
       "[]"
      ]
     },
     "execution_count": 98,
     "metadata": {},
     "output_type": "execute_result"
    }
   ],
   "source": [
    "# 모든 원소를 제거하시오\n",
    "score.clear()\n",
    "score"
   ]
  },
  {
   "cell_type": "code",
   "execution_count": null,
   "id": "4e306b5b",
   "metadata": {},
   "outputs": [],
   "source": [
    "# 리스트를 삭제하시오.."
   ]
  },
  {
   "cell_type": "code",
   "execution_count": 99,
   "id": "99e1c7f3",
   "metadata": {},
   "outputs": [],
   "source": [
    "del score"
   ]
  },
  {
   "cell_type": "code",
   "execution_count": 100,
   "id": "331309cb",
   "metadata": {
    "collapsed": true
   },
   "outputs": [
    {
     "ename": "NameError",
     "evalue": "name 'score' is not defined",
     "output_type": "error",
     "traceback": [
      "\u001b[1;31m---------------------------------------------------------------------------\u001b[0m",
      "\u001b[1;31mNameError\u001b[0m                                 Traceback (most recent call last)",
      "\u001b[1;32m~\\AppData\\Local\\Temp/ipykernel_3248/2992420520.py\u001b[0m in \u001b[0;36m<module>\u001b[1;34m\u001b[0m\n\u001b[1;32m----> 1\u001b[1;33m \u001b[0mscore\u001b[0m\u001b[1;33m\u001b[0m\u001b[1;33m\u001b[0m\u001b[0m\n\u001b[0m",
      "\u001b[1;31mNameError\u001b[0m: name 'score' is not defined"
     ]
    }
   ],
   "source": [
    "score"
   ]
  },
  {
   "cell_type": "code",
   "execution_count": null,
   "id": "6009651b",
   "metadata": {},
   "outputs": [],
   "source": []
  },
  {
   "cell_type": "code",
   "execution_count": null,
   "id": "2543aa5e",
   "metadata": {},
   "outputs": [],
   "source": []
  },
  {
   "cell_type": "code",
   "execution_count": null,
   "id": "690581d1",
   "metadata": {},
   "outputs": [],
   "source": []
  }
 ],
 "metadata": {
  "kernelspec": {
   "display_name": "Python 3 (ipykernel)",
   "language": "python",
   "name": "python3"
  },
  "language_info": {
   "codemirror_mode": {
    "name": "ipython",
    "version": 3
   },
   "file_extension": ".py",
   "mimetype": "text/x-python",
   "name": "python",
   "nbconvert_exporter": "python",
   "pygments_lexer": "ipython3",
   "version": "3.9.7"
  }
 },
 "nbformat": 4,
 "nbformat_minor": 5
}

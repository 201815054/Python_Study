{
 "cells": [
  {
   "cell_type": "code",
   "execution_count": 2,
   "id": "812947d1",
   "metadata": {},
   "outputs": [],
   "source": [
    "import pandas as pd\n",
    "import numpy as np\n",
    "import matplotlib.pyplot as plt\n",
    "import seaborn as sns"
   ]
  },
  {
   "cell_type": "code",
   "execution_count": null,
   "id": "c10524fb",
   "metadata": {},
   "outputs": [],
   "source": []
  },
  {
   "cell_type": "code",
   "execution_count": 3,
   "id": "621f228e",
   "metadata": {},
   "outputs": [],
   "source": [
    "from sklearn.datasets import load_digits\n",
    "from sklearn.model_selection import train_test_split\n",
    "from sklearn import datasets\n",
    "import mglearn\n",
    "from IPython.display import display"
   ]
  },
  {
   "cell_type": "code",
   "execution_count": 5,
   "id": "587a287b",
   "metadata": {},
   "outputs": [],
   "source": [
    "digits = load_digits()"
   ]
  },
  {
   "cell_type": "code",
   "execution_count": null,
   "id": "eb2804af",
   "metadata": {},
   "outputs": [],
   "source": []
  },
  {
   "cell_type": "code",
   "execution_count": 6,
   "id": "66070a3a",
   "metadata": {},
   "outputs": [],
   "source": [
    "x = digits.data\n",
    "y = digits.target"
   ]
  },
  {
   "cell_type": "code",
   "execution_count": 7,
   "id": "1d0eb8f8",
   "metadata": {
    "scrolled": false
   },
   "outputs": [
    {
     "data": {
      "text/plain": [
       "(1797, 64)"
      ]
     },
     "execution_count": 7,
     "metadata": {},
     "output_type": "execute_result"
    }
   ],
   "source": [
    "x.shape"
   ]
  },
  {
   "cell_type": "code",
   "execution_count": 9,
   "id": "32ce5523",
   "metadata": {
    "scrolled": true
   },
   "outputs": [
    {
     "data": {
      "text/plain": [
       "(1797,)"
      ]
     },
     "execution_count": 9,
     "metadata": {},
     "output_type": "execute_result"
    }
   ],
   "source": [
    "y.shape"
   ]
  },
  {
   "cell_type": "code",
   "execution_count": null,
   "id": "8454b90c",
   "metadata": {},
   "outputs": [],
   "source": []
  },
  {
   "cell_type": "code",
   "execution_count": 14,
   "id": "11c50eba",
   "metadata": {
    "scrolled": true
   },
   "outputs": [
    {
     "data": {
      "text/plain": [
       "array([[ 0.,  0.,  0.,  4., 15., 12.,  0.,  0.],\n",
       "       [ 0.,  0.,  3., 16., 15., 14.,  0.,  0.],\n",
       "       [ 0.,  0.,  8., 13.,  8., 16.,  0.,  0.],\n",
       "       [ 0.,  0.,  1.,  6., 15., 11.,  0.,  0.],\n",
       "       [ 0.,  1.,  8., 13., 15.,  1.,  0.,  0.],\n",
       "       [ 0.,  9., 16., 16.,  5.,  0.,  0.,  0.],\n",
       "       [ 0.,  3., 13., 16., 16., 11.,  5.,  0.],\n",
       "       [ 0.,  0.,  0.,  3., 11., 16.,  9.,  0.]])"
      ]
     },
     "execution_count": 14,
     "metadata": {},
     "output_type": "execute_result"
    }
   ],
   "source": [
    "x[2].reshape(8,8)"
   ]
  },
  {
   "cell_type": "code",
   "execution_count": 27,
   "id": "ead69095",
   "metadata": {
    "scrolled": true
   },
   "outputs": [
    {
     "data": {
      "text/plain": [
       "<matplotlib.image.AxesImage at 0x1b0c13570d0>"
      ]
     },
     "execution_count": 27,
     "metadata": {},
     "output_type": "execute_result"
    },
    {
     "data": {
      "image/png": "[encoded data removed]",
      "text/plain": [
       "<Figure size 432x288 with 1 Axes>"
      ]
     },
     "metadata": {
      "needs_background": "light"
     },
     "output_type": "display_data"
    }
   ],
   "source": [
    "plt.imshow(x[55].reshape(8,8))"
   ]
  },
  {
   "cell_type": "code",
   "execution_count": 28,
   "id": "5e09367f",
   "metadata": {},
   "outputs": [
    {
     "data": {
      "text/plain": [
       "0"
      ]
     },
     "execution_count": 28,
     "metadata": {},
     "output_type": "execute_result"
    }
   ],
   "source": [
    "y[55]"
   ]
  },
  {
   "cell_type": "code",
   "execution_count": 29,
   "id": "fc581636",
   "metadata": {},
   "outputs": [
    {
     "data": {
      "text/plain": [
       "3    183\n",
       "1    182\n",
       "5    182\n",
       "4    181\n",
       "6    181\n",
       "9    180\n",
       "7    179\n",
       "0    178\n",
       "2    177\n",
       "8    174\n",
       "dtype: int64"
      ]
     },
     "execution_count": 29,
     "metadata": {},
     "output_type": "execute_result"
    }
   ],
   "source": [
    "pd.Series(y).value_counts()"
   ]
  },
  {
   "cell_type": "code",
   "execution_count": null,
   "id": "976dae3b",
   "metadata": {},
   "outputs": [],
   "source": []
  },
  {
   "cell_type": "code",
   "execution_count": 31,
   "id": "5cc6b5f0",
   "metadata": {},
   "outputs": [],
   "source": [
    " y = y == 9"
   ]
  },
  {
   "cell_type": "code",
   "execution_count": 34,
   "id": "c93a91b8",
   "metadata": {},
   "outputs": [
    {
     "data": {
      "text/plain": [
       "False    0.899833\n",
       "True     0.100167\n",
       "dtype: float64"
      ]
     },
     "execution_count": 34,
     "metadata": {},
     "output_type": "execute_result"
    }
   ],
   "source": [
    "pd.Series(y).value_counts()/len(y)  # imbalanced dataset"
   ]
  },
  {
   "cell_type": "code",
   "execution_count": null,
   "id": "c190fd54",
   "metadata": {},
   "outputs": [],
   "source": []
  },
  {
   "cell_type": "code",
   "execution_count": 35,
   "id": "deb56aa3",
   "metadata": {},
   "outputs": [],
   "source": [
    "x_train, x_test, y_train, y_test = train_test_split(x,y, random_state=111)"
   ]
  },
  {
   "cell_type": "code",
   "execution_count": null,
   "id": "d9ca7d2a",
   "metadata": {},
   "outputs": [],
   "source": []
  },
  {
   "cell_type": "code",
   "execution_count": 37,
   "id": "a039c9f9",
   "metadata": {},
   "outputs": [],
   "source": [
    "from sklearn.dummy import DummyClassifier\n",
    "\n",
    "# 다수의 클래스로 예측하는 classifier생성 - 위의 데이터에 대해 100% False로만 예측\n",
    "dummy_majority = DummyClassifier(strategy='most_frequent').fit(x_train, y_train)"
   ]
  },
  {
   "cell_type": "code",
   "execution_count": 39,
   "id": "5db91668",
   "metadata": {
    "collapsed": true
   },
   "outputs": [
    {
     "data": {
      "text/plain": [
       "array([False, False, False, False, False, False, False, False, False,\n",
       "       False, False, False, False, False, False, False, False, False,\n",
       "       False, False, False, False, False, False, False, False, False,\n",
       "       False, False, False, False, False, False, False, False, False,\n",
       "       False, False, False, False, False, False, False, False, False,\n",
       "       False, False, False, False, False, False, False, False, False,\n",
       "       False, False, False, False, False, False, False, False, False,\n",
       "       False, False, False, False, False, False, False, False, False,\n",
       "       False, False, False, False, False, False, False, False, False,\n",
       "       False, False, False, False, False, False, False, False, False,\n",
       "       False, False, False, False, False, False, False, False, False,\n",
       "       False, False, False, False, False, False, False, False, False,\n",
       "       False, False, False, False, False, False, False, False, False,\n",
       "       False, False, False, False, False, False, False, False, False,\n",
       "       False, False, False, False, False, False, False, False, False,\n",
       "       False, False, False, False, False, False, False, False, False,\n",
       "       False, False, False, False, False, False, False, False, False,\n",
       "       False, False, False, False, False, False, False, False, False,\n",
       "       False, False, False, False, False, False, False, False, False,\n",
       "       False, False, False, False, False, False, False, False, False,\n",
       "       False, False, False, False, False, False, False, False, False,\n",
       "       False, False, False, False, False, False, False, False, False,\n",
       "       False, False, False, False, False, False, False, False, False,\n",
       "       False, False, False, False, False, False, False, False, False,\n",
       "       False, False, False, False, False, False, False, False, False,\n",
       "       False, False, False, False, False, False, False, False, False,\n",
       "       False, False, False, False, False, False, False, False, False,\n",
       "       False, False, False, False, False, False, False, False, False,\n",
       "       False, False, False, False, False, False, False, False, False,\n",
       "       False, False, False, False, False, False, False, False, False,\n",
       "       False, False, False, False, False, False, False, False, False,\n",
       "       False, False, False, False, False, False, False, False, False,\n",
       "       False, False, False, False, False, False, False, False, False,\n",
       "       False, False, False, False, False, False, False, False, False,\n",
       "       False, False, False, False, False, False, False, False, False,\n",
       "       False, False, False, False, False, False, False, False, False,\n",
       "       False, False, False, False, False, False, False, False, False,\n",
       "       False, False, False, False, False, False, False, False, False,\n",
       "       False, False, False, False, False, False, False, False, False,\n",
       "       False, False, False, False, False, False, False, False, False,\n",
       "       False, False, False, False, False, False, False, False, False,\n",
       "       False, False, False, False, False, False, False, False, False,\n",
       "       False, False, False, False, False, False, False, False, False,\n",
       "       False, False, False, False, False, False, False, False, False,\n",
       "       False, False, False, False, False, False, False, False, False,\n",
       "       False, False, False, False, False, False, False, False, False,\n",
       "       False, False, False, False, False, False, False, False, False,\n",
       "       False, False, False, False, False, False, False, False, False,\n",
       "       False, False, False, False, False, False, False, False, False,\n",
       "       False, False, False, False, False, False, False, False, False])"
      ]
     },
     "execution_count": 39,
     "metadata": {},
     "output_type": "execute_result"
    }
   ],
   "source": [
    "preds = dummy_majority.predict(x_test)\n",
    "preds"
   ]
  },
  {
   "cell_type": "code",
   "execution_count": 41,
   "id": "f775ded4",
   "metadata": {},
   "outputs": [
    {
     "data": {
      "text/plain": [
       "0.8955555555555555"
      ]
     },
     "execution_count": 41,
     "metadata": {},
     "output_type": "execute_result"
    }
   ],
   "source": [
    "np.mean(y_test == preds)"
   ]
  },
  {
   "cell_type": "code",
   "execution_count": 43,
   "id": "8e0b7d7e",
   "metadata": {},
   "outputs": [
    {
     "data": {
      "text/plain": [
       "0.8955555555555555"
      ]
     },
     "execution_count": 43,
     "metadata": {},
     "output_type": "execute_result"
    }
   ],
   "source": [
    "dummy_majority.score(x_test, y_test)\n",
    "\n",
    "# 전혀 분류능력이 없는 classifier가 90%의 accuracy score를 기록.. <= imbalanced data\n",
    "# => accuracy의 한계.. => precision, recall, f1_score, auc_score...."
   ]
  },
  {
   "cell_type": "code",
   "execution_count": null,
   "id": "fd8713f3",
   "metadata": {},
   "outputs": [],
   "source": []
  },
  {
   "cell_type": "code",
   "execution_count": 50,
   "id": "d4203bc9",
   "metadata": {},
   "outputs": [
    {
     "name": "stdout",
     "output_type": "stream",
     "text": [
      "Tree : 0.96 Knn : 1.0 SVC : 1.0 dummy : 0.9\n"
     ]
    }
   ],
   "source": [
    "# accuracy\n",
    "\n",
    "from sklearn.tree import DecisionTreeClassifier\n",
    "from sklearn.neighbors import KNeighborsClassifier\n",
    "from sklearn.svm import SVC\n",
    "\n",
    "tree = DecisionTreeClassifier()\n",
    "knn = KNeighborsClassifier()\n",
    "svc = SVC()\n",
    "\n",
    "tree.fit(x_train, y_train)\n",
    "knn.fit(x_train, y_train)\n",
    "svc.fit(x_train, y_train)\n",
    "\n",
    "tree_acc = tree.score(x_test, y_test)\n",
    "knn_acc = knn.score(x_test, y_test)\n",
    "svc_acc = svc.score(x_test, y_test)\n",
    "dummy_acc = dummy_majority.score(x_test, y_test)\n",
    "\n",
    "print('Tree :', round(tree_acc,2), 'Knn :', round(knn_acc,2), \\\n",
    "      'SVC :', round(svc_acc,2), 'dummy :', round(dummy_acc,2))"
   ]
  },
  {
   "cell_type": "code",
   "execution_count": null,
   "id": "36563008",
   "metadata": {},
   "outputs": [],
   "source": []
  },
  {
   "cell_type": "code",
   "execution_count": 51,
   "id": "64a18bb0",
   "metadata": {},
   "outputs": [],
   "source": [
    "from sklearn.metrics import f1_score"
   ]
  },
  {
   "cell_type": "code",
   "execution_count": 54,
   "id": "a6900da5",
   "metadata": {},
   "outputs": [
    {
     "name": "stdout",
     "output_type": "stream",
     "text": [
      "Tree : 0.83 Knn : 0.99 SVC : 0.99 dummy : 0.0\n"
     ]
    }
   ],
   "source": [
    "# f1_score\n",
    "\n",
    "tree = DecisionTreeClassifier()\n",
    "knn = KNeighborsClassifier()\n",
    "svc = SVC()\n",
    "\n",
    "tree.fit(x_train, y_train)\n",
    "knn.fit(x_train, y_train)\n",
    "svc.fit(x_train, y_train)\n",
    "\n",
    "tree_preds = tree.predict(x_test)\n",
    "knn_preds = knn.predict(x_test)\n",
    "svc_preds = svc.predict(x_test)\n",
    "dummy_preds = dummy_majority.predict(x_test)\n",
    "\n",
    "tree_f1 = f1_score(tree_preds, y_test)\n",
    "knn_f1 = f1_score(knn_preds, y_test)\n",
    "svc_f1 = f1_score(svc_preds, y_test)\n",
    "dummy_f1 = f1_score(dummy_preds, y_test)\n",
    "\n",
    "print('Tree :', round(tree_f1,2), 'Knn :', round(knn_f1,2), \\\n",
    "      'SVC :', round(svc_f1,2), 'dummy :', round(dummy_f1,2))"
   ]
  },
  {
   "cell_type": "code",
   "execution_count": null,
   "id": "9ad33aef",
   "metadata": {},
   "outputs": [],
   "source": []
  },
  {
   "cell_type": "code",
   "execution_count": null,
   "id": "71efbd7a",
   "metadata": {},
   "outputs": [],
   "source": []
  },
  {
   "cell_type": "code",
   "execution_count": null,
   "id": "89c86b45",
   "metadata": {},
   "outputs": [],
   "source": [
    "# 모든 머신러닝 모델은 내부적으로 확률값을 리턴.."
   ]
  },
  {
   "cell_type": "code",
   "execution_count": 56,
   "id": "986d22f1",
   "metadata": {
    "collapsed": true
   },
   "outputs": [
    {
     "name": "stdout",
     "output_type": "stream",
     "text": [
      "[[ -1.58341978 -22.37156225]\n",
      " [ -4.17570775  -5.96493849]\n",
      " [-13.82618705 -14.40188785]\n",
      " [  0.71057905  -3.81896754]\n",
      " [-16.18799493 -17.86041252]\n",
      " [ -5.04648232 -13.08413534]\n",
      " [ -2.38421045   4.24907617]\n",
      " [ -7.62667962  -7.02174225]\n",
      " [ -4.33194738 -16.93515838]\n",
      " [-10.46971421  -3.7552367 ]] [0 0 0 0 0 0 0 0 0 0]\n"
     ]
    }
   ],
   "source": [
    "from mglearn.datasets import make_blobs\n",
    "\n",
    "x, y = make_blobs(n_samples=(400,5), centers=2, cluster_std=[7, 2], random_state=11)\n",
    "print(x[:10],y[:10])"
   ]
  },
  {
   "cell_type": "code",
   "execution_count": 57,
   "id": "1cc46f66",
   "metadata": {},
   "outputs": [],
   "source": [
    "x_train, x_test, y_train, y_test = train_test_split(x,y, random_state=111)"
   ]
  },
  {
   "cell_type": "code",
   "execution_count": 59,
   "id": "d92aec6f",
   "metadata": {
    "collapsed": true
   },
   "outputs": [
    {
     "data": {
      "text/plain": [
       "array([0, 0, 0, 0, 0, 0, 0, 0, 0, 0, 0, 0, 0, 0, 0, 0, 0, 0, 0, 0, 0, 0,\n",
       "       0, 0, 0, 0, 0, 0, 0, 0, 0, 0, 0, 0, 0, 0, 0, 0, 0, 0, 0, 0, 0, 0,\n",
       "       0, 0, 0, 0, 0, 0, 0, 0, 0, 0, 0, 0, 0, 0, 0, 0, 0, 0, 0, 0, 0, 0,\n",
       "       0, 0, 0, 0, 0, 0, 0, 0, 0, 0, 0, 0, 0, 0, 0, 0, 0, 0, 0, 0, 0, 0,\n",
       "       0, 0, 0, 0, 0, 0, 0, 0, 0, 0, 0, 0, 0, 0])"
      ]
     },
     "execution_count": 59,
     "metadata": {},
     "output_type": "execute_result"
    }
   ],
   "source": [
    "svc = SVC(gamma=0.5, probability=True)\n",
    "svc.fit(x_train, y_train)\n",
    "preds= svc.predict(x_test)\n",
    "preds"
   ]
  },
  {
   "cell_type": "code",
   "execution_count": 61,
   "id": "0be4adfb",
   "metadata": {
    "collapsed": true
   },
   "outputs": [
    {
     "data": {
      "text/plain": [
       "array([-1.00042127, -0.98834083, -1.00017991, -1.00268102, -1.00259514,\n",
       "       -1.0097318 , -0.98095167, -0.99972821, -1.00114562, -0.99806483,\n",
       "       -0.99550865, -0.99961719, -0.99849675, -0.98472113, -0.99423151,\n",
       "       -0.99603354, -0.99907795, -0.99892433, -0.99827454, -0.99601774,\n",
       "       -0.9925531 , -0.99938851, -0.55276913, -0.99923388, -0.99996865,\n",
       "       -0.99892612, -0.99178177, -0.97920177, -0.99391665, -0.99821058,\n",
       "       -0.97968924, -1.00020803, -0.98653578, -0.99996991, -0.99592681,\n",
       "       -1.00038151, -1.00016914, -0.99484696, -1.00007618, -1.00023198,\n",
       "       -1.00127871, -1.00007277, -0.99350691, -0.98912015, -0.97884923,\n",
       "       -0.9934615 , -0.99424342, -0.98915669, -0.99371648, -1.00037992,\n",
       "       -0.99657723, -0.99981443, -0.97809583, -1.00127669, -0.99545891,\n",
       "       -1.00064909, -0.99691643, -0.98011279, -0.99466191, -0.9927486 ,\n",
       "       -0.98245218, -0.99870695, -0.98365529, -0.9927829 , -0.99880466,\n",
       "       -0.99993715, -0.9996613 , -0.99927742, -0.98167611, -1.00089225,\n",
       "       -0.98898447, -1.00194608, -0.99908946, -0.99757007, -0.98851902,\n",
       "       -1.08408283, -0.99185689, -0.99943224, -0.99992557, -0.99758258,\n",
       "       -0.99954431, -1.00096906, -0.98580211, -0.99428994, -0.99805884,\n",
       "       -0.99288868, -0.98130711, -1.00042502, -1.00011663, -0.99408925,\n",
       "       -0.99968208, -0.99884867, -0.99967334, -1.00075821, -0.97809584,\n",
       "       -0.99715313, -0.98766929, -0.98957893, -0.99850777, -1.00028977,\n",
       "       -0.99394016, -0.98928431])"
      ]
     },
     "execution_count": 61,
     "metadata": {},
     "output_type": "execute_result"
    }
   ],
   "source": [
    "svc.decision_function(x_test)  # 0보다 크면 1, 0보다 작으며 0으로 예측.."
   ]
  },
  {
   "cell_type": "code",
   "execution_count": null,
   "id": "1bf60b20",
   "metadata": {},
   "outputs": [],
   "source": [
    "# sklearn에서 모델이 확률값을 리턴하는 함수..\n",
    "# 1. decision_function() - 0을 기준으로. svc\n",
    "# 2. predict_proba() - 0.5를 기준으로, 높은 확률값의 클래스. svc"
   ]
  },
  {
   "cell_type": "code",
   "execution_count": 65,
   "id": "d647022b",
   "metadata": {
    "collapsed": true
   },
   "outputs": [
    {
     "data": {
      "text/plain": [
       "array([[9.81323529e-01, 1.86764708e-02],\n",
       "       [9.91382250e-01, 8.61775025e-03],\n",
       "       [9.81609473e-01, 1.83905268e-02],\n",
       "       [9.78422753e-01, 2.15772467e-02],\n",
       "       [9.78540755e-01, 2.14592448e-02],\n",
       "       [9.66191912e-01, 3.38080881e-02],\n",
       "       [9.94633602e-01, 5.36639817e-03],\n",
       "       [9.82132980e-01, 1.78670201e-02],\n",
       "       [9.80438572e-01, 1.95614278e-02],\n",
       "       [9.83936180e-01, 1.60638203e-02],\n",
       "       [9.86360386e-01, 1.36396138e-02],\n",
       "       [9.82259365e-01, 1.77406345e-02],\n",
       "       [9.83486136e-01, 1.65138639e-02],\n",
       "       [9.93166644e-01, 6.83335560e-03],\n",
       "       [9.87431343e-01, 1.25686566e-02],\n",
       "       [9.85894296e-01, 1.41057040e-02],\n",
       "       [9.82860692e-01, 1.71393081e-02],\n",
       "       [9.83028262e-01, 1.69717384e-02],\n",
       "       [9.83719214e-01, 1.62807864e-02],\n",
       "       [9.85908554e-01, 1.40914463e-02],\n",
       "       [9.88712319e-01, 1.12876809e-02],\n",
       "       [9.82516894e-01, 1.74831060e-02],\n",
       "       [9.99999900e-01, 1.00000010e-07],\n",
       "       [9.82688922e-01, 1.73110783e-02],\n",
       "       [9.81856189e-01, 1.81438108e-02],\n",
       "       [9.83026314e-01, 1.69736856e-02],\n",
       "       [9.89256486e-01, 1.07435144e-02],\n",
       "       [9.95203152e-01, 4.79684832e-03],\n",
       "       [9.87682221e-01, 1.23177790e-02],\n",
       "       [9.83785687e-01, 1.62143127e-02],\n",
       "       [9.95050855e-01, 4.94914471e-03],\n",
       "       [9.81576379e-01, 1.84236214e-02],\n",
       "       [9.92323716e-01, 7.67628370e-03],\n",
       "       [9.81854729e-01, 1.81452707e-02],\n",
       "       [9.85990339e-01, 1.40096614e-02],\n",
       "       [9.81370933e-01, 1.86290672e-02],\n",
       "       [9.81622129e-01, 1.83778710e-02],\n",
       "       [9.86926140e-01, 1.30738601e-02],\n",
       "       [9.81731025e-01, 1.82689751e-02],\n",
       "       [9.81548148e-01, 1.84518524e-02],\n",
       "       [9.80271505e-01, 1.97284947e-02],\n",
       "       [9.81735010e-01, 1.82649895e-02],\n",
       "       [9.88001244e-01, 1.19987559e-02],\n",
       "       [9.90940933e-01, 9.05906670e-03],\n",
       "       [9.95310367e-01, 4.68963307e-03],\n",
       "       [9.88036086e-01, 1.19639136e-02],\n",
       "       [9.87421751e-01, 1.25782488e-02],\n",
       "       [9.90919694e-01, 9.08030645e-03],\n",
       "       [9.87839115e-01, 1.21608852e-02],\n",
       "       [9.81372820e-01, 1.86271802e-02],\n",
       "       [9.85394777e-01, 1.46052235e-02],\n",
       "       [9.82034211e-01, 1.79657891e-02],\n",
       "       [9.95531526e-01, 4.46847375e-03],\n",
       "       [9.80274054e-01, 1.97259460e-02],\n",
       "       [9.86403752e-01, 1.35962478e-02],\n",
       "       [9.81049567e-01, 1.89504333e-02],\n",
       "       [9.85074250e-01, 1.49257500e-02],\n",
       "       [9.94914611e-01, 5.08538884e-03],\n",
       "       [9.87080134e-01, 1.29198660e-02],\n",
       "       [9.88570079e-01, 1.14299206e-02],\n",
       "       [9.94091694e-01, 5.90830639e-03],\n",
       "       [9.83262594e-01, 1.67374056e-02],\n",
       "       [9.93617946e-01, 6.38205389e-03],\n",
       "       [9.88544939e-01, 1.14550611e-02],\n",
       "       [9.83157671e-01, 1.68423286e-02],\n",
       "       [9.81892687e-01, 1.81073133e-02],\n",
       "       [9.82209248e-01, 1.77907517e-02],\n",
       "       [9.82640659e-01, 1.73593413e-02],\n",
       "       [9.94378470e-01, 5.62153045e-03],\n",
       "       [9.80752760e-01, 1.92472403e-02],\n",
       "       [9.91019355e-01, 8.98064494e-03],\n",
       "       [9.79412138e-01, 2.05878620e-02],\n",
       "       [9.82848070e-01, 1.71519303e-02],\n",
       "       [9.84436715e-01, 1.55632847e-02],\n",
       "       [9.91283278e-01, 8.71672164e-03],\n",
       "       [1.99907272e-01, 8.00092728e-01],\n",
       "       [9.89204662e-01, 1.07953375e-02],\n",
       "       [9.82467932e-01, 1.75320682e-02],\n",
       "       [9.81906085e-01, 1.80939146e-02],\n",
       "       [9.84424250e-01, 1.55757496e-02],\n",
       "       [9.82341846e-01, 1.76581536e-02],\n",
       "       [9.80658043e-01, 1.93419574e-02],\n",
       "       [9.92676352e-01, 7.32364752e-03],\n",
       "       [9.87384226e-01, 1.26157741e-02],\n",
       "       [9.83942336e-01, 1.60576644e-02],\n",
       "       [9.88467065e-01, 1.15329352e-02],\n",
       "       [9.94509903e-01, 5.49009741e-03],\n",
       "       [9.81319046e-01, 1.86809535e-02],\n",
       "       [9.81683716e-01, 1.83162836e-02],\n",
       "       [9.87545323e-01, 1.24546768e-02],\n",
       "       [9.82185596e-01, 1.78144044e-02],\n",
       "       [9.83110194e-01, 1.68898061e-02],\n",
       "       [9.82195557e-01, 1.78044428e-02],\n",
       "       [9.80916932e-01, 1.90830683e-02],\n",
       "       [9.95531523e-01, 4.46847731e-03],\n",
       "       [9.84846442e-01, 1.51535581e-02],\n",
       "       [9.91745274e-01, 8.25472571e-03],\n",
       "       [9.90670657e-01, 9.32934343e-03],\n",
       "       [9.83474485e-01, 1.65255155e-02],\n",
       "       [9.81479861e-01, 1.85201392e-02],\n",
       "       [9.87663666e-01, 1.23363344e-02],\n",
       "       [9.90845131e-01, 9.15486945e-03]])"
      ]
     },
     "execution_count": 65,
     "metadata": {},
     "output_type": "execute_result"
    }
   ],
   "source": [
    "svc.predict_proba(x_test)"
   ]
  },
  {
   "cell_type": "code",
   "execution_count": 63,
   "id": "13626cb4",
   "metadata": {
    "collapsed": true
   },
   "outputs": [
    {
     "data": {
      "text/plain": [
       "array([0, 0, 0, 0, 0, 0, 0, 0, 0, 0, 0, 0, 0, 0, 0, 0, 0, 0, 0, 0, 0, 0,\n",
       "       0, 0, 0, 0, 0, 0, 0, 0, 0, 0, 0, 0, 0, 0, 0, 0, 0, 0, 0, 0, 0, 0,\n",
       "       0, 0, 0, 0, 0, 0, 0, 0, 0, 0, 0, 0, 0, 0, 0, 0, 0, 0, 0, 0, 0, 0,\n",
       "       0, 0, 0, 0, 0, 0, 0, 0, 0, 1, 0, 0, 0, 0, 0, 0, 0, 0, 0, 0, 0, 0,\n",
       "       0, 0, 0, 0, 0, 0, 0, 0, 0, 0, 0, 0, 0, 0], dtype=int64)"
      ]
     },
     "execution_count": 63,
     "metadata": {},
     "output_type": "execute_result"
    }
   ],
   "source": [
    "svc.predict_proba(x_test).argmax(axis=1)"
   ]
  },
  {
   "cell_type": "code",
   "execution_count": null,
   "id": "8a50f0f4",
   "metadata": {},
   "outputs": [],
   "source": []
  },
  {
   "cell_type": "code",
   "execution_count": null,
   "id": "96d96a38",
   "metadata": {},
   "outputs": [],
   "source": []
  },
  {
   "cell_type": "code",
   "execution_count": null,
   "id": "b3b8e45e",
   "metadata": {},
   "outputs": [],
   "source": []
  },
  {
   "cell_type": "code",
   "execution_count": null,
   "id": "86266bb1",
   "metadata": {},
   "outputs": [],
   "source": []
  }
 ],
 "metadata": {
  "kernelspec": {
   "display_name": "Python 3 (ipykernel)",
   "language": "python",
   "name": "python3"
  },
  "language_info": {
   "codemirror_mode": {
    "name": "ipython",
    "version": 3
   },
   "file_extension": ".py",
   "mimetype": "text/x-python",
   "name": "python",
   "nbconvert_exporter": "python",
   "pygments_lexer": "ipython3",
   "version": "3.9.7"
  }
 },
 "nbformat": 4,
 "nbformat_minor": 5
}

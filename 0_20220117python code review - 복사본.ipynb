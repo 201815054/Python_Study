{
 "cells": [
  {
   "cell_type": "markdown",
   "id": "9bd9d488",
   "metadata": {},
   "source": [
    "### String"
   ]
  },
  {
   "cell_type": "code",
   "execution_count": 1,
   "id": "1f6a3634",
   "metadata": {},
   "outputs": [],
   "source": [
    "txt1 = '  A tale that was not right  '\n",
    "txt2 = '이 또한 지나가리라  '\n",
    "\n",
    "# ----------------------\n",
    "\n",
    "# tale을 출력하시오..\n",
    "# '지'를 출력하시오..\n",
    "# 'a'는 몇 개가 존재하는가?\n",
    "# txt1에서 모음의 갯수는 몇 개인가?\n",
    "# '또한'을 '것도'로 수정하시오\n",
    "# txt1을 대문자로 출력하시오..\n",
    "# txt1에서 right은 몇 번째 인덱스에 등장하는가?\n",
    "# txt1을 space를 기준으로 나누어서 리스트에 담으시오..\n",
    "# txt2의 길이는 얼마인가?\n",
    "# txt2를 character 단위로 나누어서 리스트에 담으시오..\n",
    "# txt1의 좌우 공백을 제거하시오..\n",
    "# txt2를 역순으로 출력하시오..\n",
    "# txt1에서 짝수 인덱스만 출력하시오..\n",
    "# txt2를 두 번 반복하시오..\n",
    "# txt1과 txt2를 연결하여 하나의 문자열로 만드시오..\n",
    "# txt1에서 'right'이 존재하는지 확인하시오..\n",
    "# txt1에서 뒤에서 5번째 문자를 출력하시오..\n",
    "# txt1의 문자를 index와 튜플로 묶어서 리스트에 담으시오..\n",
    "\n",
    "url = 'http://www.naver.com/news/today=20221230'\n",
    "# url중 도메인만 출력하시오\n",
    "\n",
    "log = 'name : 홍길동, age:17, sex: 남성, nation : 대한민국 '\n",
    "# 아래와 같이 출력하시오.\n",
    "# name => '홍길동'\n",
    "# age => 17\n",
    "# sex => 남성\n",
    "# ..."
   ]
  },
  {
   "cell_type": "code",
   "execution_count": null,
   "id": "4c956311",
   "metadata": {},
   "outputs": [],
   "source": [
    "txt1 = '  A tale that was not right  '\n",
    "txt2 = '이 또한 지나가리라  '"
   ]
  },
  {
   "cell_type": "code",
   "execution_count": 3,
   "id": "be03ad34",
   "metadata": {},
   "outputs": [
    {
     "data": {
      "text/plain": [
       "'tale'"
      ]
     },
     "execution_count": 3,
     "metadata": {},
     "output_type": "execute_result"
    }
   ],
   "source": [
    "# tale을 출력하시오..\n",
    "txt1[4:8]"
   ]
  },
  {
   "cell_type": "code",
   "execution_count": 4,
   "id": "777708f6",
   "metadata": {},
   "outputs": [
    {
     "data": {
      "text/plain": [
       "'지'"
      ]
     },
     "execution_count": 4,
     "metadata": {},
     "output_type": "execute_result"
    }
   ],
   "source": [
    "# '지'를 출력하시오..\n",
    "txt2[5]"
   ]
  },
  {
   "cell_type": "code",
   "execution_count": 6,
   "id": "70b576cc",
   "metadata": {},
   "outputs": [
    {
     "data": {
      "text/plain": [
       "3"
      ]
     },
     "execution_count": 6,
     "metadata": {},
     "output_type": "execute_result"
    }
   ],
   "source": [
    "# 'a'는 몇 개가 존재하는가?\n",
    "txt1.count('a')"
   ]
  },
  {
   "cell_type": "code",
   "execution_count": 7,
   "id": "0279ce7a",
   "metadata": {},
   "outputs": [
    {
     "data": {
      "text/plain": [
       "7"
      ]
     },
     "execution_count": 7,
     "metadata": {},
     "output_type": "execute_result"
    }
   ],
   "source": [
    "# txt1에서 모음의 갯수는 몇 개인가?\n",
    "suma = 0\n",
    "for c in txt1:\n",
    "    if c in 'aeiouAEIOU':\n",
    "        suma +=1\n",
    "suma"
   ]
  },
  {
   "cell_type": "code",
   "execution_count": 9,
   "id": "a14d35f9",
   "metadata": {},
   "outputs": [
    {
     "data": {
      "text/plain": [
       "'이 것도 지나가리라  '"
      ]
     },
     "execution_count": 9,
     "metadata": {},
     "output_type": "execute_result"
    }
   ],
   "source": [
    "# '또한'을 '것도'로 수정하시오\n",
    "txt2.replace('또한', '것도')"
   ]
  },
  {
   "cell_type": "code",
   "execution_count": 10,
   "id": "ebb94387",
   "metadata": {},
   "outputs": [
    {
     "data": {
      "text/plain": [
       "'  A TALE THAT WAS NOT RIGHT  '"
      ]
     },
     "execution_count": 10,
     "metadata": {},
     "output_type": "execute_result"
    }
   ],
   "source": [
    "# txt1을 대문자로 출력하시오..\n",
    "txt1.upper()"
   ]
  },
  {
   "cell_type": "code",
   "execution_count": 11,
   "id": "b915a974",
   "metadata": {
    "collapsed": true
   },
   "outputs": [
    {
     "data": {
      "text/plain": [
       "22"
      ]
     },
     "execution_count": 11,
     "metadata": {},
     "output_type": "execute_result"
    }
   ],
   "source": [
    "# txt1에서 right은 몇 번째 인덱스에 등장하는가?\n",
    "txt1.find('right')"
   ]
  },
  {
   "cell_type": "code",
   "execution_count": 12,
   "id": "f9e492ee",
   "metadata": {
    "collapsed": true
   },
   "outputs": [
    {
     "data": {
      "text/plain": [
       "22"
      ]
     },
     "execution_count": 12,
     "metadata": {},
     "output_type": "execute_result"
    }
   ],
   "source": [
    "txt1.index('right')"
   ]
  },
  {
   "cell_type": "code",
   "execution_count": 13,
   "id": "b0526992",
   "metadata": {
    "collapsed": true
   },
   "outputs": [
    {
     "data": {
      "text/plain": [
       "-1"
      ]
     },
     "execution_count": 13,
     "metadata": {},
     "output_type": "execute_result"
    }
   ],
   "source": [
    "txt1.find('heaven')"
   ]
  },
  {
   "cell_type": "code",
   "execution_count": 14,
   "id": "dcf6c960",
   "metadata": {
    "collapsed": true
   },
   "outputs": [
    {
     "ename": "ValueError",
     "evalue": "substring not found",
     "output_type": "error",
     "traceback": [
      "\u001b[1;31m---------------------------------------------------------------------------\u001b[0m",
      "\u001b[1;31mValueError\u001b[0m                                Traceback (most recent call last)",
      "\u001b[1;32m~\\AppData\\Local\\Temp/ipykernel_3248/1731300971.py\u001b[0m in \u001b[0;36m<module>\u001b[1;34m\u001b[0m\n\u001b[1;32m----> 1\u001b[1;33m \u001b[0mtxt1\u001b[0m\u001b[1;33m.\u001b[0m\u001b[0mindex\u001b[0m\u001b[1;33m(\u001b[0m\u001b[1;34m'heaven'\u001b[0m\u001b[1;33m)\u001b[0m\u001b[1;33m\u001b[0m\u001b[1;33m\u001b[0m\u001b[0m\n\u001b[0m",
      "\u001b[1;31mValueError\u001b[0m: substring not found"
     ]
    }
   ],
   "source": [
    "txt1.index('heaven')"
   ]
  },
  {
   "cell_type": "code",
   "execution_count": 15,
   "id": "78e34879",
   "metadata": {},
   "outputs": [
    {
     "data": {
      "text/plain": [
       "['A', 'tale', 'that', 'was', 'not', 'right']"
      ]
     },
     "execution_count": 15,
     "metadata": {},
     "output_type": "execute_result"
    }
   ],
   "source": [
    "# txt1을 space를 기준으로 나누어서 리스트에 담으시오..\n",
    "txt1.split()"
   ]
  },
  {
   "cell_type": "code",
   "execution_count": 16,
   "id": "1ae395d0",
   "metadata": {},
   "outputs": [
    {
     "data": {
      "text/plain": [
       "29"
      ]
     },
     "execution_count": 16,
     "metadata": {},
     "output_type": "execute_result"
    }
   ],
   "source": [
    "# txt2의 길이는 얼마인가?\n",
    "len(txt1)"
   ]
  },
  {
   "cell_type": "code",
   "execution_count": 17,
   "id": "dbbbab5c",
   "metadata": {},
   "outputs": [
    {
     "data": {
      "text/plain": [
       "['이', ' ', '또', '한', ' ', '지', '나', '가', '리', '라', ' ', ' ']"
      ]
     },
     "execution_count": 17,
     "metadata": {},
     "output_type": "execute_result"
    }
   ],
   "source": [
    "# txt2를 character 단위로 나누어서 리스트에 담으시오..\n",
    "list(txt2)"
   ]
  },
  {
   "cell_type": "code",
   "execution_count": 20,
   "id": "05c4ac20",
   "metadata": {},
   "outputs": [
    {
     "data": {
      "text/plain": [
       "'A tale that was not right'"
      ]
     },
     "execution_count": 20,
     "metadata": {},
     "output_type": "execute_result"
    }
   ],
   "source": [
    "# txt1의 좌우 공백을 제거하시오..\n",
    "txt1.strip()"
   ]
  },
  {
   "cell_type": "code",
   "execution_count": 21,
   "id": "cc155d34",
   "metadata": {},
   "outputs": [
    {
     "data": {
      "text/plain": [
       "'  라리가나지 한또 이'"
      ]
     },
     "execution_count": 21,
     "metadata": {},
     "output_type": "execute_result"
    }
   ],
   "source": [
    "# txt2를 역순으로 출력하시오..\n",
    "txt2[::-1]"
   ]
  },
  {
   "cell_type": "code",
   "execution_count": 23,
   "id": "55ef03b1",
   "metadata": {},
   "outputs": [
    {
     "data": {
      "text/plain": [
       "'이 또한 지나가리라  '"
      ]
     },
     "execution_count": 23,
     "metadata": {},
     "output_type": "execute_result"
    }
   ],
   "source": [
    "txt2"
   ]
  },
  {
   "cell_type": "code",
   "execution_count": null,
   "id": "e641e4f5",
   "metadata": {},
   "outputs": [],
   "source": [
    "# txt1에서 짝수 인덱스만 출력하시오..\n",
    "txt2[0:30:2]"
   ]
  },
  {
   "cell_type": "code",
   "execution_count": 28,
   "id": "6c2c09b9",
   "metadata": {},
   "outputs": [
    {
     "data": {
      "text/plain": [
       "'이 또한 지나가리라  이 또한 지나가리라  '"
      ]
     },
     "execution_count": 28,
     "metadata": {},
     "output_type": "execute_result"
    }
   ],
   "source": [
    "# txt2를 두 번 반복하시오..\n",
    "txt2*2"
   ]
  },
  {
   "cell_type": "code",
   "execution_count": 29,
   "id": "25d71805",
   "metadata": {},
   "outputs": [
    {
     "data": {
      "text/plain": [
       "'  A tale that was not right  이 또한 지나가리라  '"
      ]
     },
     "execution_count": 29,
     "metadata": {},
     "output_type": "execute_result"
    }
   ],
   "source": [
    "# txt1과 txt2를 연결하여 하나의 문자열로 만드시오..\n",
    "txt1 + txt2"
   ]
  },
  {
   "cell_type": "code",
   "execution_count": 30,
   "id": "254ee26d",
   "metadata": {},
   "outputs": [
    {
     "data": {
      "text/plain": [
       "True"
      ]
     },
     "execution_count": 30,
     "metadata": {},
     "output_type": "execute_result"
    }
   ],
   "source": [
    "# txt1에서 'right'이 존재하는지 확인하시오..\n",
    "'right' in txt1"
   ]
  },
  {
   "cell_type": "code",
   "execution_count": 31,
   "id": "7ec1b336",
   "metadata": {},
   "outputs": [
    {
     "data": {
      "text/plain": [
       "'g'"
      ]
     },
     "execution_count": 31,
     "metadata": {},
     "output_type": "execute_result"
    }
   ],
   "source": [
    "# txt1에서 뒤에서 5번째 문자를 출력하시오..\n",
    "txt1[-5]"
   ]
  },
  {
   "cell_type": "code",
   "execution_count": 32,
   "id": "7ac28b8f",
   "metadata": {
    "collapsed": true
   },
   "outputs": [
    {
     "data": {
      "text/plain": [
       "[(0, ' '),\n",
       " (1, ' '),\n",
       " (2, 'A'),\n",
       " (3, ' '),\n",
       " (4, 't'),\n",
       " (5, 'a'),\n",
       " (6, 'l'),\n",
       " (7, 'e'),\n",
       " (8, ' '),\n",
       " (9, 't'),\n",
       " (10, 'h'),\n",
       " (11, 'a'),\n",
       " (12, 't'),\n",
       " (13, ' '),\n",
       " (14, 'w'),\n",
       " (15, 'a'),\n",
       " (16, 's'),\n",
       " (17, ' '),\n",
       " (18, 'n'),\n",
       " (19, 'o'),\n",
       " (20, 't'),\n",
       " (21, ' '),\n",
       " (22, 'r'),\n",
       " (23, 'i'),\n",
       " (24, 'g'),\n",
       " (25, 'h'),\n",
       " (26, 't'),\n",
       " (27, ' '),\n",
       " (28, ' ')]"
      ]
     },
     "execution_count": 32,
     "metadata": {},
     "output_type": "execute_result"
    }
   ],
   "source": [
    "# txt1의 문자를 index와 튜플로 묶어서 리스트에 담으시오..\n",
    "[(i, c) for i, c in enumerate(txt1)]"
   ]
  },
  {
   "cell_type": "code",
   "execution_count": 35,
   "id": "53ffe86d",
   "metadata": {},
   "outputs": [
    {
     "data": {
      "text/plain": [
       "'www.naver.com'"
      ]
     },
     "execution_count": 35,
     "metadata": {},
     "output_type": "execute_result"
    }
   ],
   "source": [
    "url = 'http://www.naver.com/news/today=20221230'\n",
    "# url중 도메인만 출력하시오\n",
    "url.split('/')[2]"
   ]
  },
  {
   "cell_type": "code",
   "execution_count": 39,
   "id": "7227de10",
   "metadata": {},
   "outputs": [
    {
     "name": "stdout",
     "output_type": "stream",
     "text": [
      "name => 홍길동\n",
      "age => 17\n",
      "sex => 남성\n",
      "nation => 대한민국\n"
     ]
    }
   ],
   "source": [
    "log = 'name : 홍길동, age:17, sex: 남성, nation : 대한민국 '\n",
    "# 아래와 같이 출력하시오.\n",
    "# name => '홍길동'\n",
    "# age => 17\n",
    "# sex => 남성\n",
    "# ...\n",
    "\n",
    "for i in log.split(','):\n",
    "    name = i.split(':')[0].strip()\n",
    "    value = i.split(':')[1].strip()\n",
    "    print(name, '=>', value)"
   ]
  },
  {
   "cell_type": "code",
   "execution_count": 40,
   "id": "8e04fa00",
   "metadata": {},
   "outputs": [
    {
     "data": {
      "text/plain": [
       "'\\n서울·인천=연합뉴스) 고동욱 홍준석 기자 = 더불어민주당 이재명 대선후보는 14일 \\n\"기획재정부가 오늘 소상공인 지원 예산을 위한 추가경정예산안을 편성한다고 \\n발표했는데, 또 조금만 했더라\"고 말했다.\\n\\n이 후보는 이날 오전 매타버스(매주 타는 민생버스) 인천 일정을 시작하기에 앞서 \\n유튜브로 진행한 출발 인사에서 이같이 밝혔다.\\n'"
      ]
     },
     "execution_count": 40,
     "metadata": {},
     "output_type": "execute_result"
    }
   ],
   "source": [
    "text = \"\"\"\n",
    "서울·인천=연합뉴스) 고동욱 홍준석 기자 = 더불어민주당 이재명 대선후보는 14일 \n",
    "\"기획재정부가 오늘 소상공인 지원 예산을 위한 추가경정예산안을 편성한다고 \n",
    "발표했는데, 또 조금만 했더라\"고 말했다.\n",
    "\n",
    "이 후보는 이날 오전 매타버스(매주 타는 민생버스) 인천 일정을 시작하기에 앞서 \n",
    "유튜브로 진행한 출발 인사에서 이같이 밝혔다.\n",
    "\"\"\"\n",
    "\n",
    "text"
   ]
  },
  {
   "cell_type": "code",
   "execution_count": 41,
   "id": "8f0f895a",
   "metadata": {},
   "outputs": [
    {
     "data": {
      "text/plain": [
       "\"기획재정부가 오늘 '소상공인' 지원 예산을 위한 추가경정예산안\""
      ]
     },
     "execution_count": 41,
     "metadata": {},
     "output_type": "execute_result"
    }
   ],
   "source": [
    "text =  \"기획재정부가 오늘 '소상공인' 지원 예산을 위한 추가경정예산안\"\n",
    "text"
   ]
  },
  {
   "cell_type": "code",
   "execution_count": 43,
   "id": "e9fc95ec",
   "metadata": {},
   "outputs": [
    {
     "data": {
      "text/plain": [
       "'기획재정부가 오늘 \"소상공인\" 지원 예산을 위한 추가경정예산안'"
      ]
     },
     "execution_count": 43,
     "metadata": {},
     "output_type": "execute_result"
    }
   ],
   "source": [
    "text =  '기획재정부가 오늘 \"소상공인\" 지원 예산을 위한 추가경정예산안'\n",
    "text"
   ]
  },
  {
   "cell_type": "code",
   "execution_count": 44,
   "id": "34f5b04c",
   "metadata": {},
   "outputs": [
    {
     "data": {
      "text/plain": [
       "'기획재정부가 오늘 \"소상공인\" 지원 예산을 위한 추가경정예산안'"
      ]
     },
     "execution_count": 44,
     "metadata": {},
     "output_type": "execute_result"
    }
   ],
   "source": [
    "text =  '기획재정부가 오늘 \\\n",
    "\"소상공인\" 지원 예산을 \\\n",
    "위한 추가경정예산안'\n",
    "\n",
    "text"
   ]
  },
  {
   "cell_type": "code",
   "execution_count": null,
   "id": "d49fc1dc",
   "metadata": {},
   "outputs": [],
   "source": []
  },
  {
   "cell_type": "markdown",
   "id": "a7becc4d",
   "metadata": {},
   "source": [
    "### datatype\n",
    "\n",
    "1. 기본형\n",
    "- int :95\n",
    "- float : 95.8\n",
    "- bool : True, False\n",
    "    \n",
    "2. 군집형 (여러 요소가 모여서 하나의 데이터 형식)\n",
    "- string : '' , 요소의 수정,삭제,추가 안 됨.., 순서,인덱스 존재\n",
    "- list :  [], 요소의 수정,삭제,추가가 자유로움.. 순서,인덱스 존재\n",
    "- tuple : (), 요소의 수정,삭제,추가 안 됨.., 수정하지 않을 값, 보조용, 순서,인덱스 존재\n",
    "- set : {}, 집합. 요소의 삭제,추가 안 됨. 중복요소가 없다. 집합연산, 순서,인덱스 X\n",
    "- dictionary : {key:value}, 요소의 수정,삭제,추가가 자유로움. 데이터의 저장(json과 유사), 순서 없고, 인덱스는 key가 역할"
   ]
  },
  {
   "cell_type": "code",
   "execution_count": null,
   "id": "5d0f3370",
   "metadata": {},
   "outputs": [],
   "source": []
  },
  {
   "cell_type": "markdown",
   "id": "91f3e93e",
   "metadata": {},
   "source": [
    "### List"
   ]
  },
  {
   "cell_type": "code",
   "execution_count": 45,
   "id": "62ff443f",
   "metadata": {},
   "outputs": [],
   "source": [
    "score = [81, 90, 78, 'python', 'hello', True, [78, 56, 32], (24,25,3)]"
   ]
  },
  {
   "cell_type": "code",
   "execution_count": 47,
   "id": "f0993aa2",
   "metadata": {},
   "outputs": [
    {
     "data": {
      "text/plain": [
       "'t'"
      ]
     },
     "execution_count": 47,
     "metadata": {},
     "output_type": "execute_result"
    }
   ],
   "source": [
    "# 't'를 출력하시오..\n",
    "score[3][2]"
   ]
  },
  {
   "cell_type": "code",
   "execution_count": 49,
   "id": "78a08cb2",
   "metadata": {},
   "outputs": [
    {
     "data": {
      "text/plain": [
       "56"
      ]
     },
     "execution_count": 49,
     "metadata": {},
     "output_type": "execute_result"
    }
   ],
   "source": [
    "# 56을 출력하시오..\n",
    "score[-2][1]"
   ]
  },
  {
   "cell_type": "code",
   "execution_count": 51,
   "id": "2fd5d375",
   "metadata": {},
   "outputs": [
    {
     "data": {
      "text/plain": [
       "25"
      ]
     },
     "execution_count": 51,
     "metadata": {},
     "output_type": "execute_result"
    }
   ],
   "source": [
    "# 마지막 요소의 최대값을 출력하시오\n",
    "max(score[-1])"
   ]
  },
  {
   "cell_type": "code",
   "execution_count": 52,
   "id": "68d29dc0",
   "metadata": {},
   "outputs": [
    {
     "data": {
      "text/plain": [
       "[81, 90, 78, 'world', 'hello', True, [78, 56, 32], (24, 25, 3)]"
      ]
     },
     "execution_count": 52,
     "metadata": {},
     "output_type": "execute_result"
    }
   ],
   "source": [
    "# 'python'을 'world'로 수정하시오.\n",
    "score[3] = 'world'\n",
    "score"
   ]
  },
  {
   "cell_type": "code",
   "execution_count": 53,
   "id": "2bc2ef47",
   "metadata": {},
   "outputs": [],
   "source": [
    "# 마지막에 'sun'을 추가하시오.\n",
    "score.append('sun')"
   ]
  },
  {
   "cell_type": "code",
   "execution_count": 54,
   "id": "600fbb40",
   "metadata": {},
   "outputs": [
    {
     "data": {
      "text/plain": [
       "[81, 90, 78, 'world', 'hello', True, [78, 56, 32], (24, 25, 3), 'sun']"
      ]
     },
     "execution_count": 54,
     "metadata": {},
     "output_type": "execute_result"
    }
   ],
   "source": [
    "score"
   ]
  },
  {
   "cell_type": "code",
   "execution_count": 55,
   "id": "e0a0c662",
   "metadata": {},
   "outputs": [
    {
     "data": {
      "text/plain": [
       "True"
      ]
     },
     "execution_count": 55,
     "metadata": {},
     "output_type": "execute_result"
    }
   ],
   "source": [
    "# 'world'가 있는지 확인하시오..\n",
    "'world' in score"
   ]
  },
  {
   "cell_type": "code",
   "execution_count": 58,
   "id": "3bbb10c0",
   "metadata": {},
   "outputs": [
    {
     "data": {
      "text/plain": [
       "[25, 24, 3]"
      ]
     },
     "execution_count": 58,
     "metadata": {},
     "output_type": "execute_result"
    }
   ],
   "source": [
    "# 마지막에서 2 번쨰 요소를 내림차순으로 정렬하시오..\n",
    "sorted(score[-2], reverse=True)"
   ]
  },
  {
   "cell_type": "code",
   "execution_count": 60,
   "id": "47382430",
   "metadata": {},
   "outputs": [
    {
     "data": {
      "text/plain": [
       "1"
      ]
     },
     "execution_count": 60,
     "metadata": {},
     "output_type": "execute_result"
    }
   ],
   "source": [
    "# 90은 몇 번째 인덱스에 있는지 확인하시오..\n",
    "score.index(90)"
   ]
  },
  {
   "cell_type": "code",
   "execution_count": 70,
   "id": "5c6a66ee",
   "metadata": {},
   "outputs": [
    {
     "data": {
      "text/plain": [
       "[81, 90, 78, 'world', 'hello', True, [78, 56, 32], (24, 25, 3), 'sun']"
      ]
     },
     "execution_count": 70,
     "metadata": {},
     "output_type": "execute_result"
    }
   ],
   "source": [
    "# 리스트를 역순으로 정렬하시오..\n",
    "score.reverse()\n",
    "score"
   ]
  },
  {
   "cell_type": "code",
   "execution_count": 71,
   "id": "88799814",
   "metadata": {},
   "outputs": [
    {
     "data": {
      "text/plain": [
       "['sea', 81, 90, 78, 'world', 'hello', True, [78, 56, 32], (24, 25, 3), 'sun']"
      ]
     },
     "execution_count": 71,
     "metadata": {},
     "output_type": "execute_result"
    }
   ],
   "source": [
    "# 0번째 인덱스에 'sea'를 추가하시오\n",
    "score.insert(0, 'sea')\n",
    "score"
   ]
  },
  {
   "cell_type": "code",
   "execution_count": 74,
   "id": "8543fabc",
   "metadata": {},
   "outputs": [
    {
     "data": {
      "text/plain": [
       "['sea', 81, 90, 78, 'world', 'hello', False, [78, 56, 32], (24, 25, 3), 'sun']"
      ]
     },
     "execution_count": 74,
     "metadata": {},
     "output_type": "execute_result"
    }
   ],
   "source": [
    "# True를 False로 수정하시오..\n",
    "score[score.index(True)] = False\n",
    "score"
   ]
  },
  {
   "cell_type": "code",
   "execution_count": 75,
   "id": "3390459d",
   "metadata": {},
   "outputs": [
    {
     "data": {
      "text/plain": [
       "['sea', 81, 90, 78, 'hello', False, [78, 56, 32], (24, 25, 3), 'sun']"
      ]
     },
     "execution_count": 75,
     "metadata": {},
     "output_type": "execute_result"
    }
   ],
   "source": [
    "# 'world'를 제거하시오\n",
    "score.remove('world')\n",
    "score"
   ]
  },
  {
   "cell_type": "code",
   "execution_count": 76,
   "id": "f0340584",
   "metadata": {},
   "outputs": [
    {
     "data": {
      "text/plain": [
       "['sea', 81, 90, 78, 'hello', False, [78, 56, 32], 'sun']"
      ]
     },
     "execution_count": 76,
     "metadata": {},
     "output_type": "execute_result"
    }
   ],
   "source": [
    "# 7번쨰 요소를 제거하시오..\n",
    "score.pop(7)\n",
    "score"
   ]
  },
  {
   "cell_type": "code",
   "execution_count": 77,
   "id": "9fe8c5e1",
   "metadata": {},
   "outputs": [
    {
     "data": {
      "text/plain": [
       "'sun'"
      ]
     },
     "execution_count": 77,
     "metadata": {},
     "output_type": "execute_result"
    }
   ],
   "source": [
    "# 마지막 요소를 제거하시오..\n",
    "score.pop()"
   ]
  },
  {
   "cell_type": "code",
   "execution_count": 78,
   "id": "260b6517",
   "metadata": {},
   "outputs": [
    {
     "data": {
      "text/plain": [
       "['sea', 81, 90, 78, 'hello', False, [78, 56, 32]]"
      ]
     },
     "execution_count": 78,
     "metadata": {},
     "output_type": "execute_result"
    }
   ],
   "source": [
    "score"
   ]
  },
  {
   "cell_type": "code",
   "execution_count": 79,
   "id": "64f0037e",
   "metadata": {},
   "outputs": [
    {
     "data": {
      "text/plain": [
       "7"
      ]
     },
     "execution_count": 79,
     "metadata": {},
     "output_type": "execute_result"
    }
   ],
   "source": [
    "# 리스트의 길이를 출력하시오\n",
    "len(score)"
   ]
  },
  {
   "cell_type": "code",
   "execution_count": 81,
   "id": "c39b45d2",
   "metadata": {},
   "outputs": [
    {
     "data": {
      "text/plain": [
       "int"
      ]
     },
     "execution_count": 81,
     "metadata": {},
     "output_type": "execute_result"
    }
   ],
   "source": [
    "# 두 번째 요소의 데이터타입을 출력하시오..\n",
    "type(score[1])"
   ]
  },
  {
   "cell_type": "code",
   "execution_count": 96,
   "id": "e6026e1f",
   "metadata": {},
   "outputs": [
    {
     "data": {
      "text/plain": [
       "'78:56:32'"
      ]
     },
     "execution_count": 96,
     "metadata": {},
     "output_type": "execute_result"
    }
   ],
   "source": [
    "\":\".join(['78', '56', '32'])"
   ]
  },
  {
   "cell_type": "code",
   "execution_count": 94,
   "id": "1e88a93c",
   "metadata": {},
   "outputs": [
    {
     "data": {
      "text/plain": [
       "'78:56:32'"
      ]
     },
     "execution_count": 94,
     "metadata": {},
     "output_type": "execute_result"
    }
   ],
   "source": [
    "\":\".join([str(s) for s in [78, 56, 32]])"
   ]
  },
  {
   "cell_type": "code",
   "execution_count": 93,
   "id": "bdb92b01",
   "metadata": {},
   "outputs": [
    {
     "data": {
      "text/plain": [
       "['sea', 81, 90, 78, 'hello', False, '78:56:32']"
      ]
     },
     "execution_count": 93,
     "metadata": {},
     "output_type": "execute_result"
    }
   ],
   "source": [
    "# [78, 56, 32]를 \"78:56:32\"로 수정하시오..\n",
    "score[score.index([78, 56, 32])] = \":\".join([str(s) for s in [78, 56, 32]])\n",
    "score"
   ]
  },
  {
   "cell_type": "code",
   "execution_count": 98,
   "id": "1e6fe6e2",
   "metadata": {},
   "outputs": [
    {
     "data": {
      "text/plain": [
       "[]"
      ]
     },
     "execution_count": 98,
     "metadata": {},
     "output_type": "execute_result"
    }
   ],
   "source": [
    "# 모든 원소를 제거하시오\n",
    "score.clear()\n",
    "score"
   ]
  },
  {
   "cell_type": "code",
   "execution_count": null,
   "id": "85c3b330",
   "metadata": {},
   "outputs": [],
   "source": [
    "# 리스트를 삭제하시오.."
   ]
  },
  {
   "cell_type": "code",
   "execution_count": 99,
   "id": "4f9a4334",
   "metadata": {},
   "outputs": [],
   "source": [
    "del score"
   ]
  },
  {
   "cell_type": "code",
   "execution_count": 100,
   "id": "86e5bb9e",
   "metadata": {
    "collapsed": true
   },
   "outputs": [
    {
     "ename": "NameError",
     "evalue": "name 'score' is not defined",
     "output_type": "error",
     "traceback": [
      "\u001b[1;31m---------------------------------------------------------------------------\u001b[0m",
      "\u001b[1;31mNameError\u001b[0m                                 Traceback (most recent call last)",
      "\u001b[1;32m~\\AppData\\Local\\Temp/ipykernel_3248/2992420520.py\u001b[0m in \u001b[0;36m<module>\u001b[1;34m\u001b[0m\n\u001b[1;32m----> 1\u001b[1;33m \u001b[0mscore\u001b[0m\u001b[1;33m\u001b[0m\u001b[1;33m\u001b[0m\u001b[0m\n\u001b[0m",
      "\u001b[1;31mNameError\u001b[0m: name 'score' is not defined"
     ]
    }
   ],
   "source": [
    "score"
   ]
  },
  {
   "cell_type": "code",
   "execution_count": null,
   "id": "184f2bfd",
   "metadata": {},
   "outputs": [],
   "source": []
  },
  {
   "cell_type": "markdown",
   "id": "16d8fde0",
   "metadata": {},
   "source": [
    "### Tuple"
   ]
  },
  {
   "cell_type": "code",
   "execution_count": 1,
   "id": "f8b06eae",
   "metadata": {},
   "outputs": [],
   "source": [
    "# Set - 중복데이터가 없다. 순서가 없으므로 인덱스가 없다.., 집합연산..\n",
    "\n",
    "# 원소가 없는 set인 s를 만드세요\n",
    "# s에 원소 'sky'와 'earth'를 추가하세요\n",
    "# s에 1,2 두 원소를 추가하세요\n",
    "# s에서 'sky'를 삭제하세요\n",
    "\n",
    "A = {1,2,3,4,5,6}\n",
    "B = {1,2,3,7,8,9}\n",
    "C = {1,2,3}\n",
    "# 두 집합의 합집합을 출력\n",
    "# 두 집합의 교집합을 출력\n",
    "# A의 B에 대한 차집합\n",
    "# 대칭차집합\n",
    "# C가 A의 부분집합인지 확인\n",
    "# A가 C를 포함하는지 확인\n",
    "\n",
    "# 집합 B의 길이를 출력\n",
    "# 집합 B의 최대값 출력\n",
    "# 집합 B의 최소값 출력\n",
    "# 집합 B의 합을 출력\n",
    "# 집합 B의 평균출력\n",
    "# 집합 B의 내림차순 출력\n",
    "# 집합 B에 5가 포함되어 있는지 확인"
   ]
  },
  {
   "cell_type": "code",
   "execution_count": 2,
   "id": "77f232b3",
   "metadata": {},
   "outputs": [
    {
     "data": {
      "text/plain": [
       "{1, 2, 'earth'}"
      ]
     },
     "execution_count": 2,
     "metadata": {},
     "output_type": "execute_result"
    }
   ],
   "source": [
    "# 원소가 없는 set인 s를 만드세요\n",
    "s = set()\n",
    "# s에 원소 'sky'와 'earth'를 추가하세요\n",
    "s.add('sky')\n",
    "s.add('earth')\n",
    "\n",
    "# s에 1,2 두 원소를 추가하세요\n",
    "s.update({1,2})\n",
    "# s에서 'sky'를 삭제하세요\n",
    "s.remove('sky')\n",
    "s"
   ]
  },
  {
   "cell_type": "code",
   "execution_count": 4,
   "id": "2bee4610",
   "metadata": {},
   "outputs": [
    {
     "data": {
      "text/plain": [
       "{1, 2, 3}"
      ]
     },
     "execution_count": 4,
     "metadata": {},
     "output_type": "execute_result"
    }
   ],
   "source": [
    "A = {1,2,3,4,5,6}\n",
    "B = {1,2,3,7,8,9}\n",
    "C = {1,2,3}\n",
    "\n",
    "# 두 집합의 합집합을 출력\n",
    "A.union(B)\n",
    "# 두 집합의 교집합을 출력\n",
    "A.intersection(B)\n",
    "# A의 B에 대한 차집합\n",
    "A.difference(B)\n",
    "# 대칭차집합\n",
    "A.symmetric_difference(B)\n",
    "# C가 A의 부분집합인지 확인\n",
    "A.issupset(B)\n",
    "# A가 C를 포함하는지 확인\n",
    "A.issuperset(B)\n",
    "\n",
    "# 집합 B의 길이를 출력\n",
    "len(B)\n",
    "# 집합 B의 최대값 출력\n",
    "max(B)\n",
    "# 집합 B의 최소값 출력\n",
    "min(B)\n",
    "# 집합 B의 합을 출력\n",
    "sum(B)\n",
    "# 집합 B의 평균출력\n",
    "import numpy as np\n",
    "np.mean(B)\n",
    "# 집합 B의 내림차순 출력\n",
    "sorted(B, reverse=True)\n",
    "# 집합 B에 5가 포함되어 있는지 확인\n",
    "5 in B"
   ]
  },
  {
   "cell_type": "code",
   "execution_count": null,
   "id": "b37cb4bc",
   "metadata": {},
   "outputs": [],
   "source": []
  },
  {
   "cell_type": "code",
   "execution_count": null,
   "id": "f840ce54",
   "metadata": {},
   "outputs": [],
   "source": [
    "# Dictionary\n",
    "\n",
    "# 'mydict'라는 딕셔너리를 만드세요.\n",
    "# 'red':4, 'blue':3, 'green':1 세 요소를 추가하세요.\n",
    "# key에 'blue'가 있는지 확인하세요.\n",
    "# mydict의 길이를 출력하세요.\n",
    "# 'red'의 값을 출력하세요.\n",
    "# 'red'의 값을 10으로 수정하세요.\n",
    "# key값만 출력하세요\n",
    "# value값만 출력하세요\n",
    "# key와 value를 튜플로 출력하세요.\n",
    "# (key기준으로 정렬하세요.)\n",
    "# (value기준으로 정렬하세요)\n",
    "# key 'blue'요소를 삭제하세요\n",
    "# key 'pink'요소 값을 출력하되 오류가 없도록 하세요\n",
    "# key 'pink' 값을 출력하되 없으면, value 20으로 새로이 추가하세요\n",
    "# value에 20이 있는지 확인하세요.\n",
    "# key는 'yellow'에 value는 30을 추가하세요.\n",
    "# yourdict = {'파랑':50, '빨강':70}을 합하세요.."
   ]
  },
  {
   "cell_type": "code",
   "execution_count": 11,
   "id": "52f06354",
   "metadata": {},
   "outputs": [
    {
     "data": {
      "text/plain": [
       "{'red': 10, 'green': 1, 'pink': 20, 'yellow': 30, '파랑': 50, '빨강': 70}"
      ]
     },
     "execution_count": 11,
     "metadata": {},
     "output_type": "execute_result"
    }
   ],
   "source": [
    "# 'mydict'라는 딕셔너리를 만드세요.\n",
    "d = {}\n",
    "d = dict()\n",
    "# 'red':4, 'blue':3, 'green':1 세 요소를 추가하세요.\n",
    "d['red'] = 4\n",
    "d['blue'] = 3\n",
    "d['green'] = 1\n",
    "# key에 'blue'가 있는지 확인하세요.\n",
    "'blue' in d\n",
    "# mydict의 길이를 출력하세요.\n",
    "len(d)\n",
    "# 'red'의 값을 출력하세요.\n",
    "d['red']\n",
    "# 'red'의 값을 10으로 수정하세요.\n",
    "d['red'] = 10\n",
    "# key값만 출력하세요\n",
    "d.keys()\n",
    "# value값만 출력하세요\n",
    "d.values()\n",
    "# key와 value를 튜플로 출력하세요.\n",
    "d.items()\n",
    "# (key기준으로 정렬하세요.)\n",
    "sorted(d.items(), key = lambda x: x[0])\n",
    "sorted(d)\n",
    "# (value기준으로 정렬하세요)\n",
    "sorted(d.items(), key = lambda x: x[1])\n",
    "# key 'blue'요소를 삭제하세요\n",
    "# del d['blue']\n",
    "d.pop('blue')\n",
    "d\n",
    "# key 'pink'요소 값을 출력하되 오류가 없도록 하세요\n",
    "d.get('pink')\n",
    "# key 'pink' 값을 출력하되 없으면, value 20으로 새로이 추가하세요\n",
    "d.setdefault('pink', 20)\n",
    "# value에 20이 있는지 확인하세요.\n",
    "20 in d.values()\n",
    "# key는 'yellow'에 value는 30을 추가하세요.\n",
    "d['yellow'] = 30\n",
    "# yourdict = {'파랑':50, '빨강':70}을 합하세요..\n",
    "d.update({'파랑':50, '빨강':70})\n",
    "d"
   ]
  },
  {
   "cell_type": "code",
   "execution_count": null,
   "id": "97209ddb",
   "metadata": {},
   "outputs": [],
   "source": []
  },
  {
   "cell_type": "markdown",
   "id": "a6f55c4a",
   "metadata": {},
   "source": [
    "### If"
   ]
  },
  {
   "cell_type": "code",
   "execution_count": null,
   "id": "1f43d448",
   "metadata": {},
   "outputs": [],
   "source": [
    "# 조건식 => True/ False\n",
    "\n",
    "# if 조건식:\n",
    "#     실행코드\n",
    "# elif 조건식:\n",
    "#     실행코드\n",
    "# elif 조건식:\n",
    "#     실행코드\n",
    "# else:\n",
    "#     실행코드"
   ]
  },
  {
   "cell_type": "code",
   "execution_count": 12,
   "id": "806d38b5",
   "metadata": {},
   "outputs": [
    {
     "name": "stdout",
     "output_type": "stream",
     "text": [
      "점수를 입력하세요95\n",
      "A학점입니다\n"
     ]
    }
   ],
   "source": [
    "# 점수를 입력받은 후 학점을 출력하시오..\n",
    "\n",
    "score =  int(input('점수를 입력하세요'))\n",
    "if score >= 90:\n",
    "    print('A학점입니다')\n",
    "elif 90 > score >= 80:\n",
    "    print('B학점입니다')\n",
    "elif 80 > score >= 70:\n",
    "    print('C학점입니다')\n",
    "else:\n",
    "    print('D학점입니다..')"
   ]
  },
  {
   "cell_type": "code",
   "execution_count": 14,
   "id": "c81d03be",
   "metadata": {},
   "outputs": [
    {
     "name": "stdout",
     "output_type": "stream",
     "text": [
      "비밀번호를 입력하세요2345\n",
      "비밀번호가 틀립니다..\n"
     ]
    }
   ],
   "source": [
    "# 비밀번호 = 1234 인 경우 비밀번호를 입력받은 후 맞으면 '환영합니다'. 틀리면 \n",
    "# '비밀번호가 틀립니다'를 출력하시오\n",
    "passwd = int(input('비밀번호를 입력하세요'))\n",
    "\n",
    "if passwd == 1234:\n",
    "    print('환영합니다')\n",
    "else:\n",
    "    print('비밀번호가 틀립니다..')"
   ]
  },
  {
   "cell_type": "code",
   "execution_count": 16,
   "id": "94c70e45",
   "metadata": {},
   "outputs": [
    {
     "name": "stdout",
     "output_type": "stream",
     "text": [
      "임의의 정수를 입력하세요3\n",
      "홀수입니다\n"
     ]
    }
   ],
   "source": [
    "# 임의의 정수를 입력받은 후 짝수면 '짝수입니다' 홀수면 '홀수입니다'를 출력..\n",
    "\n",
    "num = int(input('임의의 정수를 입력하세요'))\n",
    "\n",
    "if num%2 ==0:\n",
    "    print('짝수입니다')\n",
    "else:\n",
    "    print('홀수입니다')"
   ]
  },
  {
   "cell_type": "code",
   "execution_count": 17,
   "id": "bd085252",
   "metadata": {},
   "outputs": [],
   "source": [
    "# 주민번호 '851205-2000000'\n",
    "# 주민번호를 입력받은 후 \"당신의 나이는 __이고, 성별은 __입니다\"를 출력하시오.."
   ]
  },
  {
   "cell_type": "code",
   "execution_count": 27,
   "id": "bb24305b",
   "metadata": {},
   "outputs": [
    {
     "name": "stdout",
     "output_type": "stream",
     "text": [
      "주민번호를 입력하세요775841-2354789\n",
      "당신의 나이는 45세이고, 당신의 성별은 여성입니다\n"
     ]
    }
   ],
   "source": [
    "res_num = input('주민번호를 입력하세요')\n",
    "\n",
    "birth_year = int(res_num[:2])\n",
    "gender = res_num.split('-')[1][0]\n",
    "\n",
    "# print(birth_year, gender)\n",
    "age = 2022-(birth_year + 1900)\n",
    "\n",
    "def to_sex(gender):\n",
    "    if gender == '1':\n",
    "        return '남성'\n",
    "    elif gender == '2':\n",
    "        return '여성'\n",
    "    \n",
    "sex = to_sex(gender)\n",
    "\n",
    "print(\"당신의 나이는 {}세이고, 당신의 성별은 {}입니다\".format(age, sex))"
   ]
  },
  {
   "cell_type": "code",
   "execution_count": 30,
   "id": "134638f5",
   "metadata": {},
   "outputs": [
    {
     "name": "stdout",
     "output_type": "stream",
     "text": [
      "이름을 입력하시오Kim\n"
     ]
    }
   ],
   "source": [
    "scores = {'Mary':85, 'Sam':95, 'Bob':87, 'Han':77}\n",
    "\n",
    "# 이름을 입력받은 후 이름이 있으면 80점 이상이면 '합격입니다', \n",
    "# 이하이면 '불합격입니다'를 출력하시오, 이름이 없으면 값을 0으로 하여 추가하시오\n",
    "\n",
    "nam = input('이름을 입력하시오')\n",
    "\n",
    "if nam in scores.keys():\n",
    "    score = scores[nam]\n",
    "    if score >= 80:\n",
    "        print('합격입니다')\n",
    "    else:\n",
    "        print('불합격입니다')\n",
    "else:\n",
    "    scores[nam] = 0\n",
    "    print(scores)"
   ]
  },
  {
   "cell_type": "code",
   "execution_count": null,
   "id": "63f81c8d",
   "metadata": {},
   "outputs": [],
   "source": []
  },
  {
   "cell_type": "code",
   "execution_count": 34,
   "id": "5dfc6c35",
   "metadata": {},
   "outputs": [
    {
     "name": "stdout",
     "output_type": "stream",
     "text": [
      "mine <= 가위, 바위, 보 중에서 하나를 선택하세요주먹\n",
      "yours <= 가위, 바위, 보 중에서 하나를 선택하세요가위\n",
      "내가 이겼습니다\n"
     ]
    }
   ],
   "source": [
    "# 가위, 바위, 보 게임\n",
    "\n",
    "mine = input('mine <= 가위, 바위, 보 중에서 하나를 선택하세요')\n",
    "yours = input('yours <= 가위, 바위, 보 중에서 하나를 선택하세요')\n",
    "\n",
    "if mine == yours:\n",
    "    print('비겼습니다')\n",
    "    \n",
    "elif mine=='가위':\n",
    "    if yours == '보':\n",
    "        print('내가 이겼습니다')\n",
    "    else:\n",
    "        print('당신이 이겼습니다..')\n",
    "        \n",
    "elif mine=='보':\n",
    "    if yours == '주먹':\n",
    "        print('내가 이겼습니다')\n",
    "    else:\n",
    "        print('당신이 이겼습니다..')       \n",
    "        \n",
    "else:\n",
    "    if yours == '가위':\n",
    "        print('내가 이겼습니다')\n",
    "    else:\n",
    "        print('당신이 이겼습니다..')  \n",
    "\n",
    "\n",
    "# 비겼습니다..\n",
    "# 내가 이겼습니다..\n",
    "# 당신이 이겼습니다.."
   ]
  },
  {
   "cell_type": "code",
   "execution_count": null,
   "id": "9a570bff",
   "metadata": {},
   "outputs": [],
   "source": []
  },
  {
   "cell_type": "code",
   "execution_count": 35,
   "id": "3839893a",
   "metadata": {},
   "outputs": [],
   "source": [
    "# 나이를 입력받은 후, 50대 이상이면 '중년이시군요', 20~40대이면 '젊으시군요', \n",
    "# 20세 미만이면 '어리시군요'를 출력.."
   ]
  },
  {
   "cell_type": "code",
   "execution_count": 38,
   "id": "d252141a",
   "metadata": {},
   "outputs": [
    {
     "name": "stdout",
     "output_type": "stream",
     "text": [
      "나이를 입력하세요..35\n",
      "젊으시군요\n"
     ]
    }
   ],
   "source": [
    "age = int(input('나이를 입력하세요..'))\n",
    "\n",
    "if age >= 50:\n",
    "    print('중년이시군요')\n",
    "elif 50 > age >= 20:\n",
    "    print('젊으시군요')\n",
    "else:\n",
    "    print('어리시군요..')"
   ]
  },
  {
   "cell_type": "code",
   "execution_count": null,
   "id": "ef8835e5",
   "metadata": {},
   "outputs": [],
   "source": []
  },
  {
   "cell_type": "markdown",
   "id": "70878409",
   "metadata": {},
   "source": [
    "### 반복문"
   ]
  },
  {
   "cell_type": "code",
   "execution_count": null,
   "id": "dc7e4c40",
   "metadata": {},
   "outputs": [],
   "source": [
    "# for 임시변수 in 군집형데이터:\n",
    "#     실행코드\n",
    "#     실행코드\n",
    "#     ..."
   ]
  },
  {
   "cell_type": "code",
   "execution_count": null,
   "id": "21634b52",
   "metadata": {},
   "outputs": [],
   "source": [
    "# while 조건식:\n",
    "#     실행코드\n",
    "#     실행코드\n",
    "#     ..."
   ]
  },
  {
   "cell_type": "code",
   "execution_count": 39,
   "id": "7df2a436",
   "metadata": {},
   "outputs": [
    {
     "data": {
      "text/plain": [
       "8"
      ]
     },
     "execution_count": 39,
     "metadata": {},
     "output_type": "execute_result"
    }
   ],
   "source": [
    "# 모음의 숫자를 계산하시오.. 단, 모듬은 'aeiouAEIOU'\n",
    "\n",
    "text = 'computational thinking'\n",
    "vowel = 'aeiouAEIOU'\n",
    "\n",
    "suma = 0\n",
    "\n",
    "for c in text:\n",
    "    if c in vowel:\n",
    "        suma += 1\n",
    "suma"
   ]
  },
  {
   "cell_type": "code",
   "execution_count": 42,
   "id": "d5cfe604",
   "metadata": {
    "collapsed": true
   },
   "outputs": [
    {
     "name": "stdout",
     "output_type": "stream",
     "text": [
      "mountain 8\n",
      "river 5\n",
      "cloud 5\n",
      "tree 4\n",
      "lake 4\n"
     ]
    },
    {
     "data": {
      "text/plain": [
       "26"
      ]
     },
     "execution_count": 42,
     "metadata": {},
     "output_type": "execute_result"
    }
   ],
   "source": [
    "# word의 길이가 4 이상인 단어의  단어길이 총합을 구하시오\n",
    "\n",
    "words = ['mountain', 'sea', 'sky', 'river', 'cloud', 'tree', 'lake']\n",
    "\n",
    "suma = 0\n",
    "for w in words:\n",
    "    if len(w) >= 4:\n",
    "        print(w, len(w))\n",
    "        suma += len(w)\n",
    "suma"
   ]
  },
  {
   "cell_type": "code",
   "execution_count": 45,
   "id": "a98c6684",
   "metadata": {
    "collapsed": true
   },
   "outputs": [
    {
     "data": {
      "text/plain": [
       "[('a', '가'),\n",
       " ('a', '나'),\n",
       " ('a', '다'),\n",
       " ('a', '라'),\n",
       " ('b', '가'),\n",
       " ('b', '나'),\n",
       " ('b', '다'),\n",
       " ('b', '라'),\n",
       " ('c', '가'),\n",
       " ('c', '나'),\n",
       " ('c', '다'),\n",
       " ('c', '라'),\n",
       " ('d', '가'),\n",
       " ('d', '나'),\n",
       " ('d', '다'),\n",
       " ('d', '라')]"
      ]
     },
     "execution_count": 45,
     "metadata": {},
     "output_type": "execute_result"
    }
   ],
   "source": [
    "# 두 리스트 원소간의 모든 조합을 리스트에 담으시오\n",
    "# => [('a', '가'), ('a', '나'), ... ('d', '다'), ('d', '라')]\n",
    "\n",
    "L1 = ['a','b','c','d']\n",
    "L2 = ['가','나','다','라']\n",
    "\n",
    "L = []\n",
    "\n",
    "for i in L1:\n",
    "    for j in L2:\n",
    "        L.append((i, j))\n",
    "        \n",
    "L"
   ]
  },
  {
   "cell_type": "code",
   "execution_count": 46,
   "id": "1a208e2e",
   "metadata": {},
   "outputs": [
    {
     "name": "stdout",
     "output_type": "stream",
     "text": [
      "110 100\n"
     ]
    }
   ],
   "source": [
    "# for문과 while문을 이용해서 1부터 20까지의 정수에서 짝수의 합과 홀수의 합을 구하시오..\n",
    "\n",
    "even_sum  = 0\n",
    "odd_sum = 0\n",
    "\n",
    "for i in range(1,21):\n",
    "    if i%2 == 0:\n",
    "        even_sum += i\n",
    "    else:\n",
    "        odd_sum += i\n",
    "        \n",
    "print(even_sum, odd_sum)"
   ]
  },
  {
   "cell_type": "code",
   "execution_count": 49,
   "id": "07d3a59e",
   "metadata": {},
   "outputs": [
    {
     "name": "stdout",
     "output_type": "stream",
     "text": [
      "110 100\n"
     ]
    }
   ],
   "source": [
    "even_sum  = 0\n",
    "odd_sum = 0\n",
    "count = 0\n",
    "\n",
    "while count < 21:\n",
    "    \n",
    "    if count%2 == 0:\n",
    "        even_sum += count\n",
    "    else:\n",
    "        odd_sum += count\n",
    "        \n",
    "    count += 1\n",
    "        \n",
    "print(even_sum, odd_sum)"
   ]
  },
  {
   "cell_type": "code",
   "execution_count": null,
   "id": "ed6e433a",
   "metadata": {},
   "outputs": [],
   "source": []
  },
  {
   "cell_type": "code",
   "execution_count": 51,
   "id": "10598141",
   "metadata": {},
   "outputs": [
    {
     "name": "stdout",
     "output_type": "stream",
     "text": [
      "4\n",
      "5\n",
      "6\n",
      "7\n"
     ]
    }
   ],
   "source": [
    "#  break와 continue를 이용해서 1부터 10까지 정수 중에서 4,5,6,7만을 출력하시오..\n",
    "\n",
    "suma = 0\n",
    "count = 0\n",
    "\n",
    "while count < 10:\n",
    "    count +=1\n",
    "    \n",
    "    if count < 4:\n",
    "        continue    # 반복문에서 continue는 아래 부분을 실행하지 않고 반복문 처음으로 이동\n",
    "    if count > 7:\n",
    "        break  # 반복문에서 break는 반복을 중단하고 반복문을 빠져나온다..\n",
    "        \n",
    "    print(count)   "
   ]
  },
  {
   "cell_type": "code",
   "execution_count": 53,
   "id": "7d44204f",
   "metadata": {},
   "outputs": [
    {
     "name": "stdout",
     "output_type": "stream",
     "text": [
      "점수를 입력하세요5\n",
      "점수를 입력하세요5\n",
      "점수를 입력하세요5\n",
      "점수를 입력하세요5\n",
      "점수를 입력하세요5\n",
      "5.0\n"
     ]
    }
   ],
   "source": [
    "# 점수를 5번 입력받은 후 평균점수를 출력하시오..\n",
    "\n",
    "count = 0\n",
    "suma = 0\n",
    "\n",
    "while count < 5:\n",
    "    \n",
    "    score = int(input('점수를 입력하세요'))\n",
    "    suma += score\n",
    "    \n",
    "    count += 1\n",
    "    \n",
    "print(suma/5)"
   ]
  },
  {
   "cell_type": "code",
   "execution_count": 54,
   "id": "e2454b6b",
   "metadata": {},
   "outputs": [
    {
     "name": "stdout",
     "output_type": "stream",
     "text": [
      "임의의 정수를 입력하시오..5\n"
     ]
    },
    {
     "data": {
      "text/plain": [
       "120"
      ]
     },
     "execution_count": 54,
     "metadata": {},
     "output_type": "execute_result"
    }
   ],
   "source": [
    "# 임의의 수를 입력받은 후 팩토리얼을 계산하는 코드를 작성하시오..\n",
    "# 5! = 5*4*3*2*1\n",
    "\n",
    "num = int(input('임의의 정수를 입력하시오..'))\n",
    "\n",
    "result = 1\n",
    "\n",
    "while num > 1:\n",
    "    result *= num\n",
    "    num -= 1\n",
    "    \n",
    "result"
   ]
  },
  {
   "cell_type": "code",
   "execution_count": null,
   "id": "479cc609",
   "metadata": {},
   "outputs": [],
   "source": []
  },
  {
   "cell_type": "code",
   "execution_count": 57,
   "id": "a6dbc121",
   "metadata": {},
   "outputs": [
    {
     "name": "stdout",
     "output_type": "stream",
     "text": [
      "최대값 170, 최소값 30\n"
     ]
    }
   ],
   "source": [
    "L = [70, 100, 80, 120, 130, 170, 30]\n",
    "\n",
    "# 반복문을 이용해서 최대값과 최소값을 구하시오..\n",
    "\n",
    "max_n = L[0]\n",
    "min_n = L[0]\n",
    "\n",
    "for n in L:\n",
    "    if max_n < n:\n",
    "        max_n = n\n",
    "    if min_n > n:\n",
    "        min_n = n\n",
    "        \n",
    "print(\"최대값 {}, 최소값 {}\".format(max_n, min_n))"
   ]
  },
  {
   "cell_type": "code",
   "execution_count": null,
   "id": "f1530acf",
   "metadata": {},
   "outputs": [],
   "source": []
  },
  {
   "cell_type": "code",
   "execution_count": 58,
   "id": "59efda2a",
   "metadata": {},
   "outputs": [],
   "source": [
    "# *\n",
    "# **\n",
    "# ***\n",
    "# ****\n",
    "# *****"
   ]
  },
  {
   "cell_type": "code",
   "execution_count": 60,
   "id": "42599ea7",
   "metadata": {
    "collapsed": true
   },
   "outputs": [
    {
     "name": "stdout",
     "output_type": "stream",
     "text": [
      "*\n",
      "**\n",
      "***\n",
      "****\n",
      "*****\n"
     ]
    }
   ],
   "source": [
    "for i in range(1,6):\n",
    "    print('*'*i)"
   ]
  },
  {
   "cell_type": "code",
   "execution_count": 61,
   "id": "75e68559",
   "metadata": {},
   "outputs": [],
   "source": [
    "# *****\n",
    "#  ****\n",
    "#   ***\n",
    "#    **\n",
    "#     *"
   ]
  },
  {
   "cell_type": "code",
   "execution_count": 62,
   "id": "00217f9a",
   "metadata": {
    "collapsed": true
   },
   "outputs": [
    {
     "name": "stdout",
     "output_type": "stream",
     "text": [
      " *****\n",
      "  ****\n",
      "   ***\n",
      "    **\n",
      "     *\n",
      "      \n"
     ]
    }
   ],
   "source": [
    "for i in range(6):\n",
    "    print(' '*i, '*'*(5-i))"
   ]
  },
  {
   "cell_type": "code",
   "execution_count": null,
   "id": "4eadc9bd",
   "metadata": {},
   "outputs": [],
   "source": [
    "#     *\n",
    "#    **\n",
    "#   ***\n",
    "#  ****\n",
    "# *****"
   ]
  },
  {
   "cell_type": "code",
   "execution_count": 66,
   "id": "f0196d4d",
   "metadata": {
    "collapsed": true
   },
   "outputs": [
    {
     "name": "stdout",
     "output_type": "stream",
     "text": [
      "     *\n",
      "    **\n",
      "   ***\n",
      "  ****\n",
      " *****\n"
     ]
    }
   ],
   "source": [
    "for i in range(5):\n",
    "    print(' '*(4-i), '*'*(i+1))"
   ]
  },
  {
   "cell_type": "code",
   "execution_count": 67,
   "id": "1c3116d4",
   "metadata": {},
   "outputs": [],
   "source": [
    "# *****\n",
    "# ****\n",
    "# ***\n",
    "# **\n",
    "# *"
   ]
  },
  {
   "cell_type": "code",
   "execution_count": 68,
   "id": "01b41c42",
   "metadata": {},
   "outputs": [
    {
     "name": "stdout",
     "output_type": "stream",
     "text": [
      "*****\n",
      "****\n",
      "***\n",
      "**\n",
      "*\n"
     ]
    }
   ],
   "source": [
    "for i in range(5):\n",
    "    print('*'*(5-i))"
   ]
  },
  {
   "cell_type": "code",
   "execution_count": null,
   "id": "c4b0c11a",
   "metadata": {},
   "outputs": [],
   "source": []
  },
  {
   "cell_type": "code",
   "execution_count": 72,
   "id": "4ab92a78",
   "metadata": {},
   "outputs": [
    {
     "name": "stdout",
     "output_type": "stream",
     "text": [
      "o p t t o a   h n i g "
     ]
    }
   ],
   "source": [
    "text = 'computational thinking'\n",
    "\n",
    "# 홀수번 인덱스만 출력하시오..\n",
    "\n",
    "for i in range(1, len(text), 2):\n",
    "    print(text[i], end=' ')"
   ]
  },
  {
   "cell_type": "code",
   "execution_count": null,
   "id": "c7c3e615",
   "metadata": {},
   "outputs": [],
   "source": []
  },
  {
   "cell_type": "code",
   "execution_count": 73,
   "id": "e91090d1",
   "metadata": {},
   "outputs": [],
   "source": [
    "# 구구단 출력하기.."
   ]
  },
  {
   "cell_type": "code",
   "execution_count": 78,
   "id": "d7e4194c",
   "metadata": {},
   "outputs": [
    {
     "name": "stdout",
     "output_type": "stream",
     "text": [
      "1*1= 1  2*1= 2  3*1= 3  4*1= 4  5*1= 5  6*1= 6  7*1= 7  8*1= 8  9*1= 9  \n",
      "1*2= 2  2*2= 4  3*2= 6  4*2= 8  5*2=10  6*2=12  7*2=14  8*2=16  9*2=18  \n",
      "1*3= 3  2*3= 6  3*3= 9  4*3=12  5*3=15  6*3=18  7*3=21  8*3=24  9*3=27  \n",
      "1*4= 4  2*4= 8  3*4=12  4*4=16  5*4=20  6*4=24  7*4=28  8*4=32  9*4=36  \n",
      "1*5= 5  2*5=10  3*5=15  4*5=20  5*5=25  6*5=30  7*5=35  8*5=40  9*5=45  \n",
      "1*6= 6  2*6=12  3*6=18  4*6=24  5*6=30  6*6=36  7*6=42  8*6=48  9*6=54  \n",
      "1*7= 7  2*7=14  3*7=21  4*7=28  5*7=35  6*7=42  7*7=49  8*7=56  9*7=63  \n",
      "1*8= 8  2*8=16  3*8=24  4*8=32  5*8=40  6*8=48  7*8=56  8*8=64  9*8=72  \n",
      "1*9= 9  2*9=18  3*9=27  4*9=36  5*9=45  6*9=54  7*9=63  8*9=72  9*9=81  \n"
     ]
    }
   ],
   "source": [
    "for i in range(1, 10):\n",
    "    for j in range(1, 10):\n",
    "        print(\"{1}*{0}={2:>2}\".format(i, j, i*j), end='  ')\n",
    "    print()"
   ]
  },
  {
   "cell_type": "code",
   "execution_count": null,
   "id": "642a222e",
   "metadata": {},
   "outputs": [],
   "source": []
  },
  {
   "cell_type": "code",
   "execution_count": null,
   "id": "bea9a3f6",
   "metadata": {},
   "outputs": [],
   "source": []
  },
  {
   "cell_type": "markdown",
   "id": "1e2667ba",
   "metadata": {},
   "source": [
    "### File"
   ]
  },
  {
   "cell_type": "code",
   "execution_count": null,
   "id": "69323231",
   "metadata": {},
   "outputs": [],
   "source": [
    "# 1. 파일을 연다 - open(), => 모드를 설정 : 'r', 'w'\n",
    "# 2. 파일을 읽거나 쓴다 - read(), write()\n",
    "# 3. 파일을 닫는다 - close()\n",
    "\n",
    "# f = open('filename', 'r') \n",
    "# text = f.read()\n",
    "# f.close()\n",
    "\n",
    "# with open('filename', 'r') as f:   # with 구문 : close()를 자동으로 수행..\n",
    "#     text = f.read()  \n",
    "\n",
    "# f = open('filename', 'w')\n",
    "# f.write(text)\n",
    "# f.close()\n",
    "\n",
    "# with open('filename', 'w') as f:\n",
    "#     f.write(text)"
   ]
  },
  {
   "cell_type": "code",
   "execution_count": 80,
   "id": "006d5062",
   "metadata": {},
   "outputs": [],
   "source": [
    "# 인터넷 뉴스 텍스트를 'news.txt'파일로 저장하시오..\n",
    "\n",
    "news = \"\"\"\n",
    "16일 오후 서울역 대합실에서 시민들이 윤석열 국민의힘 대선후보 부인 김건희씨의 7시간 \n",
    "통화록을 다룬 MBC 시사프로그램 스트레이트를 시청하고 있다. 뉴스1\n",
    "더불어민주당 인사들이 17일 윤석열 국민의힘 대선후보의 배우자 김건희씨의 \n",
    "'7시간 통화’ 보도와 관련해 ‘제2의 최순실’, ‘국정농단 시즌2’ 등의 표현을 쓰며 \n",
    "십자포화를 퍼부었다. 김씨가 사실상의 비선 실세라는 프레임을 노린 것이다. \n",
    "다만 당 차원에서는 섣부른 공세로 지난해 4·7 서울시장 보궐선거 당시 '생태탕' \n",
    "논란처럼 네거티브 프레임에 갇힐 것을 우려해 대응 수위를 조절하는 모습이다.\n",
    "\n",
    "현근택 민주당 선거대책위원회 대변인은 이날 CBS 라디오에서 \"그동안 캠프에 관여 안 \n",
    "한다, 관계없다는 얘기들이 사실이 아니었다\"며 \"'최순실 시즌2' 아니냐\"고 했다. \n",
    "추미애 전 법무부 장관도 페이스북에 \"시청 소감은 보수 정당이 다시 한 여인에 의해 \n",
    "완벽하게 접수돼 선거를 조종당하고 있다는 것\"이라고 비판했다.\n",
    "\"\"\"\n",
    "f = open('news.txt', 'w')\n",
    "f.write(news)\n",
    "f.close()\n",
    "\n",
    "# with open('news.txt', 'w') as f:\n",
    "#     f.write(news)"
   ]
  },
  {
   "cell_type": "code",
   "execution_count": null,
   "id": "54063dc4",
   "metadata": {},
   "outputs": [],
   "source": [
    "# 'news.txt' 파일을 4가지 다른 방식으로 열어서 출력하시오"
   ]
  },
  {
   "cell_type": "code",
   "execution_count": 82,
   "id": "9b3ea26e",
   "metadata": {
    "collapsed": true
   },
   "outputs": [
    {
     "name": "stdout",
     "output_type": "stream",
     "text": [
      "\n",
      "16일 오후 서울역 대합실에서 시민들이 윤석열 국민의힘 대선후보 부인 김건희씨의 7시간 \n",
      "통화록을 다룬 MBC 시사프로그램 스트레이트를 시청하고 있다. 뉴스1\n",
      "더불어민주당 인사들이 17일 윤석열 국민의힘 대선후보의 배우자 김건희씨의 \n",
      "'7시간 통화’ 보도와 관련해 ‘제2의 최순실’, ‘국정농단 시즌2’ 등의 표현을 쓰며 \n",
      "십자포화를 퍼부었다. 김씨가 사실상의 비선 실세라는 프레임을 노린 것이다. \n",
      "다만 당 차원에서는 섣부른 공세로 지난해 4·7 서울시장 보궐선거 당시 '생태탕' \n",
      "논란처럼 네거티브 프레임에 갇힐 것을 우려해 대응 수위를 조절하는 모습이다.\n",
      "\n",
      "현근택 민주당 선거대책위원회 대변인은 이날 CBS 라디오에서 \"그동안 캠프에 관여 안 \n",
      "한다, 관계없다는 얘기들이 사실이 아니었다\"며 \"'최순실 시즌2' 아니냐\"고 했다. \n",
      "추미애 전 법무부 장관도 페이스북에 \"시청 소감은 보수 정당이 다시 한 여인에 의해 \n",
      "완벽하게 접수돼 선거를 조종당하고 있다는 것\"이라고 비판했다.\n",
      "\n"
     ]
    }
   ],
   "source": [
    "# 1\n",
    "\n",
    "f = open('news.txt', 'r')\n",
    "text = f.read()\n",
    "f.close()\n",
    "\n",
    "print(text)\n",
    "\n",
    "# with open('news.txt', 'r') as f:\n",
    "#     text = f.read()    "
   ]
  },
  {
   "cell_type": "code",
   "execution_count": 83,
   "id": "aa0dedb0",
   "metadata": {
    "collapsed": true
   },
   "outputs": [
    {
     "name": "stdout",
     "output_type": "stream",
     "text": [
      "['\\n', '16일 오후 서울역 대합실에서 시민들이 윤석열 국민의힘 대선후보 부인 김건희씨의 7시간 \\n', '통화록을 다룬 MBC 시사프로그램 스트레이트를 시청하고 있다. 뉴스1\\n', '더불어민주당 인사들이 17일 윤석열 국민의힘 대선후보의 배우자 김건희씨의 \\n', \"'7시간 통화’ 보도와 관련해 ‘제2의 최순실’, ‘국정농단 시즌2’ 등의 표현을 쓰며 \\n\", '십자포화를 퍼부었다. 김씨가 사실상의 비선 실세라는 프레임을 노린 것이다. \\n', \"다만 당 차원에서는 섣부른 공세로 지난해 4·7 서울시장 보궐선거 당시 '생태탕' \\n\", '논란처럼 네거티브 프레임에 갇힐 것을 우려해 대응 수위를 조절하는 모습이다.\\n', '\\n', '현근택 민주당 선거대책위원회 대변인은 이날 CBS 라디오에서 \"그동안 캠프에 관여 안 \\n', '한다, 관계없다는 얘기들이 사실이 아니었다\"며 \"\\'최순실 시즌2\\' 아니냐\"고 했다. \\n', '추미애 전 법무부 장관도 페이스북에 \"시청 소감은 보수 정당이 다시 한 여인에 의해 \\n', '완벽하게 접수돼 선거를 조종당하고 있다는 것\"이라고 비판했다.\\n']\n"
     ]
    }
   ],
   "source": [
    "f = open('news.txt', 'r')\n",
    "text = f.readlines()\n",
    "f.close()\n",
    "\n",
    "print(text)"
   ]
  },
  {
   "cell_type": "code",
   "execution_count": 86,
   "id": "b16543d8",
   "metadata": {
    "collapsed": true
   },
   "outputs": [
    {
     "name": "stdout",
     "output_type": "stream",
     "text": [
      "\n",
      "\n",
      "16일 오후 서울역 대합실에서 시민들이 윤석열 국민의힘 대선후보 부인 김건희씨의 7시간 \n",
      "\n",
      "통화록을 다룬 MBC 시사프로그램 스트레이트를 시청하고 있다. 뉴스1\n",
      "\n",
      "더불어민주당 인사들이 17일 윤석열 국민의힘 대선후보의 배우자 김건희씨의 \n",
      "\n",
      "'7시간 통화’ 보도와 관련해 ‘제2의 최순실’, ‘국정농단 시즌2’ 등의 표현을 쓰며 \n",
      "\n",
      "십자포화를 퍼부었다. 김씨가 사실상의 비선 실세라는 프레임을 노린 것이다. \n",
      "\n",
      "다만 당 차원에서는 섣부른 공세로 지난해 4·7 서울시장 보궐선거 당시 '생태탕' \n",
      "\n",
      "논란처럼 네거티브 프레임에 갇힐 것을 우려해 대응 수위를 조절하는 모습이다.\n",
      "\n",
      "\n",
      "\n",
      "현근택 민주당 선거대책위원회 대변인은 이날 CBS 라디오에서 \"그동안 캠프에 관여 안 \n",
      "\n",
      "한다, 관계없다는 얘기들이 사실이 아니었다\"며 \"'최순실 시즌2' 아니냐\"고 했다. \n",
      "\n",
      "추미애 전 법무부 장관도 페이스북에 \"시청 소감은 보수 정당이 다시 한 여인에 의해 \n",
      "\n",
      "완벽하게 접수돼 선거를 조종당하고 있다는 것\"이라고 비판했다.\n",
      "\n"
     ]
    }
   ],
   "source": [
    "f = open('news.txt', 'r')\n",
    "text = f.readline()\n",
    "\n",
    "while text:\n",
    "    print(text)\n",
    "    text = f.readline()\n",
    "\n",
    "f.close()\n"
   ]
  },
  {
   "cell_type": "code",
   "execution_count": 87,
   "id": "07f01c28",
   "metadata": {
    "collapsed": true
   },
   "outputs": [
    {
     "name": "stdout",
     "output_type": "stream",
     "text": [
      "\n",
      "\n",
      "16일 오후 서울역 대합실에서 시민들이 윤석열 국민의힘 대선후보 부인 김건희씨의 7시간 \n",
      "\n",
      "통화록을 다룬 MBC 시사프로그램 스트레이트를 시청하고 있다. 뉴스1\n",
      "\n",
      "더불어민주당 인사들이 17일 윤석열 국민의힘 대선후보의 배우자 김건희씨의 \n",
      "\n",
      "'7시간 통화’ 보도와 관련해 ‘제2의 최순실’, ‘국정농단 시즌2’ 등의 표현을 쓰며 \n",
      "\n",
      "십자포화를 퍼부었다. 김씨가 사실상의 비선 실세라는 프레임을 노린 것이다. \n",
      "\n",
      "다만 당 차원에서는 섣부른 공세로 지난해 4·7 서울시장 보궐선거 당시 '생태탕' \n",
      "\n",
      "논란처럼 네거티브 프레임에 갇힐 것을 우려해 대응 수위를 조절하는 모습이다.\n",
      "\n",
      "\n",
      "\n",
      "현근택 민주당 선거대책위원회 대변인은 이날 CBS 라디오에서 \"그동안 캠프에 관여 안 \n",
      "\n",
      "한다, 관계없다는 얘기들이 사실이 아니었다\"며 \"'최순실 시즌2' 아니냐\"고 했다. \n",
      "\n",
      "추미애 전 법무부 장관도 페이스북에 \"시청 소감은 보수 정당이 다시 한 여인에 의해 \n",
      "\n",
      "완벽하게 접수돼 선거를 조종당하고 있다는 것\"이라고 비판했다.\n",
      "\n"
     ]
    }
   ],
   "source": [
    "f = open('news.txt', 'r')\n",
    "\n",
    "for line in f:\n",
    "    print(line)"
   ]
  },
  {
   "cell_type": "code",
   "execution_count": 88,
   "id": "70062a4e",
   "metadata": {},
   "outputs": [],
   "source": [
    "# with open('filename', 'r') as f:\n",
    "\n",
    "# 1     text = f.read()       - 전체 text를 한 번에 읽는다\n",
    "# 2     text = f.readlines()  - 한 문장씩 리스트에 담아서 출력..\n",
    "# 3     text = f.readline()   - 한 문장을 읽는다\n",
    "# 4     for line as f:        - 파일 객체를 for을 이용해서 한 문장씩 출력\n",
    "#         pass"
   ]
  },
  {
   "cell_type": "code",
   "execution_count": null,
   "id": "ba2dcd00",
   "metadata": {},
   "outputs": [],
   "source": []
  },
  {
   "cell_type": "code",
   "execution_count": null,
   "id": "9b6cd406",
   "metadata": {},
   "outputs": [],
   "source": []
  },
  {
   "cell_type": "code",
   "execution_count": null,
   "id": "32a8a814",
   "metadata": {},
   "outputs": [],
   "source": []
  }
 ],
 "metadata": {
  "kernelspec": {
   "display_name": "Python 3 (ipykernel)",
   "language": "python",
   "name": "python3"
  },
  "language_info": {
   "codemirror_mode": {
    "name": "ipython",
    "version": 3
   },
   "file_extension": ".py",
   "mimetype": "text/x-python",
   "name": "python",
   "nbconvert_exporter": "python",
   "pygments_lexer": "ipython3",
   "version": "3.9.7"
  }
 },
 "nbformat": 4,
 "nbformat_minor": 5
}

{
 "cells": [
  {
   "cell_type": "code",
   "execution_count": 21,
   "id": "b7308a5f",
   "metadata": {},
   "outputs": [],
   "source": [
    "# ML\n",
    "\n",
    "# supervised - 예측모델 : 예측대상 - y,target, label\n",
    "# y : 불연속값 - classification(분류분석) : logisticregression, knnclassifier, svclassifier, decisiontreeclassifier, ensemble\n",
    "#       연속값 - regression(회귀분석) : linearrgression.knnregressor, svcregressor, decisiontreeregressor, ensemble regressor\n",
    "\n",
    "# unsupervised - 예측모델 x, 예측대상 없음 - 5%\n",
    "    # clustering(군집분석..)\n",
    "    \n",
    "# 실험할땐 분류 , 현실에 적용할땐 예측 "
   ]
  },
  {
   "cell_type": "code",
   "execution_count": null,
   "id": "0f504707",
   "metadata": {},
   "outputs": [],
   "source": [
    "# # train test split \n",
    "# # 수퍼바이즈드를 기본으로 설명하면 위에나온 알고리즘중 하나를 씀 .. 그래서 sk런에서 가져다쓸것\n",
    "# # 알고리즘을 우리가 짜는게아니라 데이터를 넣어주는것이 핵심 \n",
    "\n",
    "# data eda/preprocessing \n",
    "# > y(target), x(input) divide \n",
    "# > x_train,x_test,y_train,y_test = train_test_split(x,y)\n",
    "# > algorithm import \n",
    "# > algorithm.fit(x_train,y_train) : 모델을 학습 시 사용데이터 (train)\n",
    "# => model\n",
    "# > preds = model.predict(x_test) : 모델이 예측하고 예측결과를 평가 .. (test)\n",
    "# > preds vs y_test : test data \n",
    "\n",
    "# 파이넌스쪽에선 정제된 데이터가 계속 쏟아짐 많은데이터를 구하기 쉽지 않음. \n",
    "# 라벨링이안되있거나 데이터수가적으면 머신러닝 할 수 없음 \n",
    "# knn - k개를 몇개를 뽑느냐에따라 자세해질수도있고 단순해질수도있음. "
   ]
  },
  {
   "cell_type": "code",
   "execution_count": 22,
   "id": "28214d90",
   "metadata": {},
   "outputs": [],
   "source": []
  },
  {
   "cell_type": "code",
   "execution_count": 56,
   "id": "943237da",
   "metadata": {},
   "outputs": [],
   "source": [
    "# 판다스, 넘파이 , 매트플롯라이브러리 파이플롯 , 시본 임포트\n",
    "import pandas as pd\n",
    "import numpy as np\n",
    "import matplotlib.pyplot as plt \n",
    "import seaborn as sns "
   ]
  },
  {
   "cell_type": "code",
   "execution_count": 65,
   "id": "39ad1294",
   "metadata": {},
   "outputs": [
    {
     "data": {
      "text/html": [
       "<div>\n",
       "<style scoped>\n",
       "    .dataframe tbody tr th:only-of-type {\n",
       "        vertical-align: middle;\n",
       "    }\n",
       "\n",
       "    .dataframe tbody tr th {\n",
       "        vertical-align: top;\n",
       "    }\n",
       "\n",
       "    .dataframe thead th {\n",
       "        text-align: right;\n",
       "    }\n",
       "</style>\n",
       "<table border=\"1\" class=\"dataframe\">\n",
       "  <thead>\n",
       "    <tr style=\"text-align: right;\">\n",
       "      <th></th>\n",
       "      <th>Unnamed: 0</th>\n",
       "      <th>WTT</th>\n",
       "      <th>PTI</th>\n",
       "      <th>EQW</th>\n",
       "      <th>SBI</th>\n",
       "      <th>LQE</th>\n",
       "      <th>QWG</th>\n",
       "      <th>FDJ</th>\n",
       "      <th>PJF</th>\n",
       "      <th>HQE</th>\n",
       "      <th>NXJ</th>\n",
       "      <th>TARGET CLASS</th>\n",
       "    </tr>\n",
       "  </thead>\n",
       "  <tbody>\n",
       "    <tr>\n",
       "      <th>0</th>\n",
       "      <td>0</td>\n",
       "      <td>0.913917</td>\n",
       "      <td>1.162073</td>\n",
       "      <td>0.567946</td>\n",
       "      <td>0.755464</td>\n",
       "      <td>0.780862</td>\n",
       "      <td>0.352608</td>\n",
       "      <td>0.759697</td>\n",
       "      <td>0.643798</td>\n",
       "      <td>0.879422</td>\n",
       "      <td>1.231409</td>\n",
       "      <td>1</td>\n",
       "    </tr>\n",
       "    <tr>\n",
       "      <th>1</th>\n",
       "      <td>1</td>\n",
       "      <td>0.635632</td>\n",
       "      <td>1.003722</td>\n",
       "      <td>0.535342</td>\n",
       "      <td>0.825645</td>\n",
       "      <td>0.924109</td>\n",
       "      <td>0.648450</td>\n",
       "      <td>0.675334</td>\n",
       "      <td>1.013546</td>\n",
       "      <td>0.621552</td>\n",
       "      <td>1.492702</td>\n",
       "      <td>0</td>\n",
       "    </tr>\n",
       "    <tr>\n",
       "      <th>2</th>\n",
       "      <td>2</td>\n",
       "      <td>0.721360</td>\n",
       "      <td>1.201493</td>\n",
       "      <td>0.921990</td>\n",
       "      <td>0.855595</td>\n",
       "      <td>1.526629</td>\n",
       "      <td>0.720781</td>\n",
       "      <td>1.626351</td>\n",
       "      <td>1.154483</td>\n",
       "      <td>0.957877</td>\n",
       "      <td>1.285597</td>\n",
       "      <td>0</td>\n",
       "    </tr>\n",
       "    <tr>\n",
       "      <th>3</th>\n",
       "      <td>3</td>\n",
       "      <td>1.234204</td>\n",
       "      <td>1.386726</td>\n",
       "      <td>0.653046</td>\n",
       "      <td>0.825624</td>\n",
       "      <td>1.142504</td>\n",
       "      <td>0.875128</td>\n",
       "      <td>1.409708</td>\n",
       "      <td>1.380003</td>\n",
       "      <td>1.522692</td>\n",
       "      <td>1.153093</td>\n",
       "      <td>1</td>\n",
       "    </tr>\n",
       "    <tr>\n",
       "      <th>4</th>\n",
       "      <td>4</td>\n",
       "      <td>1.279491</td>\n",
       "      <td>0.949750</td>\n",
       "      <td>0.627280</td>\n",
       "      <td>0.668976</td>\n",
       "      <td>1.232537</td>\n",
       "      <td>0.703727</td>\n",
       "      <td>1.115596</td>\n",
       "      <td>0.646691</td>\n",
       "      <td>1.463812</td>\n",
       "      <td>1.419167</td>\n",
       "      <td>1</td>\n",
       "    </tr>\n",
       "  </tbody>\n",
       "</table>\n",
       "</div>"
      ],
      "text/plain": [
       "   Unnamed: 0       WTT       PTI       EQW       SBI       LQE       QWG  \\\n",
       "0           0  0.913917  1.162073  0.567946  0.755464  0.780862  0.352608   \n",
       "1           1  0.635632  1.003722  0.535342  0.825645  0.924109  0.648450   \n",
       "2           2  0.721360  1.201493  0.921990  0.855595  1.526629  0.720781   \n",
       "3           3  1.234204  1.386726  0.653046  0.825624  1.142504  0.875128   \n",
       "4           4  1.279491  0.949750  0.627280  0.668976  1.232537  0.703727   \n",
       "\n",
       "        FDJ       PJF       HQE       NXJ  TARGET CLASS  \n",
       "0  0.759697  0.643798  0.879422  1.231409             1  \n",
       "1  0.675334  1.013546  0.621552  1.492702             0  \n",
       "2  1.626351  1.154483  0.957877  1.285597             0  \n",
       "3  1.409708  1.380003  1.522692  1.153093             1  \n",
       "4  1.115596  0.646691  1.463812  1.419167             1  "
      ]
     },
     "execution_count": 65,
     "metadata": {},
     "output_type": "execute_result"
    }
   ],
   "source": [
    "# Classified Data 를 데이터프레임으로 읽어오기\n",
    "df = pd.read_csv('./data/ml_source_files/Classified Data', index_col= 0) # 열을 인덱스로 옮기기..\n",
    "df.head()"
   ]
  },
  {
   "cell_type": "code",
   "execution_count": 71,
   "id": "9e785b57",
   "metadata": {},
   "outputs": [],
   "source": [
    "# x,y 를 define \n",
    "y = df['TARGET CLASS']\n",
    "x = df.drop('TARGET CLASS',axis=1)"
   ]
  },
  {
   "cell_type": "code",
   "execution_count": 72,
   "id": "eca99c81",
   "metadata": {},
   "outputs": [],
   "source": [
    "# train data, test data split \n",
    "from sklearn.model_selection import train_test_split\n",
    "x_train, x_test,y_train,y_test = train_test_split(x,y, test_size=0.2, random_state = 111)"
   ]
  },
  {
   "cell_type": "code",
   "execution_count": 73,
   "id": "62f828b9",
   "metadata": {},
   "outputs": [],
   "source": [
    "# Algorithm import \n",
    "from sklearn.neighbors import KNeighborsClassifier\n",
    "knn = KNeighborsClassifier(n_neighbors=5)"
   ]
  },
  {
   "cell_type": "code",
   "execution_count": 74,
   "id": "a27519bf",
   "metadata": {},
   "outputs": [
    {
     "data": {
      "text/plain": [
       "KNeighborsClassifier()"
      ]
     },
     "execution_count": 74,
     "metadata": {},
     "output_type": "execute_result"
    }
   ],
   "source": [
    "# Algorithm train 알고리즘에게 훈련데이터(input,label)을 넣어서 데이터를 통해 학습하고\n",
    "# 결과적으로 라벨(타겟)을 분류(예측)하는 모델을 생성하는 과정 \n",
    "knn.fit(x_train, y_train)"
   ]
  },
  {
   "cell_type": "code",
   "execution_count": 79,
   "id": "1016b0cc",
   "metadata": {
    "collapsed": true
   },
   "outputs": [
    {
     "data": {
      "text/plain": [
       "array([0, 0, 0, 0, 1, 0, 0, 0, 0, 1, 0, 1, 1, 0, 1, 0, 0, 1, 0, 1, 0, 1,\n",
       "       1, 0, 1, 1, 0, 1, 1, 1, 1, 1, 1, 0, 1, 0, 1, 0, 0, 0, 0, 0, 0, 1,\n",
       "       0, 1, 0, 0, 0, 0, 1, 1, 1, 0, 1, 1, 1, 0, 1, 1, 1, 0, 1, 0, 0, 1,\n",
       "       1, 0, 1, 1, 0, 1, 1, 0, 0, 0, 1, 1, 1, 0, 0, 1, 1, 0, 1, 0, 1, 1,\n",
       "       0, 1, 0, 0, 0, 1, 1, 0, 0, 1, 0, 0, 0, 0, 0, 1, 0, 0, 0, 0, 0, 0,\n",
       "       1, 1, 0, 0, 0, 1, 1, 0, 0, 1, 1, 1, 1, 1, 1, 1, 0, 0, 1, 0, 1, 0,\n",
       "       0, 1, 0, 1, 1, 0, 0, 1, 0, 0, 1, 1, 1, 0, 0, 1, 0, 0, 1, 0, 0, 0,\n",
       "       1, 0, 0, 1, 0, 1, 1, 1, 0, 1, 1, 0, 0, 0, 1, 1, 1, 0, 1, 0, 0, 0,\n",
       "       1, 0, 1, 0, 1, 1, 0, 1, 0, 1, 1, 0, 1, 0, 1, 0, 0, 1, 1, 0, 0, 0,\n",
       "       0, 0], dtype=int64)"
      ]
     },
     "execution_count": 79,
     "metadata": {},
     "output_type": "execute_result"
    }
   ],
   "source": [
    "# prediction :훈련에 사용되지않은 새로운 데이터로 평가해야함 \n",
    "preds = knn.predict(x_test)\n",
    "preds "
   ]
  },
  {
   "cell_type": "code",
   "execution_count": 81,
   "id": "6b3ae72e",
   "metadata": {},
   "outputs": [
    {
     "data": {
      "text/plain": [
       "0.535"
      ]
     },
     "execution_count": 81,
     "metadata": {},
     "output_type": "execute_result"
    }
   ],
   "source": [
    "# evaluation : preds vs y_test \n",
    "knn.score(x_test,y_test) \n",
    "# 피쳐랑 결과값을 비교해서 스코어 내주는것 "
   ]
  },
  {
   "cell_type": "code",
   "execution_count": 82,
   "id": "7f8617ec",
   "metadata": {},
   "outputs": [
    {
     "name": "stdout",
     "output_type": "stream",
     "text": [
      "              precision    recall  f1-score   support\n",
      "\n",
      "           0       0.52      0.57      0.54        97\n",
      "           1       0.55      0.50      0.53       103\n",
      "\n",
      "    accuracy                           0.54       200\n",
      "   macro avg       0.54      0.54      0.53       200\n",
      "weighted avg       0.54      0.54      0.53       200\n",
      "\n"
     ]
    }
   ],
   "source": [
    "from sklearn.metrics import classification_report \n",
    "print(classification_report(y_test, preds))"
   ]
  },
  {
   "cell_type": "code",
   "execution_count": 84,
   "id": "8009e935",
   "metadata": {
    "collapsed": true
   },
   "outputs": [
    {
     "data": {
      "text/plain": [
       "[0.6,\n",
       " 0.5,\n",
       " 0.52,\n",
       " 0.49,\n",
       " 0.535,\n",
       " 0.505,\n",
       " 0.525,\n",
       " 0.51,\n",
       " 0.53,\n",
       " 0.525,\n",
       " 0.585,\n",
       " 0.58,\n",
       " 0.605,\n",
       " 0.57,\n",
       " 0.63,\n",
       " 0.565,\n",
       " 0.595,\n",
       " 0.585,\n",
       " 0.585,\n",
       " 0.605,\n",
       " 0.595,\n",
       " 0.605,\n",
       " 0.605,\n",
       " 0.585,\n",
       " 0.59,\n",
       " 0.58,\n",
       " 0.565,\n",
       " 0.585,\n",
       " 0.56,\n",
       " 0.555,\n",
       " 0.56,\n",
       " 0.575,\n",
       " 0.565,\n",
       " 0.555,\n",
       " 0.56,\n",
       " 0.565,\n",
       " 0.56,\n",
       " 0.575,\n",
       " 0.57,\n",
       " 0.58,\n",
       " 0.58,\n",
       " 0.55,\n",
       " 0.585,\n",
       " 0.56,\n",
       " 0.585,\n",
       " 0.565,\n",
       " 0.6,\n",
       " 0.555,\n",
       " 0.55,\n",
       " 0.555,\n",
       " 0.55,\n",
       " 0.55,\n",
       " 0.54,\n",
       " 0.555,\n",
       " 0.565,\n",
       " 0.57,\n",
       " 0.585,\n",
       " 0.575,\n",
       " 0.575,\n",
       " 0.575,\n",
       " 0.58,\n",
       " 0.565,\n",
       " 0.57,\n",
       " 0.56,\n",
       " 0.565,\n",
       " 0.555,\n",
       " 0.555,\n",
       " 0.575,\n",
       " 0.57,\n",
       " 0.61,\n",
       " 0.565,\n",
       " 0.565,\n",
       " 0.54,\n",
       " 0.545,\n",
       " 0.515,\n",
       " 0.54,\n",
       " 0.53,\n",
       " 0.57,\n",
       " 0.555,\n",
       " 0.515,\n",
       " 0.535,\n",
       " 0.525,\n",
       " 0.495,\n",
       " 0.525,\n",
       " 0.515,\n",
       " 0.54,\n",
       " 0.535,\n",
       " 0.525,\n",
       " 0.535,\n",
       " 0.53,\n",
       " 0.535,\n",
       " 0.52,\n",
       " 0.535,\n",
       " 0.52,\n",
       " 0.535,\n",
       " 0.52,\n",
       " 0.525,\n",
       " 0.515,\n",
       " 0.525]"
      ]
     },
     "execution_count": 84,
     "metadata": {},
     "output_type": "execute_result"
    }
   ],
   "source": [
    "# 가장적합한 k값 찾기\n",
    "accuracy_list = []\n",
    "for k in range(1,100):\n",
    "    knn = KNeighborsClassifier(k)\n",
    "    knn.fit(x_train,y_train)\n",
    "    acc = knn.score(x_test,y_test)\n",
    "    accuracy_list.append(acc)\n",
    "accuracy_list"
   ]
  },
  {
   "cell_type": "code",
   "execution_count": 85,
   "id": "080d31dd",
   "metadata": {},
   "outputs": [
    {
     "data": {
      "text/plain": [
       "[<matplotlib.lines.Line2D at 0x1afd21fbdc0>]"
      ]
     },
     "execution_count": 85,
     "metadata": {},
     "output_type": "execute_result"
    },
    {
     "data": {
      "image/png": "[encoded data removed]",
      "text/plain": [
       "<Figure size 432x288 with 1 Axes>"
      ]
     },
     "metadata": {
      "needs_background": "light"
     },
     "output_type": "display_data"
    }
   ],
   "source": [
    "# pyplot으로 적합한 k값 시각화\n",
    "plt.plot(accuracy_list)"
   ]
  },
  {
   "cell_type": "code",
   "execution_count": 86,
   "id": "3ee1ba6e",
   "metadata": {},
   "outputs": [
    {
     "data": {
      "text/plain": [
       "14"
      ]
     },
     "execution_count": 86,
     "metadata": {},
     "output_type": "execute_result"
    }
   ],
   "source": [
    "# axis에 해당하는 값들 중 가장 큰 값의 인덱스들을 반환하는 함수\n",
    "np.array(accuracy_list).argmax()"
   ]
  },
  {
   "cell_type": "code",
   "execution_count": 87,
   "id": "1bef3c43",
   "metadata": {},
   "outputs": [
    {
     "name": "stdout",
     "output_type": "stream",
     "text": [
      "              precision    recall  f1-score   support\n",
      "\n",
      "           0       0.54      0.69      0.61        97\n",
      "           1       0.61      0.46      0.52       103\n",
      "\n",
      "    accuracy                           0.57       200\n",
      "   macro avg       0.58      0.57      0.57       200\n",
      "weighted avg       0.58      0.57      0.56       200\n",
      "\n"
     ]
    }
   ],
   "source": [
    "#ㄱ가장 적합한 k값으로 분류하기 \n",
    "knn = KNeighborsClassifier(n_neighbors=14)\n",
    "knn.fit(x_train,y_train)\n",
    "preds = knn.predict(x_test)\n",
    "print(classification_report(y_test,preds))"
   ]
  },
  {
   "cell_type": "code",
   "execution_count": null,
   "id": "79333958",
   "metadata": {},
   "outputs": [],
   "source": []
  },
  {
   "cell_type": "code",
   "execution_count": null,
   "id": "e51c1dac",
   "metadata": {},
   "outputs": [],
   "source": []
  },
  {
   "cell_type": "code",
   "execution_count": null,
   "id": "ca9777b0",
   "metadata": {},
   "outputs": [],
   "source": []
  },
  {
   "cell_type": "code",
   "execution_count": null,
   "id": "94722f6c",
   "metadata": {},
   "outputs": [],
   "source": []
  },
  {
   "cell_type": "code",
   "execution_count": null,
   "id": "675ec62e",
   "metadata": {},
   "outputs": [],
   "source": []
  },
  {
   "cell_type": "code",
   "execution_count": null,
   "id": "e2e5f15f",
   "metadata": {},
   "outputs": [],
   "source": []
  },
  {
   "cell_type": "code",
   "execution_count": null,
   "id": "51f5e96c",
   "metadata": {},
   "outputs": [],
   "source": []
  },
  {
   "cell_type": "code",
   "execution_count": null,
   "id": "38dcca6b",
   "metadata": {},
   "outputs": [],
   "source": []
  },
  {
   "cell_type": "code",
   "execution_count": null,
   "id": "afe0856c",
   "metadata": {},
   "outputs": [],
   "source": []
  },
  {
   "cell_type": "code",
   "execution_count": null,
   "id": "18b9bc1e",
   "metadata": {},
   "outputs": [],
   "source": []
  },
  {
   "cell_type": "code",
   "execution_count": null,
   "id": "4b9dfd59",
   "metadata": {},
   "outputs": [],
   "source": []
  },
  {
   "cell_type": "code",
   "execution_count": null,
   "id": "3f4d1a61",
   "metadata": {},
   "outputs": [],
   "source": []
  },
  {
   "cell_type": "code",
   "execution_count": null,
   "id": "baf211d1",
   "metadata": {},
   "outputs": [],
   "source": []
  },
  {
   "cell_type": "code",
   "execution_count": null,
   "id": "cc58faf7",
   "metadata": {},
   "outputs": [],
   "source": []
  },
  {
   "cell_type": "code",
   "execution_count": null,
   "id": "3de0c888",
   "metadata": {},
   "outputs": [],
   "source": []
  },
  {
   "cell_type": "code",
   "execution_count": 51,
   "id": "c3750a7d",
   "metadata": {},
   "outputs": [],
   "source": []
  },
  {
   "cell_type": "code",
   "execution_count": 25,
   "id": "93d98a24",
   "metadata": {},
   "outputs": [],
   "source": [
    "# binary classification "
   ]
  },
  {
   "cell_type": "code",
   "execution_count": 26,
   "id": "76fbfaad",
   "metadata": {},
   "outputs": [],
   "source": [
    "# x,y를 define"
   ]
  },
  {
   "cell_type": "code",
   "execution_count": 27,
   "id": "94a0f270",
   "metadata": {},
   "outputs": [],
   "source": [
    "y = df['TARGET CLASS']\n",
    "x = df.drop('TARGET CLASS', axis =1)"
   ]
  },
  {
   "cell_type": "code",
   "execution_count": null,
   "id": "c5cffdea",
   "metadata": {},
   "outputs": [],
   "source": []
  },
  {
   "cell_type": "code",
   "execution_count": 28,
   "id": "a8506c2b",
   "metadata": {},
   "outputs": [],
   "source": [
    "# train data , test data split "
   ]
  },
  {
   "cell_type": "code",
   "execution_count": 29,
   "id": "a8e9e114",
   "metadata": {},
   "outputs": [],
   "source": [
    "from sklearn.model_selection import train_test_split \n",
    "x_train,x_test,y_train,y_test = train_test_split(x,y, test_size =0.2,random_state=77)"
   ]
  },
  {
   "cell_type": "code",
   "execution_count": null,
   "id": "6c7c08ae",
   "metadata": {},
   "outputs": [],
   "source": []
  },
  {
   "cell_type": "code",
   "execution_count": 30,
   "id": "beb071ee",
   "metadata": {},
   "outputs": [],
   "source": [
    "# Algorithm import "
   ]
  },
  {
   "cell_type": "code",
   "execution_count": 31,
   "id": "9938e52c",
   "metadata": {},
   "outputs": [],
   "source": [
    "from sklearn.neighbors import KNeighborsClassifier\n",
    "knn = KNeighborsClassifier(n_neighbors=3)"
   ]
  },
  {
   "cell_type": "code",
   "execution_count": null,
   "id": "df3679ec",
   "metadata": {},
   "outputs": [],
   "source": []
  },
  {
   "cell_type": "code",
   "execution_count": 32,
   "id": "39bcd5b2",
   "metadata": {},
   "outputs": [],
   "source": [
    "# Algorithm train  : \n",
    "# 알고리즘에게 훈련데이터(input, label)를 넣어서 알고리즘이 데이터를 통해 학습하고 \n",
    "# 결과적으로 데이터를 통해 라벨(타겟)을 분류(예측)하는 모델을 생성하는 과정 "
   ]
  },
  {
   "cell_type": "code",
   "execution_count": 33,
   "id": "7440566e",
   "metadata": {},
   "outputs": [
    {
     "data": {
      "text/plain": [
       "KNeighborsClassifier(n_neighbors=3)"
      ]
     },
     "execution_count": 33,
     "metadata": {},
     "output_type": "execute_result"
    }
   ],
   "source": [
    "knn.fit(x_train, y_train)"
   ]
  },
  {
   "cell_type": "code",
   "execution_count": 34,
   "id": "acdda3cb",
   "metadata": {},
   "outputs": [],
   "source": [
    "# prediction : 훈련에 사용되지 않은 새로운 데이터로 평가해야 "
   ]
  },
  {
   "cell_type": "code",
   "execution_count": 35,
   "id": "6f8dc78c",
   "metadata": {},
   "outputs": [],
   "source": [
    "preds = knn.predict(x_test) "
   ]
  },
  {
   "cell_type": "code",
   "execution_count": null,
   "id": "53429dd4",
   "metadata": {},
   "outputs": [],
   "source": []
  },
  {
   "cell_type": "code",
   "execution_count": 36,
   "id": "542ad6f9",
   "metadata": {},
   "outputs": [],
   "source": [
    "# evaluation : preds vs y_test"
   ]
  },
  {
   "cell_type": "code",
   "execution_count": 37,
   "id": "ae222bcd",
   "metadata": {},
   "outputs": [
    {
     "data": {
      "text/plain": [
       "0.96"
      ]
     },
     "execution_count": 37,
     "metadata": {},
     "output_type": "execute_result"
    }
   ],
   "source": [
    "knn.score(x_test,y_test) # preds를 안넣고 x_test를 넣으면 predict해서 score넣어줌"
   ]
  },
  {
   "cell_type": "code",
   "execution_count": 38,
   "id": "d32c0caf",
   "metadata": {},
   "outputs": [
    {
     "name": "stdout",
     "output_type": "stream",
     "text": [
      "              precision    recall  f1-score   support\n",
      "\n",
      "           0       0.97      0.95      0.96       101\n",
      "           1       0.95      0.97      0.96        99\n",
      "\n",
      "    accuracy                           0.96       200\n",
      "   macro avg       0.96      0.96      0.96       200\n",
      "weighted avg       0.96      0.96      0.96       200\n",
      "\n"
     ]
    }
   ],
   "source": [
    "from sklearn.metrics import classification_report\n",
    "print(classification_report(y_test, preds))"
   ]
  },
  {
   "cell_type": "code",
   "execution_count": null,
   "id": "5c670454",
   "metadata": {},
   "outputs": [],
   "source": []
  },
  {
   "cell_type": "code",
   "execution_count": null,
   "id": "b408af0d",
   "metadata": {},
   "outputs": [],
   "source": []
  },
  {
   "cell_type": "code",
   "execution_count": 39,
   "id": "fd5a22a7",
   "metadata": {},
   "outputs": [],
   "source": [
    "# k =? 최적의 파라미터값, k값을 찾아보자 "
   ]
  },
  {
   "cell_type": "code",
   "execution_count": 88,
   "id": "4959b591",
   "metadata": {
    "collapsed": true
   },
   "outputs": [
    {
     "data": {
      "text/plain": [
       "[0.6,\n",
       " 0.5,\n",
       " 0.52,\n",
       " 0.49,\n",
       " 0.535,\n",
       " 0.505,\n",
       " 0.525,\n",
       " 0.51,\n",
       " 0.53,\n",
       " 0.525,\n",
       " 0.585,\n",
       " 0.58,\n",
       " 0.605,\n",
       " 0.57,\n",
       " 0.63,\n",
       " 0.565,\n",
       " 0.595,\n",
       " 0.585,\n",
       " 0.585,\n",
       " 0.605,\n",
       " 0.595,\n",
       " 0.605,\n",
       " 0.605,\n",
       " 0.585,\n",
       " 0.59,\n",
       " 0.58,\n",
       " 0.565,\n",
       " 0.585,\n",
       " 0.56,\n",
       " 0.555,\n",
       " 0.56,\n",
       " 0.575,\n",
       " 0.565,\n",
       " 0.555,\n",
       " 0.56,\n",
       " 0.565,\n",
       " 0.56,\n",
       " 0.575,\n",
       " 0.57,\n",
       " 0.58,\n",
       " 0.58,\n",
       " 0.55,\n",
       " 0.585,\n",
       " 0.56,\n",
       " 0.585,\n",
       " 0.565,\n",
       " 0.6,\n",
       " 0.555,\n",
       " 0.55,\n",
       " 0.555,\n",
       " 0.55,\n",
       " 0.55,\n",
       " 0.54,\n",
       " 0.555,\n",
       " 0.565,\n",
       " 0.57,\n",
       " 0.585,\n",
       " 0.575,\n",
       " 0.575,\n",
       " 0.575,\n",
       " 0.58,\n",
       " 0.565,\n",
       " 0.57,\n",
       " 0.56,\n",
       " 0.565,\n",
       " 0.555,\n",
       " 0.555,\n",
       " 0.575,\n",
       " 0.57,\n",
       " 0.61,\n",
       " 0.565,\n",
       " 0.565,\n",
       " 0.54,\n",
       " 0.545,\n",
       " 0.515,\n",
       " 0.54,\n",
       " 0.53,\n",
       " 0.57,\n",
       " 0.555,\n",
       " 0.515,\n",
       " 0.535,\n",
       " 0.525,\n",
       " 0.495,\n",
       " 0.525,\n",
       " 0.515,\n",
       " 0.54,\n",
       " 0.535,\n",
       " 0.525,\n",
       " 0.535,\n",
       " 0.53,\n",
       " 0.535,\n",
       " 0.52,\n",
       " 0.535,\n",
       " 0.52,\n",
       " 0.535,\n",
       " 0.52,\n",
       " 0.525,\n",
       " 0.515,\n",
       " 0.525]"
      ]
     },
     "execution_count": 88,
     "metadata": {},
     "output_type": "execute_result"
    }
   ],
   "source": [
    "accuracy_list = []\n",
    "for k in range(1,100):\n",
    "    knn = KNeighborsClassifier(k)\n",
    "    knn.fit(x_train, y_train)\n",
    "    acc = knn.score(x_test,y_test)\n",
    "    accuracy_list.append(acc)\n",
    "    \n",
    "accuracy_list"
   ]
  },
  {
   "cell_type": "code",
   "execution_count": 48,
   "id": "76ec9dde",
   "metadata": {},
   "outputs": [
    {
     "ename": "NameError",
     "evalue": "name 'accruacy_list' is not defined",
     "output_type": "error",
     "traceback": [
      "\u001b[1;31m---------------------------------------------------------------------------\u001b[0m",
      "\u001b[1;31mNameError\u001b[0m                                 Traceback (most recent call last)",
      "\u001b[1;32m~\\AppData\\Local\\Temp/ipykernel_17604/1613588869.py\u001b[0m in \u001b[0;36m<module>\u001b[1;34m\u001b[0m\n\u001b[1;32m----> 1\u001b[1;33m \u001b[0mplt\u001b[0m\u001b[1;33m.\u001b[0m\u001b[0mplot\u001b[0m\u001b[1;33m(\u001b[0m\u001b[0maccruacy_list\u001b[0m\u001b[1;33m)\u001b[0m\u001b[1;33m\u001b[0m\u001b[1;33m\u001b[0m\u001b[0m\n\u001b[0m",
      "\u001b[1;31mNameError\u001b[0m: name 'accruacy_list' is not defined"
     ]
    }
   ],
   "source": [
    "plt.plot(accruacy_list)"
   ]
  },
  {
   "cell_type": "code",
   "execution_count": 49,
   "id": "9fee5ad7",
   "metadata": {},
   "outputs": [
    {
     "data": {
      "text/plain": [
       "array(0.91)"
      ]
     },
     "execution_count": 49,
     "metadata": {},
     "output_type": "execute_result"
    }
   ],
   "source": [
    "np.array(accuracy_list)"
   ]
  },
  {
   "cell_type": "code",
   "execution_count": 50,
   "id": "46d2f651",
   "metadata": {},
   "outputs": [
    {
     "ename": "NameError",
     "evalue": "name 'KneighborsClassifier' is not defined",
     "output_type": "error",
     "traceback": [
      "\u001b[1;31m---------------------------------------------------------------------------\u001b[0m",
      "\u001b[1;31mNameError\u001b[0m                                 Traceback (most recent call last)",
      "\u001b[1;32m~\\AppData\\Local\\Temp/ipykernel_17604/1908225374.py\u001b[0m in \u001b[0;36m<module>\u001b[1;34m\u001b[0m\n\u001b[1;32m----> 1\u001b[1;33m \u001b[0mknn\u001b[0m \u001b[1;33m=\u001b[0m \u001b[0mKneighborsClassifier\u001b[0m\u001b[1;33m(\u001b[0m\u001b[0mn_neighbors\u001b[0m\u001b[1;33m=\u001b[0m\u001b[1;36m10\u001b[0m\u001b[1;33m)\u001b[0m\u001b[1;33m\u001b[0m\u001b[1;33m\u001b[0m\u001b[0m\n\u001b[0m\u001b[0;32m      2\u001b[0m \u001b[0mknn\u001b[0m\u001b[1;33m.\u001b[0m\u001b[0mfit\u001b[0m\u001b[1;33m(\u001b[0m\u001b[0mx_train\u001b[0m\u001b[1;33m,\u001b[0m\u001b[0my_train\u001b[0m\u001b[1;33m)\u001b[0m\u001b[1;33m\u001b[0m\u001b[1;33m\u001b[0m\u001b[0m\n\u001b[0;32m      3\u001b[0m \u001b[0mpreds\u001b[0m \u001b[1;33m=\u001b[0m \u001b[0mknn\u001b[0m\u001b[1;33m.\u001b[0m\u001b[0mpredict\u001b[0m\u001b[1;33m(\u001b[0m\u001b[0mx_test\u001b[0m\u001b[1;33m)\u001b[0m\u001b[1;33m\u001b[0m\u001b[1;33m\u001b[0m\u001b[0m\n\u001b[0;32m      4\u001b[0m \u001b[0mprint\u001b[0m\u001b[1;33m(\u001b[0m\u001b[0mclassification_report\u001b[0m\u001b[1;33m(\u001b[0m\u001b[0my_test\u001b[0m\u001b[1;33m,\u001b[0m \u001b[0mpreds\u001b[0m\u001b[1;33m)\u001b[0m\u001b[1;33m)\u001b[0m\u001b[1;33m\u001b[0m\u001b[1;33m\u001b[0m\u001b[0m\n",
      "\u001b[1;31mNameError\u001b[0m: name 'KneighborsClassifier' is not defined"
     ]
    }
   ],
   "source": [
    "knn = KneighborsClassifier(n_neighbors=10)\n",
    "knn.fit(x_train,y_train)\n",
    "preds = knn.predict(x_test)\n",
    "print(classification_report(y_test, preds))"
   ]
  },
  {
   "cell_type": "code",
   "execution_count": null,
   "id": "e9eaf979",
   "metadata": {},
   "outputs": [],
   "source": []
  },
  {
   "cell_type": "code",
   "execution_count": null,
   "id": "8447fcd2",
   "metadata": {},
   "outputs": [],
   "source": []
  },
  {
   "cell_type": "code",
   "execution_count": null,
   "id": "01a5805c",
   "metadata": {},
   "outputs": [],
   "source": []
  },
  {
   "cell_type": "code",
   "execution_count": null,
   "id": "a50edb00",
   "metadata": {},
   "outputs": [],
   "source": []
  },
  {
   "cell_type": "code",
   "execution_count": null,
   "id": "944b8fc5",
   "metadata": {},
   "outputs": [],
   "source": []
  },
  {
   "cell_type": "code",
   "execution_count": null,
   "id": "de7c7870",
   "metadata": {},
   "outputs": [],
   "source": []
  },
  {
   "cell_type": "code",
   "execution_count": null,
   "id": "1afeb4f4",
   "metadata": {},
   "outputs": [],
   "source": []
  },
  {
   "cell_type": "code",
   "execution_count": null,
   "id": "9aaa062d",
   "metadata": {},
   "outputs": [],
   "source": []
  }
 ],
 "metadata": {
  "kernelspec": {
   "display_name": "Python 3 (ipykernel)",
   "language": "python",
   "name": "python3"
  },
  "language_info": {
   "codemirror_mode": {
    "name": "ipython",
    "version": 3
   },
   "file_extension": ".py",
   "mimetype": "text/x-python",
   "name": "python",
   "nbconvert_exporter": "python",
   "pygments_lexer": "ipython3",
   "version": "3.9.7"
  }
 },
 "nbformat": 4,
 "nbformat_minor": 5
}

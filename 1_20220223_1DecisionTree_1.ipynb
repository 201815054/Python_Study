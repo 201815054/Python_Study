{
 "cells": [
  {
   "cell_type": "code",
   "execution_count": 19,
   "id": "073f7bb4",
   "metadata": {},
   "outputs": [],
   "source": [
    "import pandas as pd \n",
    "import numpy as np\n",
    "import matplotlib.pyplot as plt\n",
    "import seaborn as sns"
   ]
  },
  {
   "cell_type": "code",
   "execution_count": 20,
   "id": "363c4e03",
   "metadata": {},
   "outputs": [
    {
     "data": {
      "text/html": [
       "<div>\n",
       "<style scoped>\n",
       "    .dataframe tbody tr th:only-of-type {\n",
       "        vertical-align: middle;\n",
       "    }\n",
       "\n",
       "    .dataframe tbody tr th {\n",
       "        vertical-align: top;\n",
       "    }\n",
       "\n",
       "    .dataframe thead th {\n",
       "        text-align: right;\n",
       "    }\n",
       "</style>\n",
       "<table border=\"1\" class=\"dataframe\">\n",
       "  <thead>\n",
       "    <tr style=\"text-align: right;\">\n",
       "      <th></th>\n",
       "      <th>Kyphosis</th>\n",
       "      <th>Age</th>\n",
       "      <th>Number</th>\n",
       "      <th>Start</th>\n",
       "    </tr>\n",
       "  </thead>\n",
       "  <tbody>\n",
       "    <tr>\n",
       "      <th>0</th>\n",
       "      <td>absent</td>\n",
       "      <td>71</td>\n",
       "      <td>3</td>\n",
       "      <td>5</td>\n",
       "    </tr>\n",
       "    <tr>\n",
       "      <th>1</th>\n",
       "      <td>absent</td>\n",
       "      <td>158</td>\n",
       "      <td>3</td>\n",
       "      <td>14</td>\n",
       "    </tr>\n",
       "    <tr>\n",
       "      <th>2</th>\n",
       "      <td>present</td>\n",
       "      <td>128</td>\n",
       "      <td>4</td>\n",
       "      <td>5</td>\n",
       "    </tr>\n",
       "    <tr>\n",
       "      <th>3</th>\n",
       "      <td>absent</td>\n",
       "      <td>2</td>\n",
       "      <td>5</td>\n",
       "      <td>1</td>\n",
       "    </tr>\n",
       "    <tr>\n",
       "      <th>4</th>\n",
       "      <td>absent</td>\n",
       "      <td>1</td>\n",
       "      <td>4</td>\n",
       "      <td>15</td>\n",
       "    </tr>\n",
       "  </tbody>\n",
       "</table>\n",
       "</div>"
      ],
      "text/plain": [
       "  Kyphosis  Age  Number  Start\n",
       "0   absent   71       3      5\n",
       "1   absent  158       3     14\n",
       "2  present  128       4      5\n",
       "3   absent    2       5      1\n",
       "4   absent    1       4     15"
      ]
     },
     "execution_count": 20,
     "metadata": {},
     "output_type": "execute_result"
    }
   ],
   "source": [
    "df = pd.read_csv('data/ml_source_files/Kyphosis.csv')\n",
    "df.head()"
   ]
  },
  {
   "cell_type": "code",
   "execution_count": 21,
   "id": "663a5cff",
   "metadata": {},
   "outputs": [],
   "source": [
    "# Kyphosis 질병유무 \n",
    "# age - 기간, number - 신체숫자값 , start - 증상 시작 시점 .. "
   ]
  },
  {
   "cell_type": "code",
   "execution_count": 22,
   "id": "9ed2daf5",
   "metadata": {},
   "outputs": [],
   "source": [
    "y = df['Kyphosis'] # 예측대상, target, label,y \n",
    "x = df.drop(['Kyphosis'],axis=1)  #input "
   ]
  },
  {
   "cell_type": "code",
   "execution_count": 23,
   "id": "2006c9d4",
   "metadata": {},
   "outputs": [],
   "source": [
    "# 데이터가 있으면 인풋값과 라벨이있어야함 y= 정답 그래야 트레인할수있음. "
   ]
  },
  {
   "cell_type": "code",
   "execution_count": 24,
   "id": "0cedc9ea",
   "metadata": {},
   "outputs": [
    {
     "name": "stdout",
     "output_type": "stream",
     "text": [
      "<class 'pandas.core.frame.DataFrame'>\n",
      "RangeIndex: 81 entries, 0 to 80\n",
      "Data columns (total 4 columns):\n",
      " #   Column    Non-Null Count  Dtype \n",
      "---  ------    --------------  ----- \n",
      " 0   Kyphosis  81 non-null     object\n",
      " 1   Age       81 non-null     int64 \n",
      " 2   Number    81 non-null     int64 \n",
      " 3   Start     81 non-null     int64 \n",
      "dtypes: int64(3), object(1)\n",
      "memory usage: 2.7+ KB\n"
     ]
    }
   ],
   "source": [
    "df.info() #머신러닝돌리기에 너무 작은양의 데이터.. (양질의데이터가많아야함..)\n",
    "#근데 최근에는 스몰데이터를 갖고도 잘 할수있다는말이있음..(?)"
   ]
  },
  {
   "cell_type": "code",
   "execution_count": 25,
   "id": "17f1acae",
   "metadata": {},
   "outputs": [],
   "source": [
    "# train test data split \n",
    "from sklearn.model_selection import train_test_split\n",
    "x_train, x_test, y_train, y_test = train_test_split(x,y, test_size =0.2, random_state=111)"
   ]
  },
  {
   "cell_type": "code",
   "execution_count": 26,
   "id": "d1ad5b91",
   "metadata": {},
   "outputs": [],
   "source": [
    "# algorithm improt \n",
    "from sklearn.tree import DecisionTreeClassifier\n",
    "tree = DecisionTreeClassifier()"
   ]
  },
  {
   "cell_type": "code",
   "execution_count": null,
   "id": "f8427a72",
   "metadata": {},
   "outputs": [],
   "source": []
  },
  {
   "cell_type": "code",
   "execution_count": 27,
   "id": "ff4411be",
   "metadata": {},
   "outputs": [],
   "source": [
    "# algorithm train (트레인할땐 트레인데이터사용)"
   ]
  },
  {
   "cell_type": "code",
   "execution_count": 28,
   "id": "7ed7a0f2",
   "metadata": {},
   "outputs": [
    {
     "data": {
      "text/plain": [
       "DecisionTreeClassifier()"
      ]
     },
     "execution_count": 28,
     "metadata": {},
     "output_type": "execute_result"
    }
   ],
   "source": [
    "tree.fit(x_train,y_train)"
   ]
  },
  {
   "cell_type": "code",
   "execution_count": null,
   "id": "e3c8d3c9",
   "metadata": {},
   "outputs": [],
   "source": []
  },
  {
   "cell_type": "code",
   "execution_count": 29,
   "id": "d48c6eb1",
   "metadata": {},
   "outputs": [],
   "source": [
    "# model prediction "
   ]
  },
  {
   "cell_type": "code",
   "execution_count": 30,
   "id": "b7717e86",
   "metadata": {},
   "outputs": [],
   "source": [
    "preds = tree.predict(x_test)"
   ]
  },
  {
   "cell_type": "code",
   "execution_count": null,
   "id": "b56570c4",
   "metadata": {},
   "outputs": [],
   "source": []
  },
  {
   "cell_type": "code",
   "execution_count": null,
   "id": "1bb0332d",
   "metadata": {},
   "outputs": [],
   "source": []
  },
  {
   "cell_type": "code",
   "execution_count": 31,
   "id": "4b94658a",
   "metadata": {},
   "outputs": [],
   "source": [
    "# 분류모델에선 컨퓨전매트릭스를 통해 평가지표를 사용 \n",
    "# model evaluation \n",
    "# classification evaluation : accuracy, precision, recall, f1_score, roc_score"
   ]
  },
  {
   "cell_type": "code",
   "execution_count": 32,
   "id": "01b0e710",
   "metadata": {},
   "outputs": [
    {
     "name": "stdout",
     "output_type": "stream",
     "text": [
      "              precision    recall  f1-score   support\n",
      "\n",
      "      absent       1.00      0.88      0.93        16\n",
      "     present       0.33      1.00      0.50         1\n",
      "\n",
      "    accuracy                           0.88        17\n",
      "   macro avg       0.67      0.94      0.72        17\n",
      "weighted avg       0.96      0.88      0.91        17\n",
      "\n"
     ]
    }
   ],
   "source": [
    "from sklearn.metrics import classification_report,precision_score, recall_score,f1_score\n",
    "print(classification_report(y_test,preds))\n",
    "#y_test의 실제값, 모델이 예측한값을 넣어서 비교해서 성과를 봄 "
   ]
  },
  {
   "cell_type": "code",
   "execution_count": null,
   "id": "8ba3ac62",
   "metadata": {},
   "outputs": [],
   "source": []
  },
  {
   "cell_type": "code",
   "execution_count": 45,
   "id": "dd5e2dc8",
   "metadata": {},
   "outputs": [],
   "source": [
    "from sklearn.tree import plot_tree #인사이트를 뽑긴힘들지만 그림을 그려볼수있는 장점이있음"
   ]
  },
  {
   "cell_type": "code",
   "execution_count": 49,
   "id": "873dc5b9",
   "metadata": {},
   "outputs": [
    {
     "data": {
      "text/plain": [
       "<function matplotlib.pyplot.show(close=None, block=None)>"
      ]
     },
     "execution_count": 49,
     "metadata": {},
     "output_type": "execute_result"
    },
    {
     "data": {
      "image/png": "[encoded data removed]",
      "text/plain": [
       "<Figure size 720x504 with 1 Axes>"
      ]
     },
     "metadata": {
      "needs_background": "light"
     },
     "output_type": "display_data"
    }
   ],
   "source": [
    "plt.figure(figsize=(10,7))\n",
    "plot_tree(tree)\n",
    "plt.show"
   ]
  },
  {
   "cell_type": "code",
   "execution_count": null,
   "id": "8a168a37",
   "metadata": {},
   "outputs": [],
   "source": []
  },
  {
   "cell_type": "code",
   "execution_count": 33,
   "id": "2b6bd1af",
   "metadata": {},
   "outputs": [],
   "source": [
    "# ensemble : RandomForest"
   ]
  },
  {
   "cell_type": "code",
   "execution_count": 36,
   "id": "58315773",
   "metadata": {},
   "outputs": [],
   "source": [
    "from sklearn.ensemble import RandomForestClassifier\n",
    "rfc = RandomForestClassifier(n_estimators= 500)"
   ]
  },
  {
   "cell_type": "code",
   "execution_count": 38,
   "id": "02703007",
   "metadata": {},
   "outputs": [
    {
     "name": "stdout",
     "output_type": "stream",
     "text": [
      "              precision    recall  f1-score   support\n",
      "\n",
      "      absent       1.00      0.94      0.97        16\n",
      "     present       0.50      1.00      0.67         1\n",
      "\n",
      "    accuracy                           0.94        17\n",
      "   macro avg       0.75      0.97      0.82        17\n",
      "weighted avg       0.97      0.94      0.95        17\n",
      "\n"
     ]
    }
   ],
   "source": [
    "rfc.fit(x_train,y_train)\n",
    "preds_rfc = rfc.predict(x_test)\n",
    "print(classification_report(y_test,preds_rfc))"
   ]
  },
  {
   "cell_type": "code",
   "execution_count": 41,
   "id": "4cfcf21c",
   "metadata": {},
   "outputs": [
    {
     "data": {
      "text/plain": [
       "Index(['Kyphosis', 'Age', 'Number', 'Start'], dtype='object')"
      ]
     },
     "execution_count": 41,
     "metadata": {},
     "output_type": "execute_result"
    }
   ],
   "source": [
    "df.columns"
   ]
  },
  {
   "cell_type": "code",
   "execution_count": 42,
   "id": "b6cbd318",
   "metadata": {},
   "outputs": [
    {
     "data": {
      "text/plain": [
       "array([0.45495338, 0.06666667, 0.47837995])"
      ]
     },
     "execution_count": 42,
     "metadata": {},
     "output_type": "execute_result"
    }
   ],
   "source": [
    "tree.feature_importances_ #각 피쳐가 얼마나 중요한지 피쳐값을 알려줌"
   ]
  },
  {
   "cell_type": "code",
   "execution_count": 43,
   "id": "426c9a6f",
   "metadata": {},
   "outputs": [
    {
     "data": {
      "text/plain": [
       "array([0.3665628, 0.2519109, 0.3815263])"
      ]
     },
     "execution_count": 43,
     "metadata": {},
     "output_type": "execute_result"
    }
   ],
   "source": [
    "rfc.feature_importances_ # start가 가장 중요하다고 알려주고있음.. "
   ]
  },
  {
   "cell_type": "code",
   "execution_count": null,
   "id": "102cd472",
   "metadata": {},
   "outputs": [],
   "source": []
  },
  {
   "cell_type": "code",
   "execution_count": null,
   "id": "b189d485",
   "metadata": {},
   "outputs": [],
   "source": []
  },
  {
   "cell_type": "code",
   "execution_count": null,
   "id": "ce8072d7",
   "metadata": {},
   "outputs": [],
   "source": []
  },
  {
   "cell_type": "code",
   "execution_count": null,
   "id": "3153a551",
   "metadata": {},
   "outputs": [],
   "source": []
  },
  {
   "cell_type": "code",
   "execution_count": null,
   "id": "6487bf8a",
   "metadata": {},
   "outputs": [],
   "source": []
  },
  {
   "cell_type": "code",
   "execution_count": null,
   "id": "09491f57",
   "metadata": {},
   "outputs": [],
   "source": []
  }
 ],
 "metadata": {
  "kernelspec": {
   "display_name": "Python 3 (ipykernel)",
   "language": "python",
   "name": "python3"
  },
  "language_info": {
   "codemirror_mode": {
    "name": "ipython",
    "version": 3
   },
   "file_extension": ".py",
   "mimetype": "text/x-python",
   "name": "python",
   "nbconvert_exporter": "python",
   "pygments_lexer": "ipython3",
   "version": "3.9.7"
  }
 },
 "nbformat": 4,
 "nbformat_minor": 5
}
